{
 "cells": [
  {
   "cell_type": "markdown",
   "id": "511f22b8",
   "metadata": {},
   "source": [
    "# Install"
   ]
  },
  {
   "cell_type": "code",
   "execution_count": 1,
   "id": "cf86111d-aeea-490b-9cb9-19ec630649f3",
   "metadata": {},
   "outputs": [],
   "source": [
    "!pip install wandb > /dev/null\n",
    "!pip install tqdm > /dev/null\n",
    "!pip install trl > /dev/null"
   ]
  },
  {
   "cell_type": "code",
   "execution_count": 2,
   "id": "d74bb55b",
   "metadata": {},
   "outputs": [],
   "source": [
    "%load_ext autoreload\n",
    "%autoreload 2"
   ]
  },
  {
   "cell_type": "code",
   "execution_count": 3,
   "id": "744c20eb-f754-494d-aecb-75ba96a33f76",
   "metadata": {},
   "outputs": [
    {
     "name": "stdout",
     "output_type": "stream",
     "text": [
      "Mon Dec 13 17:13:17 2021       \n",
      "+-----------------------------------------------------------------------------+\n",
      "| NVIDIA-SMI 460.73.01    Driver Version: 460.73.01    CUDA Version: 11.2     |\n",
      "|-------------------------------+----------------------+----------------------+\n",
      "| GPU  Name        Persistence-M| Bus-Id        Disp.A | Volatile Uncorr. ECC |\n",
      "| Fan  Temp  Perf  Pwr:Usage/Cap|         Memory-Usage | GPU-Util  Compute M. |\n",
      "|                               |                      |               MIG M. |\n",
      "|===============================+======================+======================|\n",
      "|   0  A100-SXM4-40GB      Off  | 00000000:00:04.0 Off |                    0 |\n",
      "| N/A   33C    P0    56W / 350W |      3MiB / 40536MiB |      0%      Default |\n",
      "|                               |                      |             Disabled |\n",
      "+-------------------------------+----------------------+----------------------+\n",
      "                                                                               \n",
      "+-----------------------------------------------------------------------------+\n",
      "| Processes:                                                                  |\n",
      "|  GPU   GI   CI        PID   Type   Process name                  GPU Memory |\n",
      "|        ID   ID                                                   Usage      |\n",
      "|=============================================================================|\n",
      "|  No running processes found                                                 |\n",
      "+-----------------------------------------------------------------------------+\n"
     ]
    }
   ],
   "source": [
    "!nvidia-smi"
   ]
  },
  {
   "cell_type": "markdown",
   "id": "13062768-63d8-4687-a604-060223ef1c80",
   "metadata": {},
   "source": [
    "# Imports"
   ]
  },
  {
   "cell_type": "code",
   "execution_count": 4,
   "id": "a53b99ee",
   "metadata": {},
   "outputs": [],
   "source": [
    "import torch\n",
    "import wandb\n",
    "import time\n",
    "import os\n",
    "from tqdm import tqdm\n",
    "import numpy as np\n",
    "import pandas as pd\n",
    "from random import choices\n",
    "import matplotlib.pyplot as plt\n",
    "tqdm.pandas()\n",
    "\n",
    "from transformers import GPT2Tokenizer\n",
    "from transformers import AutoModelForSequenceClassification, AutoTokenizer\n",
    "\n",
    "from trl.gpt2 import GPT2HeadWithValueModel, respond_to_batch\n",
    "from trl.ppo import PPOTrainer\n",
    "from trl.core import build_bert_batch_from_txt\n",
    "pd.set_option('display.max_rows', 500)\n",
    "pd.set_option('display.max_columns', 500)\n",
    "pd.set_option('display.width', 1000)"
   ]
  },
  {
   "cell_type": "markdown",
   "id": "6f3e1945",
   "metadata": {},
   "source": [
    "# Configuration"
   ]
  },
  {
   "cell_type": "code",
   "execution_count": 5,
   "id": "9cfca09c",
   "metadata": {},
   "outputs": [],
   "source": [
    "config = {\n",
    "    \"lm_name\": \"mofawzy/argpt2-goodreads\",\n",
    "    \"ref_lm_name\": \"mofawzy/argpt2-goodreads\",\n",
    "    \"cls_model_name\": \"mofawzy/arbert-goodreads\",\n",
    "    \"tk_name\": \"gpt2-medium\",\n",
    "    \"steps\": 51200,\n",
    "    \"batch_size\": 256,\n",
    "    \"forward_batch_size\": 32,\n",
    "    \"ppo_epochs\": 4,   \n",
    "    \"txt_in_len\": 30,\n",
    "    \"txt_out_len\": 20,\n",
    "    \"lr\": 1.41e-5,\n",
    "    \"init_kl_coef\":0.2,\n",
    "    \"target\": 6,\n",
    "    \"horizon\":10000,\n",
    "    \"gamma\":1,\n",
    "    \"lam\":0.95,\n",
    "    \"cliprange\": .2,\n",
    "    \"cliprange_value\":.2,\n",
    "    \"vf_coef\":.1, \n",
    "    \"seed\": 1,\n",
    "}"
   ]
  },
  {
   "cell_type": "code",
   "execution_count": 6,
   "id": "40a3f1c2",
   "metadata": {},
   "outputs": [],
   "source": [
    "np.random.seed(config['seed'])"
   ]
  },
  {
   "cell_type": "markdown",
   "id": "98eb2aac",
   "metadata": {},
   "source": [
    "# Initialize W&B logger"
   ]
  },
  {
   "cell_type": "code",
   "execution_count": 7,
   "id": "7b9184ca",
   "metadata": {},
   "outputs": [
    {
     "name": "stderr",
     "output_type": "stream",
     "text": [
      "\u001b[34m\u001b[1mwandb\u001b[0m: Currently logged in as: \u001b[33mmofawzy\u001b[0m (use `wandb login --relogin` to force relogin)\n"
     ]
    },
    {
     "data": {
      "text/html": [
       "\n",
       "                    Syncing run <strong><a href=\"https://wandb.ai/mofawzy/gpt2-ctrl/runs/1cb4gvo2\" target=\"_blank\">long-response</a></strong> to <a href=\"https://wandb.ai/mofawzy/gpt2-ctrl\" target=\"_blank\">Weights & Biases</a> (<a href=\"https://docs.wandb.com/integrations/jupyter.html\" target=\"_blank\">docs</a>).<br/>\n",
       "\n",
       "                "
      ],
      "text/plain": [
       "<IPython.core.display.HTML object>"
      ]
     },
     "metadata": {},
     "output_type": "display_data"
    },
    {
     "data": {
      "text/html": [
       "<button onClick=\"this.nextSibling.style.display='block';this.style.display='none';\">Display W&B run</button><iframe src=\"https://wandb.ai/mofawzy/gpt2-ctrl/runs/1cb4gvo2?jupyter=true\" style=\"border:none;width:100%;height:420px;display:none;\"></iframe>"
      ],
      "text/plain": [
       "<wandb.sdk.wandb_run.Run at 0x7fc248c0de50>"
      ]
     },
     "execution_count": 7,
     "metadata": {},
     "output_type": "execute_result"
    }
   ],
   "source": [
    "wandb.init(name='long-response', project='gpt2-ctrl', config=config)"
   ]
  },
  {
   "cell_type": "markdown",
   "id": "45fddf1f",
   "metadata": {},
   "source": [
    "# Load data"
   ]
  },
  {
   "cell_type": "code",
   "execution_count": 8,
   "id": "df658229",
   "metadata": {},
   "outputs": [],
   "source": [
    "df = pd.read_csv(\"data/reviews.tsv\", sep='\\t', names=['rating', 'book_id', 'user_id', 'number', 'review'])"
   ]
  },
  {
   "cell_type": "code",
   "execution_count": 9,
   "id": "55834deb",
   "metadata": {},
   "outputs": [
    {
     "data": {
      "text/html": [
       "<div>\n",
       "<style scoped>\n",
       "    .dataframe tbody tr th:only-of-type {\n",
       "        vertical-align: middle;\n",
       "    }\n",
       "\n",
       "    .dataframe tbody tr th {\n",
       "        vertical-align: top;\n",
       "    }\n",
       "\n",
       "    .dataframe thead th {\n",
       "        text-align: right;\n",
       "    }\n",
       "</style>\n",
       "<table border=\"1\" class=\"dataframe\">\n",
       "  <thead>\n",
       "    <tr style=\"text-align: right;\">\n",
       "      <th></th>\n",
       "      <th>rating</th>\n",
       "      <th>book_id</th>\n",
       "      <th>user_id</th>\n",
       "      <th>number</th>\n",
       "      <th>review</th>\n",
       "    </tr>\n",
       "  </thead>\n",
       "  <tbody>\n",
       "    <tr>\n",
       "      <th>0</th>\n",
       "      <td>4</td>\n",
       "      <td>338670838</td>\n",
       "      <td>7878381</td>\n",
       "      <td>13431841</td>\n",
       "      <td>عزازيل الذي صنعناه ،الكامن في أنفسنا يذكرني يو...</td>\n",
       "    </tr>\n",
       "    <tr>\n",
       "      <th>1</th>\n",
       "      <td>4</td>\n",
       "      <td>39428407</td>\n",
       "      <td>1775679</td>\n",
       "      <td>3554772</td>\n",
       "      <td>من أمتع ما قرأت من روايات بلا شك. وحول الشك تد...</td>\n",
       "    </tr>\n",
       "    <tr>\n",
       "      <th>2</th>\n",
       "      <td>4</td>\n",
       "      <td>32159373</td>\n",
       "      <td>1304410</td>\n",
       "      <td>3554772</td>\n",
       "      <td>رواية تتخذ من التاريخ ،جوًا لها اختار المؤلف ف...</td>\n",
       "    </tr>\n",
       "    <tr>\n",
       "      <th>3</th>\n",
       "      <td>1</td>\n",
       "      <td>442326656</td>\n",
       "      <td>11333112</td>\n",
       "      <td>3554772</td>\n",
       "      <td>إني أقدّر هذه الرواية كثيرا، لسبب مختلف عن أسب...</td>\n",
       "    </tr>\n",
       "    <tr>\n",
       "      <th>4</th>\n",
       "      <td>5</td>\n",
       "      <td>46492258</td>\n",
       "      <td>580165</td>\n",
       "      <td>3554772</td>\n",
       "      <td>الكاهن الذي أطلق على نفسه اسم هيبا تيمنا بالعا...</td>\n",
       "    </tr>\n",
       "  </tbody>\n",
       "</table>\n",
       "</div>"
      ],
      "text/plain": [
       "   rating    book_id   user_id    number                                             review\n",
       "0       4  338670838   7878381  13431841  عزازيل الذي صنعناه ،الكامن في أنفسنا يذكرني يو...\n",
       "1       4   39428407   1775679   3554772  من أمتع ما قرأت من روايات بلا شك. وحول الشك تد...\n",
       "2       4   32159373   1304410   3554772  رواية تتخذ من التاريخ ،جوًا لها اختار المؤلف ف...\n",
       "3       1  442326656  11333112   3554772  إني أقدّر هذه الرواية كثيرا، لسبب مختلف عن أسب...\n",
       "4       5   46492258    580165   3554772  الكاهن الذي أطلق على نفسه اسم هيبا تيمنا بالعا..."
      ]
     },
     "execution_count": 9,
     "metadata": {},
     "output_type": "execute_result"
    }
   ],
   "source": [
    "df.head()"
   ]
  },
  {
   "cell_type": "code",
   "execution_count": 10,
   "id": "951f3c04",
   "metadata": {},
   "outputs": [
    {
     "data": {
      "text/html": [
       "<div>\n",
       "<style scoped>\n",
       "    .dataframe tbody tr th:only-of-type {\n",
       "        vertical-align: middle;\n",
       "    }\n",
       "\n",
       "    .dataframe tbody tr th {\n",
       "        vertical-align: top;\n",
       "    }\n",
       "\n",
       "    .dataframe thead th {\n",
       "        text-align: right;\n",
       "    }\n",
       "</style>\n",
       "<table border=\"1\" class=\"dataframe\">\n",
       "  <thead>\n",
       "    <tr style=\"text-align: right;\">\n",
       "      <th></th>\n",
       "      <th>review</th>\n",
       "      <th>rating</th>\n",
       "    </tr>\n",
       "  </thead>\n",
       "  <tbody>\n",
       "    <tr>\n",
       "      <th>0</th>\n",
       "      <td>عزازيل الذي صنعناه ،الكامن في أنفسنا يذكرني يو...</td>\n",
       "      <td>4</td>\n",
       "    </tr>\n",
       "    <tr>\n",
       "      <th>1</th>\n",
       "      <td>من أمتع ما قرأت من روايات بلا شك. وحول الشك تد...</td>\n",
       "      <td>4</td>\n",
       "    </tr>\n",
       "    <tr>\n",
       "      <th>2</th>\n",
       "      <td>رواية تتخذ من التاريخ ،جوًا لها اختار المؤلف ف...</td>\n",
       "      <td>4</td>\n",
       "    </tr>\n",
       "    <tr>\n",
       "      <th>3</th>\n",
       "      <td>إني أقدّر هذه الرواية كثيرا، لسبب مختلف عن أسب...</td>\n",
       "      <td>1</td>\n",
       "    </tr>\n",
       "    <tr>\n",
       "      <th>4</th>\n",
       "      <td>الكاهن الذي أطلق على نفسه اسم هيبا تيمنا بالعا...</td>\n",
       "      <td>5</td>\n",
       "    </tr>\n",
       "  </tbody>\n",
       "</table>\n",
       "</div>"
      ],
      "text/plain": [
       "                                              review  rating\n",
       "0  عزازيل الذي صنعناه ،الكامن في أنفسنا يذكرني يو...       4\n",
       "1  من أمتع ما قرأت من روايات بلا شك. وحول الشك تد...       4\n",
       "2  رواية تتخذ من التاريخ ،جوًا لها اختار المؤلف ف...       4\n",
       "3  إني أقدّر هذه الرواية كثيرا، لسبب مختلف عن أسب...       1\n",
       "4  الكاهن الذي أطلق على نفسه اسم هيبا تيمنا بالعا...       5"
      ]
     },
     "execution_count": 10,
     "metadata": {},
     "output_type": "execute_result"
    }
   ],
   "source": [
    "df = df[['review', 'rating']]\n",
    "df.head()"
   ]
  },
  {
   "cell_type": "markdown",
   "id": "56fd2ca6",
   "metadata": {},
   "source": [
    "# Drop neutral reviews"
   ]
  },
  {
   "cell_type": "code",
   "execution_count": 11,
   "id": "a9a52527",
   "metadata": {},
   "outputs": [],
   "source": [
    "df.drop(df[df.rating==3].index, inplace=True)"
   ]
  },
  {
   "cell_type": "markdown",
   "id": "36a0263a",
   "metadata": {},
   "source": [
    "## uilitiy function"
   ]
  },
  {
   "cell_type": "code",
   "execution_count": 12,
   "id": "46e1f52f",
   "metadata": {},
   "outputs": [],
   "source": [
    "def categorise(row):\n",
    "    if row['rating'] >= 4:\n",
    "        return 'positive'\n",
    "    elif row['rating'] <= 2:\n",
    "        return 'negative'"
   ]
  },
  {
   "cell_type": "code",
   "execution_count": 13,
   "id": "bbd5d64d",
   "metadata": {},
   "outputs": [],
   "source": [
    "df['sentiment'] = df.apply(lambda row: categorise(row), axis=1)"
   ]
  },
  {
   "cell_type": "code",
   "execution_count": 14,
   "id": "6b90e3f2",
   "metadata": {},
   "outputs": [
    {
     "data": {
      "text/html": [
       "<div>\n",
       "<style scoped>\n",
       "    .dataframe tbody tr th:only-of-type {\n",
       "        vertical-align: middle;\n",
       "    }\n",
       "\n",
       "    .dataframe tbody tr th {\n",
       "        vertical-align: top;\n",
       "    }\n",
       "\n",
       "    .dataframe thead th {\n",
       "        text-align: right;\n",
       "    }\n",
       "</style>\n",
       "<table border=\"1\" class=\"dataframe\">\n",
       "  <thead>\n",
       "    <tr style=\"text-align: right;\">\n",
       "      <th></th>\n",
       "      <th>review</th>\n",
       "      <th>rating</th>\n",
       "      <th>sentiment</th>\n",
       "    </tr>\n",
       "  </thead>\n",
       "  <tbody>\n",
       "    <tr>\n",
       "      <th>0</th>\n",
       "      <td>عزازيل الذي صنعناه ،الكامن في أنفسنا يذكرني يو...</td>\n",
       "      <td>4</td>\n",
       "      <td>positive</td>\n",
       "    </tr>\n",
       "    <tr>\n",
       "      <th>1</th>\n",
       "      <td>من أمتع ما قرأت من روايات بلا شك. وحول الشك تد...</td>\n",
       "      <td>4</td>\n",
       "      <td>positive</td>\n",
       "    </tr>\n",
       "    <tr>\n",
       "      <th>2</th>\n",
       "      <td>رواية تتخذ من التاريخ ،جوًا لها اختار المؤلف ف...</td>\n",
       "      <td>4</td>\n",
       "      <td>positive</td>\n",
       "    </tr>\n",
       "    <tr>\n",
       "      <th>3</th>\n",
       "      <td>إني أقدّر هذه الرواية كثيرا، لسبب مختلف عن أسب...</td>\n",
       "      <td>1</td>\n",
       "      <td>negative</td>\n",
       "    </tr>\n",
       "    <tr>\n",
       "      <th>4</th>\n",
       "      <td>الكاهن الذي أطلق على نفسه اسم هيبا تيمنا بالعا...</td>\n",
       "      <td>5</td>\n",
       "      <td>positive</td>\n",
       "    </tr>\n",
       "  </tbody>\n",
       "</table>\n",
       "</div>"
      ],
      "text/plain": [
       "                                              review  rating sentiment\n",
       "0  عزازيل الذي صنعناه ،الكامن في أنفسنا يذكرني يو...       4  positive\n",
       "1  من أمتع ما قرأت من روايات بلا شك. وحول الشك تد...       4  positive\n",
       "2  رواية تتخذ من التاريخ ،جوًا لها اختار المؤلف ف...       4  positive\n",
       "3  إني أقدّر هذه الرواية كثيرا، لسبب مختلف عن أسب...       1  negative\n",
       "4  الكاهن الذي أطلق على نفسه اسم هيبا تيمنا بالعا...       5  positive"
      ]
     },
     "execution_count": 14,
     "metadata": {},
     "output_type": "execute_result"
    }
   ],
   "source": [
    "df.head()"
   ]
  },
  {
   "cell_type": "markdown",
   "id": "166f19cc",
   "metadata": {},
   "source": [
    "## verification"
   ]
  },
  {
   "cell_type": "code",
   "execution_count": 15,
   "id": "cd36753f",
   "metadata": {},
   "outputs": [
    {
     "data": {
      "text/html": [
       "<div>\n",
       "<style scoped>\n",
       "    .dataframe tbody tr th:only-of-type {\n",
       "        vertical-align: middle;\n",
       "    }\n",
       "\n",
       "    .dataframe tbody tr th {\n",
       "        vertical-align: top;\n",
       "    }\n",
       "\n",
       "    .dataframe thead th {\n",
       "        text-align: right;\n",
       "    }\n",
       "</style>\n",
       "<table border=\"1\" class=\"dataframe\">\n",
       "  <thead>\n",
       "    <tr style=\"text-align: right;\">\n",
       "      <th></th>\n",
       "      <th>review</th>\n",
       "      <th>rating</th>\n",
       "      <th>sentiment</th>\n",
       "    </tr>\n",
       "  </thead>\n",
       "  <tbody>\n",
       "    <tr>\n",
       "      <th>36</th>\n",
       "      <td>انا كان عندى شغف قوى جدا لاقرأه وبعد ان تعمقت ...</td>\n",
       "      <td>2</td>\n",
       "      <td>negative</td>\n",
       "    </tr>\n",
       "    <tr>\n",
       "      <th>88</th>\n",
       "      <td>هو ممتع فى المجمل احداثه مشوقه هيبا شخصيته غري...</td>\n",
       "      <td>2</td>\n",
       "      <td>negative</td>\n",
       "    </tr>\n",
       "    <tr>\n",
       "      <th>90</th>\n",
       "      <td>ذكر الكاتب في مقدمته أنها ترجمة لمخطوطات كتبها...</td>\n",
       "      <td>2</td>\n",
       "      <td>negative</td>\n",
       "    </tr>\n",
       "    <tr>\n",
       "      <th>110</th>\n",
       "      <td>بدءا. أربكني إدعاء الكاتب بأن هذه الرواية ماهي...</td>\n",
       "      <td>2</td>\n",
       "      <td>negative</td>\n",
       "    </tr>\n",
       "    <tr>\n",
       "      <th>173</th>\n",
       "      <td>مع بداية الرق الرابع بدأت الرواية بالانزلاق ول...</td>\n",
       "      <td>2</td>\n",
       "      <td>negative</td>\n",
       "    </tr>\n",
       "  </tbody>\n",
       "</table>\n",
       "</div>"
      ],
      "text/plain": [
       "                                                review  rating sentiment\n",
       "36   انا كان عندى شغف قوى جدا لاقرأه وبعد ان تعمقت ...       2  negative\n",
       "88   هو ممتع فى المجمل احداثه مشوقه هيبا شخصيته غري...       2  negative\n",
       "90   ذكر الكاتب في مقدمته أنها ترجمة لمخطوطات كتبها...       2  negative\n",
       "110  بدءا. أربكني إدعاء الكاتب بأن هذه الرواية ماهي...       2  negative\n",
       "173  مع بداية الرق الرابع بدأت الرواية بالانزلاق ول...       2  negative"
      ]
     },
     "execution_count": 15,
     "metadata": {},
     "output_type": "execute_result"
    }
   ],
   "source": [
    "negative = df[df['rating']==2]\n",
    "negative.head()"
   ]
  },
  {
   "cell_type": "code",
   "execution_count": 16,
   "id": "e115aae7",
   "metadata": {},
   "outputs": [
    {
     "data": {
      "text/html": [
       "<div>\n",
       "<style scoped>\n",
       "    .dataframe tbody tr th:only-of-type {\n",
       "        vertical-align: middle;\n",
       "    }\n",
       "\n",
       "    .dataframe tbody tr th {\n",
       "        vertical-align: top;\n",
       "    }\n",
       "\n",
       "    .dataframe thead th {\n",
       "        text-align: right;\n",
       "    }\n",
       "</style>\n",
       "<table border=\"1\" class=\"dataframe\">\n",
       "  <thead>\n",
       "    <tr style=\"text-align: right;\">\n",
       "      <th></th>\n",
       "      <th>review</th>\n",
       "      <th>rating</th>\n",
       "      <th>sentiment</th>\n",
       "    </tr>\n",
       "  </thead>\n",
       "  <tbody>\n",
       "    <tr>\n",
       "      <th>4</th>\n",
       "      <td>الكاهن الذي أطلق على نفسه اسم هيبا تيمنا بالعا...</td>\n",
       "      <td>5</td>\n",
       "      <td>positive</td>\n",
       "    </tr>\n",
       "    <tr>\n",
       "      <th>5</th>\n",
       "      <td>عزازيل هو اسم رواية يوسف زيدان الثانية و التي ...</td>\n",
       "      <td>5</td>\n",
       "      <td>positive</td>\n",
       "    </tr>\n",
       "    <tr>\n",
       "      <th>9</th>\n",
       "      <td>في البداية.ولكن بداية مشوقة للغاية.يبدو انني و...</td>\n",
       "      <td>5</td>\n",
       "      <td>positive</td>\n",
       "    </tr>\n",
       "    <tr>\n",
       "      <th>11</th>\n",
       "      <td>بعد تجاربى غير الناجحه مع يوسف زيدان وقعت بين ...</td>\n",
       "      <td>5</td>\n",
       "      <td>positive</td>\n",
       "    </tr>\n",
       "    <tr>\n",
       "      <th>12</th>\n",
       "      <td>ماذا أقول فى رواية خطفت عقلى خطفا, ثم سلمتنى ع...</td>\n",
       "      <td>5</td>\n",
       "      <td>positive</td>\n",
       "    </tr>\n",
       "  </tbody>\n",
       "</table>\n",
       "</div>"
      ],
      "text/plain": [
       "                                               review  rating sentiment\n",
       "4   الكاهن الذي أطلق على نفسه اسم هيبا تيمنا بالعا...       5  positive\n",
       "5   عزازيل هو اسم رواية يوسف زيدان الثانية و التي ...       5  positive\n",
       "9   في البداية.ولكن بداية مشوقة للغاية.يبدو انني و...       5  positive\n",
       "11  بعد تجاربى غير الناجحه مع يوسف زيدان وقعت بين ...       5  positive\n",
       "12  ماذا أقول فى رواية خطفت عقلى خطفا, ثم سلمتنى ع...       5  positive"
      ]
     },
     "execution_count": 16,
     "metadata": {},
     "output_type": "execute_result"
    }
   ],
   "source": [
    "positive = df[df['rating']==5]\n",
    "positive.head()"
   ]
  },
  {
   "cell_type": "code",
   "execution_count": 17,
   "id": "5988aa42",
   "metadata": {},
   "outputs": [
    {
     "data": {
      "text/html": [
       "<div>\n",
       "<style scoped>\n",
       "    .dataframe tbody tr th:only-of-type {\n",
       "        vertical-align: middle;\n",
       "    }\n",
       "\n",
       "    .dataframe tbody tr th {\n",
       "        vertical-align: top;\n",
       "    }\n",
       "\n",
       "    .dataframe thead th {\n",
       "        text-align: right;\n",
       "    }\n",
       "</style>\n",
       "<table border=\"1\" class=\"dataframe\">\n",
       "  <thead>\n",
       "    <tr style=\"text-align: right;\">\n",
       "      <th></th>\n",
       "      <th>review</th>\n",
       "      <th>rating</th>\n",
       "      <th>sentiment</th>\n",
       "    </tr>\n",
       "  </thead>\n",
       "  <tbody>\n",
       "  </tbody>\n",
       "</table>\n",
       "</div>"
      ],
      "text/plain": [
       "Empty DataFrame\n",
       "Columns: [review, rating, sentiment]\n",
       "Index: []"
      ]
     },
     "execution_count": 17,
     "metadata": {},
     "output_type": "execute_result"
    }
   ],
   "source": [
    "neutral = df[df['rating']==3]\n",
    "neutral.head()"
   ]
  },
  {
   "cell_type": "markdown",
   "id": "d3f83c44",
   "metadata": {},
   "source": [
    "## drop rating column"
   ]
  },
  {
   "cell_type": "code",
   "execution_count": 18,
   "id": "57b66c13",
   "metadata": {},
   "outputs": [
    {
     "data": {
      "text/html": [
       "<div>\n",
       "<style scoped>\n",
       "    .dataframe tbody tr th:only-of-type {\n",
       "        vertical-align: middle;\n",
       "    }\n",
       "\n",
       "    .dataframe tbody tr th {\n",
       "        vertical-align: top;\n",
       "    }\n",
       "\n",
       "    .dataframe thead th {\n",
       "        text-align: right;\n",
       "    }\n",
       "</style>\n",
       "<table border=\"1\" class=\"dataframe\">\n",
       "  <thead>\n",
       "    <tr style=\"text-align: right;\">\n",
       "      <th></th>\n",
       "      <th>review</th>\n",
       "      <th>sentiment</th>\n",
       "    </tr>\n",
       "  </thead>\n",
       "  <tbody>\n",
       "    <tr>\n",
       "      <th>0</th>\n",
       "      <td>عزازيل الذي صنعناه ،الكامن في أنفسنا يذكرني يو...</td>\n",
       "      <td>positive</td>\n",
       "    </tr>\n",
       "    <tr>\n",
       "      <th>1</th>\n",
       "      <td>من أمتع ما قرأت من روايات بلا شك. وحول الشك تد...</td>\n",
       "      <td>positive</td>\n",
       "    </tr>\n",
       "    <tr>\n",
       "      <th>2</th>\n",
       "      <td>رواية تتخذ من التاريخ ،جوًا لها اختار المؤلف ف...</td>\n",
       "      <td>positive</td>\n",
       "    </tr>\n",
       "    <tr>\n",
       "      <th>3</th>\n",
       "      <td>إني أقدّر هذه الرواية كثيرا، لسبب مختلف عن أسب...</td>\n",
       "      <td>negative</td>\n",
       "    </tr>\n",
       "    <tr>\n",
       "      <th>4</th>\n",
       "      <td>الكاهن الذي أطلق على نفسه اسم هيبا تيمنا بالعا...</td>\n",
       "      <td>positive</td>\n",
       "    </tr>\n",
       "  </tbody>\n",
       "</table>\n",
       "</div>"
      ],
      "text/plain": [
       "                                              review sentiment\n",
       "0  عزازيل الذي صنعناه ،الكامن في أنفسنا يذكرني يو...  positive\n",
       "1  من أمتع ما قرأت من روايات بلا شك. وحول الشك تد...  positive\n",
       "2  رواية تتخذ من التاريخ ،جوًا لها اختار المؤلف ف...  positive\n",
       "3  إني أقدّر هذه الرواية كثيرا، لسبب مختلف عن أسب...  negative\n",
       "4  الكاهن الذي أطلق على نفسه اسم هيبا تيمنا بالعا...  positive"
      ]
     },
     "execution_count": 18,
     "metadata": {},
     "output_type": "execute_result"
    }
   ],
   "source": [
    "df.drop('rating', axis=1, inplace=True)\n",
    "df.head()"
   ]
  },
  {
   "cell_type": "markdown",
   "id": "3caedb08",
   "metadata": {},
   "source": [
    "## Apply filters as follows\n",
    "\n",
    "1- make sure the comments are long enough maybe 500 characters\n",
    "\n",
    "2- make sure the comments are not too long configured to max 1000 character"
   ]
  },
  {
   "cell_type": "code",
   "execution_count": 19,
   "id": "bcdd16b6",
   "metadata": {},
   "outputs": [
    {
     "data": {
      "text/html": [
       "<div>\n",
       "<style scoped>\n",
       "    .dataframe tbody tr th:only-of-type {\n",
       "        vertical-align: middle;\n",
       "    }\n",
       "\n",
       "    .dataframe tbody tr th {\n",
       "        vertical-align: top;\n",
       "    }\n",
       "\n",
       "    .dataframe thead th {\n",
       "        text-align: right;\n",
       "    }\n",
       "</style>\n",
       "<table border=\"1\" class=\"dataframe\">\n",
       "  <thead>\n",
       "    <tr style=\"text-align: right;\">\n",
       "      <th></th>\n",
       "      <th>review</th>\n",
       "      <th>sentiment</th>\n",
       "    </tr>\n",
       "  </thead>\n",
       "  <tbody>\n",
       "    <tr>\n",
       "      <th>0</th>\n",
       "      <td>عزازيل الذي صنعناه ،الكامن في أنفسنا يذكرني يو...</td>\n",
       "      <td>positive</td>\n",
       "    </tr>\n",
       "    <tr>\n",
       "      <th>3</th>\n",
       "      <td>إني أقدّر هذه الرواية كثيرا، لسبب مختلف عن أسب...</td>\n",
       "      <td>negative</td>\n",
       "    </tr>\n",
       "    <tr>\n",
       "      <th>4</th>\n",
       "      <td>الكاهن الذي أطلق على نفسه اسم هيبا تيمنا بالعا...</td>\n",
       "      <td>positive</td>\n",
       "    </tr>\n",
       "    <tr>\n",
       "      <th>5</th>\n",
       "      <td>عزازيل هو اسم رواية يوسف زيدان الثانية و التي ...</td>\n",
       "      <td>positive</td>\n",
       "    </tr>\n",
       "    <tr>\n",
       "      <th>8</th>\n",
       "      <td>مقتطفات من رواية عزازيل للكاتب يوسف زيدان ----...</td>\n",
       "      <td>positive</td>\n",
       "    </tr>\n",
       "  </tbody>\n",
       "</table>\n",
       "</div>"
      ],
      "text/plain": [
       "                                              review sentiment\n",
       "0  عزازيل الذي صنعناه ،الكامن في أنفسنا يذكرني يو...  positive\n",
       "3  إني أقدّر هذه الرواية كثيرا، لسبب مختلف عن أسب...  negative\n",
       "4  الكاهن الذي أطلق على نفسه اسم هيبا تيمنا بالعا...  positive\n",
       "5  عزازيل هو اسم رواية يوسف زيدان الثانية و التي ...  positive\n",
       "8  مقتطفات من رواية عزازيل للكاتب يوسف زيدان ----...  positive"
      ]
     },
     "execution_count": 19,
     "metadata": {},
     "output_type": "execute_result"
    }
   ],
   "source": [
    "# make sure the comments are long enough\n",
    "df = df.loc[df['review'].str.len() > 500]\n",
    "\n",
    "# make sure comments are not too long\n",
    "df['review'] = df['review'].apply(lambda x: x[:1000])\n",
    "\n",
    "df.head()"
   ]
  },
  {
   "cell_type": "code",
   "execution_count": 20,
   "id": "b68bd5ac",
   "metadata": {},
   "outputs": [
    {
     "data": {
      "text/html": [
       "<div>\n",
       "<style scoped>\n",
       "    .dataframe tbody tr th:only-of-type {\n",
       "        vertical-align: middle;\n",
       "    }\n",
       "\n",
       "    .dataframe tbody tr th {\n",
       "        vertical-align: top;\n",
       "    }\n",
       "\n",
       "    .dataframe thead th {\n",
       "        text-align: right;\n",
       "    }\n",
       "</style>\n",
       "<table border=\"1\" class=\"dataframe\">\n",
       "  <thead>\n",
       "    <tr style=\"text-align: right;\">\n",
       "      <th></th>\n",
       "      <th>review</th>\n",
       "      <th>sentiment</th>\n",
       "    </tr>\n",
       "  </thead>\n",
       "  <tbody>\n",
       "    <tr>\n",
       "      <th>0</th>\n",
       "      <td>عزازيل الذي صنعناه ،الكامن في أنفسنا يذكرني يو...</td>\n",
       "      <td>positive</td>\n",
       "    </tr>\n",
       "    <tr>\n",
       "      <th>3</th>\n",
       "      <td>إني أقدّر هذه الرواية كثيرا، لسبب مختلف عن أسب...</td>\n",
       "      <td>negative</td>\n",
       "    </tr>\n",
       "    <tr>\n",
       "      <th>4</th>\n",
       "      <td>الكاهن الذي أطلق على نفسه اسم هيبا تيمنا بالعا...</td>\n",
       "      <td>positive</td>\n",
       "    </tr>\n",
       "    <tr>\n",
       "      <th>5</th>\n",
       "      <td>عزازيل هو اسم رواية يوسف زيدان الثانية و التي ...</td>\n",
       "      <td>positive</td>\n",
       "    </tr>\n",
       "    <tr>\n",
       "      <th>8</th>\n",
       "      <td>مقتطفات من رواية عزازيل للكاتب يوسف زيدان ----...</td>\n",
       "      <td>positive</td>\n",
       "    </tr>\n",
       "    <tr>\n",
       "      <th>...</th>\n",
       "      <td>...</td>\n",
       "      <td>...</td>\n",
       "    </tr>\n",
       "    <tr>\n",
       "      <th>63023</th>\n",
       "      <td>بدأت قراءة هذه الرواية دون توقعات، و الحمدلله ...</td>\n",
       "      <td>negative</td>\n",
       "    </tr>\n",
       "    <tr>\n",
       "      <th>63025</th>\n",
       "      <td>ليست الحرفية أبرز مقومات الأسلوب في هذه الرواي...</td>\n",
       "      <td>negative</td>\n",
       "    </tr>\n",
       "    <tr>\n",
       "      <th>63026</th>\n",
       "      <td>رواية مؤثرة في حديثها عن تجربة العاملات في الخ...</td>\n",
       "      <td>negative</td>\n",
       "    </tr>\n",
       "    <tr>\n",
       "      <th>63044</th>\n",
       "      <td>عندما تقلب فى اوراق هاملت شكسبير تطوف حولك عشر...</td>\n",
       "      <td>positive</td>\n",
       "    </tr>\n",
       "    <tr>\n",
       "      <th>63046</th>\n",
       "      <td>سـأدون قرائتي لهاملت . وَمُلخصي القصير . في عا...</td>\n",
       "      <td>positive</td>\n",
       "    </tr>\n",
       "  </tbody>\n",
       "</table>\n",
       "<p>8468 rows × 2 columns</p>\n",
       "</div>"
      ],
      "text/plain": [
       "                                                  review sentiment\n",
       "0      عزازيل الذي صنعناه ،الكامن في أنفسنا يذكرني يو...  positive\n",
       "3      إني أقدّر هذه الرواية كثيرا، لسبب مختلف عن أسب...  negative\n",
       "4      الكاهن الذي أطلق على نفسه اسم هيبا تيمنا بالعا...  positive\n",
       "5      عزازيل هو اسم رواية يوسف زيدان الثانية و التي ...  positive\n",
       "8      مقتطفات من رواية عزازيل للكاتب يوسف زيدان ----...  positive\n",
       "...                                                  ...       ...\n",
       "63023  بدأت قراءة هذه الرواية دون توقعات، و الحمدلله ...  negative\n",
       "63025  ليست الحرفية أبرز مقومات الأسلوب في هذه الرواي...  negative\n",
       "63026  رواية مؤثرة في حديثها عن تجربة العاملات في الخ...  negative\n",
       "63044  عندما تقلب فى اوراق هاملت شكسبير تطوف حولك عشر...  positive\n",
       "63046  سـأدون قرائتي لهاملت . وَمُلخصي القصير . في عا...  positive\n",
       "\n",
       "[8468 rows x 2 columns]"
      ]
     },
     "execution_count": 20,
     "metadata": {},
     "output_type": "execute_result"
    }
   ],
   "source": [
    "df"
   ]
  },
  {
   "cell_type": "markdown",
   "id": "ab7f13d4",
   "metadata": {},
   "source": [
    "# Load BERT classifier\n",
    "load a BERT classifier fine-tuned on the LABR dataset"
   ]
  },
  {
   "cell_type": "code",
   "execution_count": 21,
   "id": "0b719be3",
   "metadata": {},
   "outputs": [],
   "source": [
    "sentiment_model = AutoModelForSequenceClassification.from_pretrained(config[\"cls_model_name\"])\n",
    "sentiment_tokenizer = AutoTokenizer.from_pretrained(config[\"cls_model_name\"])"
   ]
  },
  {
   "cell_type": "markdown",
   "id": "c603650a",
   "metadata": {},
   "source": [
    "The model outputs are the logits for the negative and positive class. We will use the logits for positive class as a reward signal for the language model."
   ]
  },
  {
   "cell_type": "code",
   "execution_count": 22,
   "id": "f223ca14",
   "metadata": {},
   "outputs": [
    {
     "data": {
      "text/plain": [
       "SequenceClassifierOutput(loss=None, logits=tensor([[ 4.6676, -3.6777]], grad_fn=<AddmmBackward>), hidden_states=None, attentions=None)"
      ]
     },
     "execution_count": 22,
     "metadata": {},
     "output_type": "execute_result"
    }
   ],
   "source": [
    "text = 'لغة ركيكة جدا!!'\n",
    "output = sentiment_model.forward(sentiment_tokenizer.encode(text, return_tensors=\"pt\"))\n",
    "output"
   ]
  },
  {
   "cell_type": "code",
   "execution_count": 23,
   "id": "206aab3f",
   "metadata": {},
   "outputs": [
    {
     "data": {
      "text/plain": [
       "SequenceClassifierOutput(loss=None, logits=tensor([[-3.7829,  2.3752]], grad_fn=<AddmmBackward>), hidden_states=None, attentions=None)"
      ]
     },
     "execution_count": 23,
     "metadata": {},
     "output_type": "execute_result"
    }
   ],
   "source": [
    "text = 'كتاب جميل جدا'\n",
    "output = sentiment_model.forward(sentiment_tokenizer.encode(text, return_tensors=\"pt\"))\n",
    "output"
   ]
  },
  {
   "cell_type": "code",
   "execution_count": 24,
   "id": "5e73e1d2",
   "metadata": {},
   "outputs": [
    {
     "data": {
      "text/plain": [
       "SequenceClassifierOutput(loss=None, logits=tensor([[ 4.0337, -3.1078]], grad_fn=<AddmmBackward>), hidden_states=None, attentions=None)"
      ]
     },
     "execution_count": 24,
     "metadata": {},
     "output_type": "execute_result"
    }
   ],
   "source": [
    "text = 'كتاب كويس مش احسن حاجة بس كويس'\n",
    "output = sentiment_model.forward(sentiment_tokenizer.encode(text, return_tensors=\"pt\"))\n",
    "output\n"
   ]
  },
  {
   "cell_type": "markdown",
   "id": "cd93eba2",
   "metadata": {},
   "source": [
    "The resulting reward signal:"
   ]
  },
  {
   "cell_type": "code",
   "execution_count": 25,
   "id": "b202e23c",
   "metadata": {},
   "outputs": [
    {
     "data": {
      "text/plain": [
       "tensor(-3.1078, grad_fn=<SelectBackward>)"
      ]
     },
     "execution_count": 25,
     "metadata": {},
     "output_type": "execute_result"
    }
   ],
   "source": [
    "output[0][0,1]"
   ]
  },
  {
   "cell_type": "markdown",
   "id": "a38df075",
   "metadata": {},
   "source": [
    "# Load GPT-2 Model\n",
    "The model fine-tuned on google cloud TPU based on LABR dataset\n",
    "\n",
    "\n",
    "We load the GPT2 model with a value head and the tokenizer. We load the model twice; the first model is optimized while the second model serves as a reference to calculate the KL-divergence from the starting point. This serves as an additional reward signal in the PPO training to make sure the optimized model does not deviate too much from the original language model."
   ]
  },
  {
   "cell_type": "code",
   "execution_count": 26,
   "id": "3e6b7886",
   "metadata": {},
   "outputs": [
    {
     "name": "stderr",
     "output_type": "stream",
     "text": [
      "Some weights of GPT2HeadWithValueModel were not initialized from the model checkpoint at mofawzy/argpt2-goodreads and are newly initialized: ['v_head.summary.weight', 'v_head.summary.bias']\n",
      "You should probably TRAIN this model on a down-stream task to be able to use it for predictions and inference.\n",
      "Some weights of GPT2HeadWithValueModel were not initialized from the model checkpoint at mofawzy/argpt2-goodreads and are newly initialized: ['v_head.summary.weight', 'v_head.summary.bias']\n",
      "You should probably TRAIN this model on a down-stream task to be able to use it for predictions and inference.\n"
     ]
    }
   ],
   "source": [
    "gpt2_model = GPT2HeadWithValueModel.from_pretrained(config['lm_name'])\n",
    "gpt2_model_ref = GPT2HeadWithValueModel.from_pretrained(config['ref_lm_name'])\n",
    "gpt2_tokenizer = GPT2Tokenizer.from_pretrained(config['tk_name'])"
   ]
  },
  {
   "cell_type": "markdown",
   "id": "f9b6b396",
   "metadata": {},
   "source": [
    "move model to GPU if avaliable"
   ]
  },
  {
   "cell_type": "code",
   "execution_count": 27,
   "id": "95d06fb6",
   "metadata": {},
   "outputs": [],
   "source": [
    "device = torch.device(\"cuda\" if torch.cuda.is_available() else \"cpu\")"
   ]
  },
  {
   "cell_type": "code",
   "execution_count": 28,
   "id": "7d39cb96",
   "metadata": {},
   "outputs": [
    {
     "data": {
      "text/plain": [
       "device(type='cuda')"
      ]
     },
     "execution_count": 28,
     "metadata": {},
     "output_type": "execute_result"
    }
   ],
   "source": [
    "device"
   ]
  },
  {
   "cell_type": "code",
   "execution_count": 29,
   "id": "52688a2d",
   "metadata": {},
   "outputs": [],
   "source": [
    "_ = gpt2_model.to(device)\n",
    "_ = sentiment_model.to(device)\n",
    "_ = gpt2_model_ref.to(device)"
   ]
  },
  {
   "cell_type": "code",
   "execution_count": 30,
   "id": "a2562ba9",
   "metadata": {},
   "outputs": [
    {
     "data": {
      "text/plain": [
       "[]"
      ]
     },
     "execution_count": 30,
     "metadata": {},
     "output_type": "execute_result"
    }
   ],
   "source": [
    "wandb.watch(gpt2_model, log='all')"
   ]
  },
  {
   "cell_type": "markdown",
   "id": "1c26e93e",
   "metadata": {},
   "source": [
    "# Tokenize LABR reviews\n",
    "\n",
    "We tokenize all LABR in advance to avoid tokenizing twice. In the first step we encode the queries and slice the first txt_in_len tokens. In a second step we decode these tokens back to text for later display."
   ]
  },
  {
   "cell_type": "code",
   "execution_count": 31,
   "id": "31626caf",
   "metadata": {},
   "outputs": [
    {
     "name": "stderr",
     "output_type": "stream",
     "text": [
      "  0%|          | 0/8468 [00:00<?, ?it/s]Token indices sequence length is longer than the specified maximum sequence length for this model (1045 > 1024). Running this sequence through the model will result in indexing errors\n",
      "100%|██████████| 8468/8468 [00:22<00:00, 379.73it/s]\n"
     ]
    }
   ],
   "source": [
    "df['tokens'] = df['review'].progress_apply(lambda x: gpt2_tokenizer.encode(' '+x, return_tensors=\"pt\").to(device)[0, :config['txt_in_len']])"
   ]
  },
  {
   "cell_type": "code",
   "execution_count": 32,
   "id": "52c2a758",
   "metadata": {},
   "outputs": [
    {
     "name": "stderr",
     "output_type": "stream",
     "text": [
      "100%|██████████| 8468/8468 [00:00<00:00, 19091.52it/s]\n"
     ]
    }
   ],
   "source": [
    "df['query'] = df['tokens'].progress_apply(lambda x: gpt2_tokenizer.decode(x))"
   ]
  },
  {
   "cell_type": "code",
   "execution_count": 33,
   "id": "9d877571",
   "metadata": {},
   "outputs": [
    {
     "data": {
      "text/html": [
       "<div>\n",
       "<style scoped>\n",
       "    .dataframe tbody tr th:only-of-type {\n",
       "        vertical-align: middle;\n",
       "    }\n",
       "\n",
       "    .dataframe tbody tr th {\n",
       "        vertical-align: top;\n",
       "    }\n",
       "\n",
       "    .dataframe thead th {\n",
       "        text-align: right;\n",
       "    }\n",
       "</style>\n",
       "<table border=\"1\" class=\"dataframe\">\n",
       "  <thead>\n",
       "    <tr style=\"text-align: right;\">\n",
       "      <th></th>\n",
       "      <th>review</th>\n",
       "      <th>sentiment</th>\n",
       "      <th>tokens</th>\n",
       "      <th>query</th>\n",
       "    </tr>\n",
       "  </thead>\n",
       "  <tbody>\n",
       "    <tr>\n",
       "      <th>0</th>\n",
       "      <td>عزازيل الذي صنعناه ،الكامن في أنفسنا يذكرني يو...</td>\n",
       "      <td>positive</td>\n",
       "      <td>[tensor(17550, device='cuda:0'), tensor(117, d...</td>\n",
       "      <td>عزازيل الذي صنعناه ،الكامن في</td>\n",
       "    </tr>\n",
       "  </tbody>\n",
       "</table>\n",
       "</div>"
      ],
      "text/plain": [
       "                                              review sentiment                                             tokens                           query\n",
       "0  عزازيل الذي صنعناه ،الكامن في أنفسنا يذكرني يو...  positive  [tensor(17550, device='cuda:0'), tensor(117, d...   عزازيل الذي صنعناه ،الكامن في"
      ]
     },
     "execution_count": 33,
     "metadata": {},
     "output_type": "execute_result"
    }
   ],
   "source": [
    "df.head(1)"
   ]
  },
  {
   "cell_type": "code",
   "execution_count": 34,
   "id": "b8cb35bb",
   "metadata": {},
   "outputs": [
    {
     "name": "stderr",
     "output_type": "stream",
     "text": [
      "/opt/conda/lib/python3.7/site-packages/ipykernel_launcher.py:1: FutureWarning: Passing a negative integer is deprecated in version 1.0 and will not be supported in future version. Instead, use None to not limit the column width.\n",
      "  \"\"\"Entry point for launching an IPython kernel.\n"
     ]
    },
    {
     "data": {
      "text/html": [
       "<div>\n",
       "<style scoped>\n",
       "    .dataframe tbody tr th:only-of-type {\n",
       "        vertical-align: middle;\n",
       "    }\n",
       "\n",
       "    .dataframe tbody tr th {\n",
       "        vertical-align: top;\n",
       "    }\n",
       "\n",
       "    .dataframe thead th {\n",
       "        text-align: right;\n",
       "    }\n",
       "</style>\n",
       "<table border=\"1\" class=\"dataframe\">\n",
       "  <thead>\n",
       "    <tr style=\"text-align: right;\">\n",
       "      <th></th>\n",
       "      <th>review</th>\n",
       "      <th>sentiment</th>\n",
       "      <th>tokens</th>\n",
       "      <th>query</th>\n",
       "    </tr>\n",
       "  </thead>\n",
       "  <tbody>\n",
       "    <tr>\n",
       "      <th>62610</th>\n",
       "      <td>فيما يقارب ال200 صفحة .يكتب درويش عن يوم عاشه تحت سماء وبحر من صواريخ . يستجيب الى تلك الاصوات برأسه .التى لا تدرى هل هى ملائمة لمن يعيش تحت سماء الموت ام لا إلا ان عشت التجربة ! عندما تعتاد .يصبح الجنون اسلوب حياة بأن تسكن فى ذلك الطابق المرتفع فى بناية ذات حوائط زجاجية .ترى سيل الصواريخ يستبيح سمائك ويطرد سكانها الاصليين من حمام ! فيكون رد فعلك .ان تصنع القهوة وتذهب للبحث عن جريدة وملاقاة الاصدقاء والدخول مع الرأس فى حوار من ذكريات . نص ملئ بالمتناقضات .العام والخاص .الغضب والامل .العادية والاختراق انه الجنون الذى ينقذنا ان نموت غرقى اليأس ! الجنون الذى يحافظ على هويتنا لتكتب او لا تكتب على شاهد قبر ان وجد ! انها بيروت .لبنان . فلسطين . العرب . الوطن!</td>\n",
       "      <td>positive</td>\n",
       "      <td>[tensor(18923, device='cuda:0'), tensor(223, device='cuda:0'), tensor(22654, device='cuda:0'), tensor(25405, device='cuda:0'), tensor(12919, device='cuda:0'), tensor(18923, device='cuda:0'), tensor(232, device='cuda:0'), tensor(149, device='cuda:0'), tensor(224, device='cuda:0'), tensor(12919, device='cuda:0'), tensor(26897, device='cuda:0'), tensor(39848, device='cuda:0'), tensor(28981, device='cuda:0'), tensor(2167, device='cuda:0'), tensor(17550, device='cuda:0'), tensor(113, device='cuda:0'), tensor(149, device='cuda:0'), tensor(223, device='cuda:0'), tensor(148, device='cuda:0'), tensor(255, device='cuda:0'), tensor(45632, device='cuda:0'), tensor(764, device='cuda:0'), tensor(22654, device='cuda:0'), tensor(149, device='cuda:0'), tensor(225, device='cuda:0'), tensor(41486, device='cuda:0'), tensor(39848, device='cuda:0'), tensor(17550, device='cuda:0'), tensor(107, device='cuda:0'), tensor(26897, device='cuda:0')]</td>\n",
       "      <td>فيما يقارب ال200 صفحة.يكتب در</td>\n",
       "    </tr>\n",
       "    <tr>\n",
       "      <th>62633</th>\n",
       "      <td>اقتباسات من الكتاب: السيّاب: نفسي من الآمال خاويةٌ،،جرداءُ لا ماءٌ ولا عشبُ.ما أرتجيه هو المحال وما،،لا أرتجيه هو الذي يجبُ السيّاب: رسالةٌ منك كاد القلب يلثمها.لولا الضلوع التي تثنيه أن يثبا السيّاب: عيناكِ غابتا نخيلٍ ساعة السحرْ.أو شرفتان راح ينأى عنهما القمرْ السيّاب: يا ليتني أصبحت ديواني،،أختال من صدرٍ إلى ثانِ.قد بتّ من حسدٍ أقول له:،،يا ليت من تهواكَ تهواني السيّاب: عينايَ تحرقان غابة الظلامْ.بجمرتيهما اللتين من سقرْ، ويفتح السهرْ.مغالقَ الغيوب لي.فلا أنام السيّاب: عينان زرقاوان ينعس فيهما لونُ الغدير.أرنو، فينساب الخيالُ وينصت القلب الكسير.وأغيب في نغمٍ يذوب، وفي غمائم من عبيرْ السيّاب: سأمضي فلا تحلمي بالإيابِ،،على وقع أقدامي النائية.ولا تتبعيني إذا ما التفتُّ،،ورائي إلى الشمعة الخابية السيّاب: أراها فأنفض عنها السنينَ،،كما تنفض الريحُ برد الندى.فتغدو وعمري أخو عمرها،،ويستوقفُ المولدُ المولدا السيّاب: اليومَ ينفضُ كل حرٍّ عن يديه دم المجازر.واليوم تنتفض القرون الغابرات من المقابرْ السيّاب: الردى والهوانُ خطُّ الأذلاءِ.وكلّ الحياة للأحرارِ السياب: على مقلتيك انتظار بعيد.وشيء ي</td>\n",
       "      <td>positive</td>\n",
       "      <td>[tensor(220, device='cuda:0'), tensor(12919, device='cuda:0'), tensor(149, device='cuda:0'), tensor(224, device='cuda:0'), tensor(41486, device='cuda:0'), tensor(39848, device='cuda:0'), tensor(34247, device='cuda:0'), tensor(111, device='cuda:0'), tensor(34247, device='cuda:0'), tensor(103, device='cuda:0'), tensor(47048, device='cuda:0'), tensor(23338, device='cuda:0'), tensor(28981, device='cuda:0'), tensor(149, device='cuda:0'), tensor(225, device='cuda:0'), tensor(41486, device='cuda:0'), tensor(34247, device='cuda:0'), tensor(101, device='cuda:0'), tensor(25, device='cuda:0'), tensor(28981, device='cuda:0'), tensor(45692, device='cuda:0'), tensor(22654, device='cuda:0'), tensor(149, device='cuda:0'), tensor(239, device='cuda:0'), tensor(34247, device='cuda:0'), tensor(101, device='cuda:0'), tensor(25, device='cuda:0'), tensor(18923, device='cuda:0'), tensor(228, device='cuda:0'), tensor(149, device='cuda:0')]</td>\n",
       "      <td>اقتباسات من الكتاب: السيّاب: ن�</td>\n",
       "    </tr>\n",
       "    <tr>\n",
       "      <th>62644</th>\n",
       "      <td>كثيراً ما تكون القصيدة الخالدة … في الوقت نفسه . مسرحية أو ملحمة أو رواية أو فيلماً أو سيمفونية بهذه الأوصاف الخمسة جمع الكاتب 5 قصائد تنطبق على كل واحدة منهن صفة من الصفات المذكورة. أعد نفسي من عشاق الشعر، لكن المبتدئين جداً جداً، أتذوقه بحلاوة لكن لست أفهمه إلا بعد شرحه أو قراءته أكثر من مرة، وأكثر ما أعجبني في هذا الكتاب هو شرح جو القصيدة ومناسبتها وكل مايرتبط فيها من أحداث ! شرح سلس، قريب من القلب، ومتذوق للفن، لم يركز على النقد أبداً وإنما أثار قيمة القصيدة الجمالية بكل ماتملك ! الكتاب تحفة فريدة لعشاق الشعر - ربما المبتدئين مثلي - ولكنه قيم لايفوت، فالكاتب غازي - رحمه الله - لم يكتفي بعرض القصيدة فقط، وإنما شرحها لدرجة تجعلك تنسى ماحولك، وما إن تغلق الكتاب حتى تلتفت يميناً ويساراً لتدرك وضعك ووقتك الحالي !</td>\n",
       "      <td>positive</td>\n",
       "      <td>[tensor(18923, device='cuda:0'), tensor(225, device='cuda:0'), tensor(148, device='cuda:0'), tensor(104, device='cuda:0'), tensor(22654, device='cuda:0'), tensor(26897, device='cuda:0'), tensor(12919, device='cuda:0'), tensor(149, device='cuda:0'), tensor(233, device='cuda:0'), tensor(47048, device='cuda:0'), tensor(12919, device='cuda:0'), tensor(17550, device='cuda:0'), tensor(103, device='cuda:0'), tensor(149, device='cuda:0'), tensor(225, device='cuda:0'), tensor(30335, device='cuda:0'), tensor(23338, device='cuda:0'), tensor(28981, device='cuda:0'), tensor(149, device='cuda:0'), tensor(224, device='cuda:0'), tensor(148, device='cuda:0'), tensor(113, device='cuda:0'), tensor(22654, device='cuda:0'), tensor(38843, device='cuda:0'), tensor(45632, device='cuda:0'), tensor(28981, device='cuda:0'), tensor(148, device='cuda:0'), tensor(106, device='cuda:0'), tensor(23525, device='cuda:0'), tensor(38843, device='cuda:0')]</td>\n",
       "      <td>كثيراً ما تكون القصيدة الخالد</td>\n",
       "    </tr>\n",
       "    <tr>\n",
       "      <th>62645</th>\n",
       "      <td>غازي القصيبي \" رحمة الله عليه \" اسم لامع نجم ليس ككل النجوم نورة يلوح في الأفق دوما وأبداً \" مؤلف بسيط ،،ثري ،، جذاب ،، متقن لحرفتة \" لدي استعداد كامل ان أقرا كامل مؤلفاته كتاب \"قصائد اعجبتني \" قد يكون كتيب وليس كتاب بحجمه ولكنه سلسلة بثراءة عجيب هذا الكتاب جدا عجيب لاانتهي منه الا واعود اليه تحليله للقصائد المتفردة جدا رائع \" تمنيت لو ان غازي القصيبي \" قبل ان تتداركة المنية ان يتوسع في هذا النمط الذي نادراً مانجد كتابات ثرية ومفهومة من قبل العامة للحق \" لأول مرة ادرك روعة قصائد ابراهيم ناجي \" مع هذا الكتاب بعد ان كنت لاانظر لها الا بازدراء ولاأقول سوى \" يامن يعز علينا أن نفارقهم *** وجداننا كل شي بعدكم عدم\" إن وجدت 100 نجمة لاتكفي هذا الكتاب حقه</td>\n",
       "      <td>positive</td>\n",
       "      <td>[tensor(17550, device='cuda:0'), tensor(118, device='cuda:0'), tensor(34247, device='cuda:0'), tensor(110, device='cuda:0'), tensor(22654, device='cuda:0'), tensor(28981, device='cuda:0'), tensor(149, device='cuda:0'), tensor(224, device='cuda:0'), tensor(148, device='cuda:0'), tensor(113, device='cuda:0'), tensor(22654, device='cuda:0'), tensor(39848, device='cuda:0'), tensor(22654, device='cuda:0'), tensor(366, device='cuda:0'), tensor(17550, device='cuda:0'), tensor(109, device='cuda:0'), tensor(148, device='cuda:0'), tensor(255, device='cuda:0'), tensor(25405, device='cuda:0'), tensor(45632, device='cuda:0'), tensor(28981, device='cuda:0'), tensor(13862, device='cuda:0'), tensor(29519, device='cuda:0'), tensor(17550, device='cuda:0'), tensor(117, device='cuda:0'), tensor(13862, device='cuda:0'), tensor(22654, device='cuda:0'), tensor(29519, device='cuda:0'), tensor(366, device='cuda:0'), tensor(220, device='cuda:0')]</td>\n",
       "      <td>غازي القصيبي \" رحمة الله عليه \"</td>\n",
       "    </tr>\n",
       "    <tr>\n",
       "      <th>62665</th>\n",
       "      <td>كتاب شرح المعلقات السبع هو أكثر الشروح شهرة و نيلا لثقة الجمهور. ربما لأن الزوزني أحب التحقق فعلا من القصائد و الأبيات كما لم يفعل قبله أحد. و على كل حال، فالمعلقات السبع، حملن في قوافيهنّ حياة الجاهلية التي لم نكن نعلم منها كثيرا، غير بعض مساوئها التي أنكرها الإسلام و جاء ليبيدها. بعدما قرأت كتاب طه حسين عن الشعر الجاهلي، أكاد أجزم أنه على حق في كثير مما قال، و أن قصيدة كقصيدة عمرو بن كلثوم لا يمكن أن ترد كما أوردها الزوزني. و من الواضح أن بعضها قاله عمرو بن كلثوم حقا، و بعضه الآخر أردفه بنو ربيعة حتى يكتمل القصيد. غير أنني لا أشك في قفا نبك و لكن من البيّن أن قائلها لا يمكن أن يسمى امرئ القيس، و ان هذا الإسم لا يخلو من الطرافة. عليّ أن أقرأ لمحمد الخضر حسين و الرافعي الذين أجابوا طه حسين عن كتابه الذي تنكر فيه للشعر الجاهلي. ربما أجد براهينا أكثر</td>\n",
       "      <td>positive</td>\n",
       "      <td>[tensor(18923, device='cuda:0'), tensor(225, device='cuda:0'), tensor(41486, device='cuda:0'), tensor(34247, device='cuda:0'), tensor(101, device='cuda:0'), tensor(17550, device='cuda:0'), tensor(112, device='cuda:0'), tensor(26897, device='cuda:0'), tensor(148, device='cuda:0'), tensor(255, device='cuda:0'), tensor(28981, device='cuda:0'), tensor(25405, device='cuda:0'), tensor(44690, device='cuda:0'), tensor(13862, device='cuda:0'), tensor(149, device='cuda:0'), tensor(224, device='cuda:0'), tensor(34247, device='cuda:0'), tensor(103, device='cuda:0'), tensor(28981, device='cuda:0'), tensor(45692, device='cuda:0'), tensor(39848, device='cuda:0'), tensor(44690, device='cuda:0'), tensor(18923, device='cuda:0'), tensor(229, device='cuda:0'), tensor(30335, device='cuda:0'), tensor(17550, device='cuda:0'), tensor(96, device='cuda:0'), tensor(149, device='cuda:0'), tensor(225, device='cuda:0'), tensor(148, device='cuda:0')]</td>\n",
       "      <td>كتاب شرح المعلقات السبع هو أك�</td>\n",
       "    </tr>\n",
       "    <tr>\n",
       "      <th>62666</th>\n",
       "      <td>كان الكتاب هدية أبي عائدًأ لي بها من معرض الكتاب عندما كنت في المرحلة المتوسطة. وبالفعل كانت تجربة رائعة أن أدخل إلى بوابة الشعر الجاهلي مبكرًا (إن صح ذلك) ولكن لا أنكر تعجبي لفترة من الوقت كيف أن معلقة امرؤ القيس ( صاحب السبع الأبيات المرقعة من مقتطفات مأخوذة من المعلقة في كتاب النصوص ) فيها كل هذا. أذكر أني ذهبت لأصدقائي أخبرهم كيف أن امرؤ القيس طلع \"واحد خربان\" لكنه قمة في الإبداع. :) شرح المعلقات السبع والعشر . أحدهم كان الشرح به أفضل من الآخر ولكن لا أذكر. ومع هذا فالكتابان يستحقان القراءة. تحياتي بدر</td>\n",
       "      <td>positive</td>\n",
       "      <td>[tensor(18923, device='cuda:0'), tensor(225, device='cuda:0'), tensor(12919, device='cuda:0'), tensor(23338, device='cuda:0'), tensor(28981, device='cuda:0'), tensor(149, device='cuda:0'), tensor(225, device='cuda:0'), tensor(41486, device='cuda:0'), tensor(34247, device='cuda:0'), tensor(101, device='cuda:0'), tensor(18923, device='cuda:0'), tensor(229, device='cuda:0'), tensor(38843, device='cuda:0'), tensor(22654, device='cuda:0'), tensor(45632, device='cuda:0'), tensor(17550, device='cuda:0'), tensor(96, device='cuda:0'), tensor(39848, device='cuda:0'), tensor(22654, device='cuda:0'), tensor(17550, device='cuda:0'), tensor(117, device='cuda:0'), tensor(34247, device='cuda:0'), tensor(99, device='cuda:0'), tensor(38843, device='cuda:0'), tensor(149, device='cuda:0'), tensor(233, device='cuda:0'), tensor(148, device='cuda:0'), tensor(96, device='cuda:0'), tensor(220, device='cuda:0'), tensor(13862, device='cuda:0')]</td>\n",
       "      <td>كان الكتاب هدية أبي عائدًأ ل</td>\n",
       "    </tr>\n",
       "    <tr>\n",
       "      <th>62674</th>\n",
       "      <td>أحبت سالمة بنت السلطان سعيد، سلطان زنجبار وعمان في ذلك الوقت،شاب ألماني وتخلت عن إخوتها وبلدها ودينها من أجل الحب الذي استمر لثلاثة أعوام قضى بعدها الزوج الألماني نحبه في حادث مخلفا لزوجته سالمه (إميلي) ثلاث أطفال ومستقبل مظلم. كتبت سالمة هذه المذكرات لأبنائها حتى لا ينسوا من أين جاءت وقد أخذتهم في رحلة إلى زنجبار كسياح ألمان بعد تسعة عشر عاما من فرارها ليروا موطنها الأصلي. بالرغم من أن الترجمة جيدة إلا أنها أزعجتني في بعض الأحيان خصوصا وأنها توضح التراكيب المعقدة للغة الألمانية فتعطل متعة القراءة. مثلا استخدام المترجم لكلمة المرء طول الوقت مع أنه كان من الممكن أن يجعل الجملة مبنية للمجهول فتكون الترجمة أوقع. أعجبني جدا تسامح هذه الأميرة مع نفسها ومع إخوتها وكل من حولها وأعجبني أكثر عرفانها بالجميل لكل من أسدى لها معروفا. لم تعجبني عنصريتها ضد \"الزنوج\" واتهامها لهم بالكسل وتبرير العبودية. ولم يعجبني أكثر موقفها من الإنجليز الذي اقتبسته بكل وضوح من الألمان. من الواضح أنها عانت من أزمات مادية فور موت زوجها مما حملها على محاولة صلح إخوتها وإن لم تعترف بذلك صراحة. الخلاصة: من خرج من داره ق</td>\n",
       "      <td>positive</td>\n",
       "      <td>[tensor(17550, device='cuda:0'), tensor(96, device='cuda:0'), tensor(148, device='cuda:0'), tensor(255, device='cuda:0'), tensor(39848, device='cuda:0'), tensor(41486, device='cuda:0'), tensor(17550, device='cuda:0'), tensor(111, device='cuda:0'), tensor(23525, device='cuda:0'), tensor(25405, device='cuda:0'), tensor(45632, device='cuda:0'), tensor(17550, device='cuda:0'), tensor(101, device='cuda:0'), tensor(23338, device='cuda:0'), tensor(41486, device='cuda:0'), tensor(28981, device='cuda:0'), tensor(45692, device='cuda:0'), tensor(13862, device='cuda:0'), tensor(148, device='cuda:0'), tensor(115, device='cuda:0'), tensor(12919, device='cuda:0'), tensor(23338, device='cuda:0'), tensor(17550, device='cuda:0'), tensor(111, device='cuda:0'), tensor(44690, device='cuda:0'), tensor(22654, device='cuda:0'), tensor(38843, device='cuda:0'), tensor(148, device='cuda:0'), tensor(234, device='cuda:0'), tensor(17550, device='cuda:0')]</td>\n",
       "      <td>أحبت سالمة بنت السلطان سعيد، �</td>\n",
       "    </tr>\n",
       "    <tr>\n",
       "      <th>62676</th>\n",
       "      <td>برغم احتقاري الشخصي لتلك المُرتدة البائعة لدينها من أجل شهوتها . فانه ليس بمقدوري أن اُعطي كتابها هذا أقل من أربع نجوم ، برغم أنني لم أكن أنوي اعطاء هذه اللعينة أكثر من نجمتين قبل قراءة الكتاب ! الكتاب هو تحفة حقيقية ينقلك الى وصف دقيق لما يفوت السرد التاريخي السياسي المعتاد الاسهاب فيه ، دقائق حياة البيت والأُسرة و غير ذلك من أمور ممتعه . يزيد على ذلك طبعاً الأسلوب الشيق الممتع في الكتابة الذي جعلني أنهي الكتاب في جلستين ! أما ما ذكر غير ذلك في الكتاب من مديح لماجد ولعن لبرغش فقد كنت وطنت نفسي أن لا آخذ بشهادتها مسبقاً ، وزاد يقيني هذا بعد القراءة . فشهادتها مجروحة في كليهما ، وان كان من المفيد معرفة حياة السلطان سعيد الشخصية وخاصة في آخر أيامه . كتاب رائع . لشخصية حقيرة !</td>\n",
       "      <td>positive</td>\n",
       "      <td>[tensor(17550, device='cuda:0'), tensor(101, device='cuda:0'), tensor(26897, device='cuda:0'), tensor(148, device='cuda:0'), tensor(118, device='cuda:0'), tensor(25405, device='cuda:0'), tensor(220, device='cuda:0'), tensor(34247, device='cuda:0'), tensor(255, device='cuda:0'), tensor(41486, device='cuda:0'), tensor(149, device='cuda:0'), tensor(224, device='cuda:0'), tensor(12919, device='cuda:0'), tensor(26897, device='cuda:0'), tensor(22654, device='cuda:0'), tensor(28981, device='cuda:0'), tensor(148, device='cuda:0'), tensor(112, device='cuda:0'), tensor(148, device='cuda:0'), tensor(106, device='cuda:0'), tensor(148, device='cuda:0'), tensor(113, device='cuda:0'), tensor(22654, device='cuda:0'), tensor(220, device='cuda:0'), tensor(13862, device='cuda:0'), tensor(41486, device='cuda:0'), tensor(13862, device='cuda:0'), tensor(149, device='cuda:0'), tensor(225, device='cuda:0'), tensor(28981, device='cuda:0')]</td>\n",
       "      <td>برغم احتقاري الشخصي لتلك ال</td>\n",
       "    </tr>\n",
       "    <tr>\n",
       "      <th>62691</th>\n",
       "      <td>مقتطفات من كتاب قالوا للكاتب أنيس منصور قالوا - أنيس منصور -------------------- أقسى عذاب لامرأة ان تخلص لرجل لا تحبه ----------- المراة ليس لها مبدأ . فهي اما فوق المبادىء او تحت المبادىء --------- المرأة الشريرة اذا احبت فانها تقتل غيرها . والمراة النبيلة اذا احبت قتلت نفسها ------- المرأة تختار الرجل الذي يختارها --------- انظر الى اصابعك عندما تتهم انسانا . ان اصبعاً واحدا تشير الى هذا الانسان . واربعاً تشير اليك انت --------- عندما تحب امراة لمزاياها فليس هذا حباً . ولكن عندما تحبها رغم عيوبها فهذا هو الحب --------- الزواج عكس الحنى . فهو يبدأ بالسخونة وينتهي بالبرودة ---------- افضل علاج لقلب محطم . ان يتحطم مرة اخرى --------- مكيسنة المرأة . ان حاجتها الى الحب تشتد عندما لا تستحقه ---------- الرجل من اجل المبدأ يضحي بأي شخص . والمرأة من اجل الشخص تضحي بأي مبدأ ---------- في الحياة الزوجية يكفي ان يكون احد الزوجين عاقلاً ليعيش الاثنان سعيدين ---------- عندما يتحطم قلب . يتحطم معه كل شيء آخر ---------- اذا وجدت امراة تتحدث عن زوجها وتصفه بالجمال والكمال فاعلم انها ارملة . فالمراة</td>\n",
       "      <td>negative</td>\n",
       "      <td>[tensor(47048, device='cuda:0'), tensor(149, device='cuda:0'), tensor(224, device='cuda:0'), tensor(41486, device='cuda:0'), tensor(148, device='cuda:0'), tensor(115, device='cuda:0'), tensor(149, device='cuda:0'), tensor(223, device='cuda:0'), tensor(34247, device='cuda:0'), tensor(103, device='cuda:0'), tensor(47048, device='cuda:0'), tensor(23338, device='cuda:0'), tensor(18923, device='cuda:0'), tensor(225, device='cuda:0'), tensor(41486, device='cuda:0'), tensor(34247, device='cuda:0'), tensor(101, device='cuda:0'), tensor(18923, device='cuda:0'), tensor(224, device='cuda:0'), tensor(23525, device='cuda:0'), tensor(30335, device='cuda:0'), tensor(12919, device='cuda:0'), tensor(220, device='cuda:0'), tensor(13862, device='cuda:0'), tensor(13862, device='cuda:0'), tensor(149, device='cuda:0'), tensor(225, device='cuda:0'), tensor(34247, device='cuda:0'), tensor(103, device='cuda:0'), tensor(39848, device='cuda:0')]</td>\n",
       "      <td>مقتطفات من كتاب قالوا للكاتب</td>\n",
       "    </tr>\n",
       "    <tr>\n",
       "      <th>62693</th>\n",
       "      <td>مقولات مختلفة متنوعة . متناقضة أيضا فلكل مقولة تقريبا ماتناقضها أعجبنى منها الكثير من حيث التشبيه بلاغة الجملة . الصياغة .أكثر من اعجابى بواقعية المقولة معظم الاقوال لم تجعلنى أفكر محاولة مطابقتها للواقع فـ كون الكتاب كله أقوال عن الحب والمرأة وعلاقتها بالرجل , وتشبيههم بكل شىء يخطر أو لايخطر على البال. فى رأيى يجعله يفقد الكثير والكثير من مصداقيته ((اذا حاولنا مطابقته بالواقع )) فـ أنيس منصور هنا .ناقد ساخر والسخرية غالبا ماتكون محاطة بمبالغة شديدة بل تقوم بالمقام الاول على المبالغة وتضخيم الامور وهنا أنيس منصور لايقدم موقف بطريقة ساخرة وانما يقدم المرأة نفسها !! فينتقد المرأة بذلك فى كل موقف . ولكن هذا بالطبع لا ينفى مصداقية الكثير من الاقوال الاقوال كثيييييييرة جداً . فى البداية تحمست لقراءة الكتاب ثم أصابنى الملل ولم أقوَ على اكماله لقد أدركت ما أراده أنيس منصور . وكفى :)</td>\n",
       "      <td>negative</td>\n",
       "      <td>[tensor(47048, device='cuda:0'), tensor(149, device='cuda:0'), tensor(224, device='cuda:0'), tensor(30335, device='cuda:0'), tensor(13862, device='cuda:0'), tensor(34247, device='cuda:0'), tensor(103, device='cuda:0'), tensor(47048, device='cuda:0'), tensor(148, device='cuda:0'), tensor(106, device='cuda:0'), tensor(41486, device='cuda:0'), tensor(13862, device='cuda:0'), tensor(149, device='cuda:0'), tensor(223, device='cuda:0'), tensor(45632, device='cuda:0'), tensor(47048, device='cuda:0'), tensor(41486, device='cuda:0'), tensor(23338, device='cuda:0'), tensor(30335, device='cuda:0'), tensor(44690, device='cuda:0'), tensor(45632, device='cuda:0'), tensor(764, device='cuda:0'), tensor(47048, device='cuda:0'), tensor(41486, device='cuda:0'), tensor(23338, device='cuda:0'), tensor(12919, device='cuda:0'), tensor(149, device='cuda:0'), tensor(224, device='cuda:0'), tensor(148, device='cuda:0'), tensor(114, device='cuda:0')]</td>\n",
       "      <td>مقولات مختلفة متنوعة. متناقض</td>\n",
       "    </tr>\n",
       "    <tr>\n",
       "      <th>62695</th>\n",
       "      <td>المرأة تحب الصراحة . هذا رأيها. ولكن اذا نظرت الى فساتينها تجد ان هذة الفساتين تدل على انها لاتحب الصراحة . فالفستان قد خنق وسطها . والفستان هو الذى ابرز صدرها . وحذاؤها رفع رأسها. وكعب الحذاء قد اشاع الرقص فى جسمها. والقلم الاسود رسم حواجب لاوجود لها. وقلمها الاحمر ملأ بالورد خديها وشفتيها. فأين هى الصراحة؟ بل وأين المرأة نفسها وراء هذا العمل الفنى . أنها تخفى حقيقتها بصورة واضحة . بصورة صريحة . انها تخفى صراحتها بصراحة .!! ونحن نطلب اليها ان تكذب فى سنها وفى وزنها وفى عواطفها . وهى تطلب منا ان نكذب عليها ايضا !! .أن نجاملها . وان ندللها . ان نقول دائما انها الوحيدة فى حياتنا . انها اجمل وارق امرأة فى العـــــــــــالم . هى تكذب .ونحن نكذب . ونحن صادقون فى كذبنا وكاذبون فى صدقنا . مقدمة رائعة جدااااااا</td>\n",
       "      <td>positive</td>\n",
       "      <td>[tensor(28981, device='cuda:0'), tensor(25405, device='cuda:0'), tensor(26897, device='cuda:0'), tensor(148, device='cuda:0'), tensor(96, device='cuda:0'), tensor(45632, device='cuda:0'), tensor(17550, device='cuda:0'), tensor(103, device='cuda:0'), tensor(148, device='cuda:0'), tensor(255, device='cuda:0'), tensor(39848, device='cuda:0'), tensor(28981, device='cuda:0'), tensor(148, device='cuda:0'), tensor(113, device='cuda:0'), tensor(26897, device='cuda:0'), tensor(34247, device='cuda:0'), tensor(255, device='cuda:0'), tensor(45632, device='cuda:0'), tensor(764, device='cuda:0'), tensor(18923, device='cuda:0'), tensor(229, device='cuda:0'), tensor(148, device='cuda:0'), tensor(108, device='cuda:0'), tensor(12919, device='cuda:0'), tensor(17550, device='cuda:0'), tensor(109, device='cuda:0'), tensor(148, device='cuda:0'), tensor(96, device='cuda:0'), tensor(22654, device='cuda:0'), tensor(29519, device='cuda:0')]</td>\n",
       "      <td>المرأة تحب الصراحة. هذا رأيه</td>\n",
       "    </tr>\n",
       "    <tr>\n",
       "      <th>62696</th>\n",
       "      <td>قالوا من اجمل ما قرأت عن المرأه ووجدت كثير ممن عرفتهم بين دفتي الكتاب بس حرام يعني نقول ان الرجل بيبص للمرأه كده علي طول كل راجل حسب طبيعته فالرجل البخيل يري المراه مسرفه الرجل العاطفي الحبيب يري المراه قاسيه الرجل القبيح يري المرأه مغروره الرجل الذكي يري المرأه مش ذكيه الرجل الفحل يري أن امرأه واحده لاتكفي الرجل المنحرف يري المرأه مش أوي . الرجل المرتب يجد المرأه فوضويه الرجل القاسي يري المرأه عاطفيه زياده عن اللزوم وهكذا. كلا حسب طبيعته بس أنا رأيي أته لا يوجد رجل يكره المرأه ولكن كل رجل يريد أن يثبت انه أفضل منها و كلا حسب طبيعته ورأيي أن المرأه لغززززززززززززززززززززززز ورأي أن محاولة فهم المرأه تشبه محاولة قراءة صحيفه ممزقه في وسط الأعصار !!!! يعني من ألأخركده محدش هيفهمها اللهم الا القليل و منهم أمي وزوجتي أحتراما وحبا لهما</td>\n",
       "      <td>positive</td>\n",
       "      <td>[tensor(18923, device='cuda:0'), tensor(224, device='cuda:0'), tensor(23525, device='cuda:0'), tensor(30335, device='cuda:0'), tensor(12919, device='cuda:0'), tensor(47048, device='cuda:0'), tensor(23338, device='cuda:0'), tensor(220, device='cuda:0'), tensor(34247, device='cuda:0'), tensor(105, device='cuda:0'), tensor(25405, device='cuda:0'), tensor(13862, device='cuda:0'), tensor(47048, device='cuda:0'), tensor(12919, device='cuda:0'), tensor(18923, device='cuda:0'), tensor(224, device='cuda:0'), tensor(26897, device='cuda:0'), tensor(148, device='cuda:0'), tensor(96, device='cuda:0'), tensor(41486, device='cuda:0'), tensor(17550, device='cuda:0'), tensor(117, device='cuda:0'), tensor(23338, device='cuda:0'), tensor(28981, device='cuda:0'), tensor(25405, device='cuda:0'), tensor(26897, device='cuda:0'), tensor(148, device='cuda:0'), tensor(96, device='cuda:0'), tensor(29519, device='cuda:0'), tensor(42092, device='cuda:0')]</td>\n",
       "      <td>قالوا من اجمل ما قرأت عن المرأه و</td>\n",
       "    </tr>\n",
       "    <tr>\n",
       "      <th>62712</th>\n",
       "      <td>الكل بالطبع يعلم عن \" دكتور جيكل ومستر هايد\" . حتى دون قراءه الروايه فإن هذه الجملة ترسل إليك مُباشرة فكره إزدواجية البشر وانقسام رغباتهم بين الخير والشر . في الحقيقة كُنت أظن أن الرواية عبارة عن قصة مريض بإنفصام الشخصية، حيث أنني أجد كثيراً من المراجعات والإستدلالات لهذه الروايه في بعض المقالات التي أقرأها. وفي لحظة شجاعة قررت أن أبحث عن الرواية وأقرأها ^^\" جيده، جميله . لكنها ليست بذلك الذهول رغم غرابة فكرتها وتفردها . : عقار خيالي يفصل شخصيتك لتتحول إلي شخص آخر، بشري مختلف تماماً عن \"أنت\" الذي يعرفه الكل، شُرٌ خالص إمتلك جسداً له . الرواية جيده وقرأتها في إنتظار مُحاضرتي في الكُليه، ممتعه ومن الجيد قراءتها بالتأكيد إن أردت أن تطلع على كلاسيكيات غيرت أدبنا وأثرت عليه كثيراً : )</td>\n",
       "      <td>positive</td>\n",
       "      <td>[tensor(28981, device='cuda:0'), tensor(149, device='cuda:0'), tensor(225, device='cuda:0'), tensor(13862, device='cuda:0'), tensor(17550, device='cuda:0'), tensor(101, device='cuda:0'), tensor(23525, device='cuda:0'), tensor(148, device='cuda:0'), tensor(115, device='cuda:0'), tensor(39848, device='cuda:0'), tensor(44690, device='cuda:0'), tensor(18923, device='cuda:0'), tensor(232, device='cuda:0'), tensor(44690, device='cuda:0'), tensor(13862, device='cuda:0'), tensor(25405, device='cuda:0'), tensor(17550, device='cuda:0'), tensor(117, device='cuda:0'), tensor(23338, device='cuda:0'), tensor(366, device='cuda:0'), tensor(17550, device='cuda:0'), tensor(107, device='cuda:0'), tensor(149, device='cuda:0'), tensor(225, device='cuda:0'), tensor(41486, device='cuda:0'), tensor(30335, device='cuda:0'), tensor(26897, device='cuda:0'), tensor(17550, device='cuda:0'), tensor(105, device='cuda:0'), tensor(22654, device='cuda:0')]</td>\n",
       "      <td>الكل بالطبع يعلم عن \" دكتور جي</td>\n",
       "    </tr>\n",
       "    <tr>\n",
       "      <th>62716</th>\n",
       "      <td>ألّف \" روبرت لويس ستيفنسون\" هذه الرواية في سنة 1885، ونشرها في العام التالي، وأحدثت ضجة كبيرة عند نشرها في بريطانيا لأنها كانت المرة الأولى التي تدور فيها أحداث رواية رعب قوطية في أنحاء لندن ولشخصية إنجليزية بروتستانتنية ينبع الشر من داخلها، وكان المجتمع الإنجليزي غير معتاد على هذا الأسلوب والمنهج الروائي. تدور أحداث الرواية بإختصار حول نفسية البشر التي يتنازعها الخير والشر بداخلها، فكل منا بداخله الإستعداد الفطري لكي يكون خيّراً أو شريراً، ولكن هناك القيود والمبادئ التي تحيط بالشخص فتعمل على كبح جماح نفسه وتهذيبها، وهو ما حدث مع الشخصية الرئيسية في الرواية الدكتور \" جيكل\"، فهو طبيب مرموق ومحترم، وله سمعة حسنة و طيبة في المجتمع، ولكنه يجنح إلى اللهو والترف، ويتوق إلى أن ينزع عنه أغلال المجتمع الكاذبة التي تقيد تحركاته، فيصبح بين نارين، نار شهواته وملذاته التي تعتمل في داخله، ونار القيود المجتمعية التي تُحيط به، فيلجأ إلى تحويل نفسه لشخصية أخرى هي المستر \" هايد\"، يرتكب من خلالها كل المساوئ، ثم يعود مرة أخرى إلى شخصيته الحقيقية، وهو لا يشعر بأي ذنب اقترفه، وكأنه أزاح عن كاهله تأنيب الضمي</td>\n",
       "      <td>positive</td>\n",
       "      <td>[tensor(17550, device='cuda:0'), tensor(96, device='cuda:0'), tensor(13862, device='cuda:0'), tensor(149, device='cuda:0'), tensor(239, device='cuda:0'), tensor(149, device='cuda:0'), tensor(223, device='cuda:0'), tensor(366, device='cuda:0'), tensor(17550, device='cuda:0'), tensor(109, device='cuda:0'), tensor(30335, device='cuda:0'), tensor(39848, device='cuda:0'), tensor(26897, device='cuda:0'), tensor(41486, device='cuda:0'), tensor(220, device='cuda:0'), tensor(13862, device='cuda:0'), tensor(30335, device='cuda:0'), tensor(22654, device='cuda:0'), tensor(45692, device='cuda:0'), tensor(17550, device='cuda:0'), tensor(111, device='cuda:0'), tensor(41486, device='cuda:0'), tensor(22654, device='cuda:0'), tensor(149, device='cuda:0'), tensor(223, device='cuda:0'), tensor(23338, device='cuda:0'), tensor(45692, device='cuda:0'), tensor(30335, device='cuda:0'), tensor(23338, device='cuda:0'), tensor(1, device='cuda:0')]</td>\n",
       "      <td>ألّف \" روبرت لويس ستيفنسون\"</td>\n",
       "    </tr>\n",
       "    <tr>\n",
       "      <th>62717</th>\n",
       "      <td>تقريبا من اوائل الحاجت اللى قرتيها.ومن اروعهم.لانها فى راى دفعت بفكرة الاذدواجية اللى جوه البشر.ان اكثر قدرة على ارتكاب الشر.هما الاخيار جدا.كل انسان جواها الخير والشر بنسب متساوية على قدرة على التحكم فى الخير او الشر هو ده المجهود.وده يتفق مع النص القران: \"ونفس وما سوائها،فالهمها فجورها وتقوائها،قد افلح من زكائها وقد خاب من دسها\" القصة بتكلم عن دكتور معروف عنه حسن السمعة والاعمال الخيرية،بيخترع زى مصل يطلع الشر الخالص جو الانسان بيجربه على نفسه و يطلع مستر هايد اللى جوه .انا ماعرفش هل الطب النفسى اللى اللهم الكاتب بالقصة دى و لا العكس.بس قصة ماحدش يندم انه قرائها</td>\n",
       "      <td>positive</td>\n",
       "      <td>[tensor(17550, device='cuda:0'), tensor(103, device='cuda:0'), tensor(149, device='cuda:0'), tensor(224, device='cuda:0'), tensor(26897, device='cuda:0'), tensor(22654, device='cuda:0'), tensor(39848, device='cuda:0'), tensor(12919, device='cuda:0'), tensor(47048, device='cuda:0'), tensor(23338, device='cuda:0'), tensor(220, device='cuda:0'), tensor(12919, device='cuda:0'), tensor(30335, device='cuda:0'), tensor(34247, device='cuda:0'), tensor(99, device='cuda:0'), tensor(13862, device='cuda:0'), tensor(28981, device='cuda:0'), tensor(148, device='cuda:0'), tensor(255, device='cuda:0'), tensor(34247, device='cuda:0'), tensor(105, device='cuda:0'), tensor(41486, device='cuda:0'), tensor(28981, device='cuda:0'), tensor(13862, device='cuda:0'), tensor(149, device='cuda:0'), tensor(231, device='cuda:0'), tensor(18923, device='cuda:0'), tensor(224, device='cuda:0'), tensor(26897, device='cuda:0'), tensor(41486, device='cuda:0')]</td>\n",
       "      <td>تقريبا من اوائل الحاجت اللى قرت</td>\n",
       "    </tr>\n",
       "    <tr>\n",
       "      <th>62726</th>\n",
       "      <td>الدكتور جيكل ومستر هايد رواية كلاسيكية كتبها الأديب الأسكتلندي روبرت لويس ستيفنسون ، تدور أحداثها حول محامي يسكن لندن اسمه السيد أندرسون . حين يقوم بالتقصي عن صديق قديم له يدعى الدكتور هنري جيكل وإدوارد هايد الشرير . تتكلم الرواية عن حالة نفسية يطلق عليها عن طريق الخطأ ( انفصام الشخصية ) . حيث يوجد للدكتور جيكل شخصيتين مختلفتين تمام الاختلاف من الناحية الأخلاقية . اشتهرت الرواية عالميا بشكل كبير حتى اصبح تعبير جيكل وهايد أصبح دارجا وسط عامة التاس والأطباء لوصف أي شخص تختلف شخصيته بين طيب وشرير من موقف لآخر.</td>\n",
       "      <td>positive</td>\n",
       "      <td>[tensor(28981, device='cuda:0'), tensor(38843, device='cuda:0'), tensor(149, device='cuda:0'), tensor(225, device='cuda:0'), tensor(41486, device='cuda:0'), tensor(30335, device='cuda:0'), tensor(26897, device='cuda:0'), tensor(17550, device='cuda:0'), tensor(105, device='cuda:0'), tensor(22654, device='cuda:0'), tensor(149, device='cuda:0'), tensor(225, device='cuda:0'), tensor(13862, device='cuda:0'), tensor(42092, device='cuda:0'), tensor(25405, device='cuda:0'), tensor(45692, device='cuda:0'), tensor(41486, device='cuda:0'), tensor(26897, device='cuda:0'), tensor(18923, device='cuda:0'), tensor(229, device='cuda:0'), tensor(12919, device='cuda:0'), tensor(22654, device='cuda:0'), tensor(38843, device='cuda:0'), tensor(17550, device='cuda:0'), tensor(109, device='cuda:0'), tensor(30335, device='cuda:0'), tensor(12919, device='cuda:0'), tensor(22654, device='cuda:0'), tensor(45632, device='cuda:0'), tensor(18923, device='cuda:0')]</td>\n",
       "      <td>الدكتور جيكل ومستر هايد رواية �</td>\n",
       "    </tr>\n",
       "    <tr>\n",
       "      <th>62765</th>\n",
       "      <td>قصيرة هي هذه القصة و متماسكة و مفعمة بالمعاني و الصور و الأحداث ,, تقرؤها فتنتهي فجأة , كقطعة حلوى لذيذة دسمة . يكاد حوار الشخصيات يكون ملتحما دون فواصل , ينتقل بك فجأة من زمن إلى زمن و من شخص إلى آخر , فيصبح الأشخاص و الزمن كتلة واحدة لكنها منسابة كالموج . من الأفضل ألا تكون هذه القصة أول ما يقرؤه الشخص لكنفاني لأنه من الضروري أن يملك فكرة عن أسلوبه و طريقة تشبيهه للأمور من خلال كتابات أخرى. لن ألخص القصة بأسلوبي أو أقتبس منها , سأقول أنها تستحق القراءة فعلاً , تستحق أن تغرق فيها و تعيشها بخيالك بكل التفاصيل التي يبرع غسان برسمها دائماً , تفاصيل الصورة و الصوت و المشاعر .</td>\n",
       "      <td>positive</td>\n",
       "      <td>[tensor(18923, device='cuda:0'), tensor(224, device='cuda:0'), tensor(148, device='cuda:0'), tensor(113, device='cuda:0'), tensor(22654, device='cuda:0'), tensor(26897, device='cuda:0'), tensor(45632, device='cuda:0'), tensor(18923, device='cuda:0'), tensor(229, device='cuda:0'), tensor(22654, device='cuda:0'), tensor(18923, device='cuda:0'), tensor(229, device='cuda:0'), tensor(148, device='cuda:0'), tensor(108, device='cuda:0'), tensor(29519, device='cuda:0'), tensor(28981, device='cuda:0'), tensor(149, device='cuda:0'), tensor(224, device='cuda:0'), tensor(148, device='cuda:0'), tensor(113, device='cuda:0'), tensor(45632, device='cuda:0'), tensor(42092, device='cuda:0'), tensor(47048, device='cuda:0'), tensor(41486, device='cuda:0'), tensor(25405, device='cuda:0'), tensor(34247, device='cuda:0'), tensor(111, device='cuda:0'), tensor(149, device='cuda:0'), tensor(225, device='cuda:0'), tensor(45632, device='cuda:0')]</td>\n",
       "      <td>قصيرة هي هذه القصة و متماسكة</td>\n",
       "    </tr>\n",
       "    <tr>\n",
       "      <th>62781</th>\n",
       "      <td>-ذكري موقعة ألوان آخري ! إيماناً بوجوب تسجيل لحظات السرور فانا خرجت بعد صلاة العشاء مع صديقى إبراهيم ثم قال لي أريد أن أفك هذه المائة جنية وكشخص خبيث قلت له نفكها من المكتبة نشوف الكتب الجديدة ؛ تطور الامر من ناحيتى بتلميح لوجود بعض الكتب على القائمة لم أشتريها ثم دخلنا المكتبة وقال لي القائم عليها ةكتاب الوان أخرى أشترناه وحضرتك كنت طالبة وأنا من ناحيتى كنت بالترنج وما معي يكفى لشرب كوبين عصير قصب فقط أبتسمت ونظرت للكتاب بحنين ونظرت الى إبراهيم فأبتسم بدورة ! أرجعت الكتاب الى مكانة ثم نظر الي إبراهيم وقال لي سادفع ثمنه فك المائة جنية فخرج بنصفها فقط ورجعت فرحان بشرب سبريت وبقول فى البيت نخب هؤلاء الأصدقاء والكتب الجديدة !- هذا ما سجلته عندما أهداه لي صديق واليوم أشعر بالأمتنان أكثر لهذا الصديق مع هذا الكتاب الجميل .أورهان يجعك بعد مقالة واحدة نتهى من عدة موضوعات كنت تؤجل كتابتها الكتاب رائع</td>\n",
       "      <td>positive</td>\n",
       "      <td>[tensor(532, device='cuda:0'), tensor(148, device='cuda:0'), tensor(108, device='cuda:0'), tensor(149, device='cuda:0'), tensor(225, device='cuda:0'), tensor(26897, device='cuda:0'), tensor(22654, device='cuda:0'), tensor(47048, device='cuda:0'), tensor(30335, device='cuda:0'), tensor(149, device='cuda:0'), tensor(224, device='cuda:0'), tensor(44690, device='cuda:0'), tensor(45632, device='cuda:0'), tensor(17550, device='cuda:0'), tensor(96, device='cuda:0'), tensor(13862, device='cuda:0'), tensor(30335, device='cuda:0'), tensor(12919, device='cuda:0'), tensor(23338, device='cuda:0'), tensor(17550, device='cuda:0'), tensor(95, device='cuda:0'), tensor(148, device='cuda:0'), tensor(106, device='cuda:0'), tensor(26897, device='cuda:0'), tensor(22654, device='cuda:0'), tensor(5145, device='cuda:0'), tensor(17550, device='cuda:0'), tensor(98, device='cuda:0'), tensor(22654, device='cuda:0'), tensor(25405, device='cuda:0')]</td>\n",
       "      <td>-ذكري موقعة ألوان آخري! إيم</td>\n",
       "    </tr>\n",
       "    <tr>\n",
       "      <th>62782</th>\n",
       "      <td>بعض الكتب تمتلك خاصية النفاذ، ولكنها على أية حال قليلة - بالنسبة لي - احدها انتهيت من قراءته اليوم، كتاب ألوان أخرى لأورهان باموق، ذكرني بكتاب قرأته لغادة السمان في العام 2006م ، مواطنة متلبسة بالقراءة، أتذكر أن الصفحات عبرت بي لعالم آخر، عالم الكتب التي لم اقتنيها، ولم اقرأها. أورهان في كتابه الوان أخرى تحدث عن نفسه، عن الحياة، عن كتب الآخرين، وعن كتبه التي هي حياته، قد يبدو لكم الكتاب ملونا ومنوعاً بصوره تدفعكم للاعتقاد بأن قراءته من أي جزء ممكنه، وهذا صحيح إلى حد ما، لكنني بدأت القراءة بشكل متسلسل واعتقد بأنني توصلت لسرّ كتابة الفصول على هذه الشاكلة، الكاتب الذكي يأخذنا بالتدريج، يتحدث إلينا عن نفسه، أيامه، أشياءه المحببة، يتحدث بصوتنا الداخلي، عن الأرق والنوارس والمساحات، عن طفلته الصغيرة، حتى نصل لحقيقة إننا نعرف هذا الرجل جيداً، قد يكون جارنا، أبونا، اخونا ؟ ومن ثمّ ينتقل للعمود الفقري للحياة كما أراها، الكتب والقراءة، انه يقول لكم ما تريدون معرفته ثمّ يعود ويضع أفكاره وانطباعاته الأولى عن مؤلفي العالم وكتبهم. من بعد ينتقل بنا للسياسة، لأوروبا يحاول أن يضع في الطبق أمامكم وجبة سه</td>\n",
       "      <td>positive</td>\n",
       "      <td>[tensor(17550, device='cuda:0'), tensor(101, device='cuda:0'), tensor(44690, device='cuda:0'), tensor(148, device='cuda:0'), tensor(114, device='cuda:0'), tensor(28981, device='cuda:0'), tensor(149, device='cuda:0'), tensor(225, device='cuda:0'), tensor(41486, device='cuda:0'), tensor(39848, device='cuda:0'), tensor(17550, device='cuda:0'), tensor(103, device='cuda:0'), tensor(25405, device='cuda:0'), tensor(41486, device='cuda:0'), tensor(13862, device='cuda:0'), tensor(149, device='cuda:0'), tensor(225, device='cuda:0'), tensor(17550, device='cuda:0'), tensor(106, device='cuda:0'), tensor(34247, device='cuda:0'), tensor(113, device='cuda:0'), tensor(22654, device='cuda:0'), tensor(45632, device='cuda:0'), tensor(28981, device='cuda:0'), tensor(23338, device='cuda:0'), tensor(149, device='cuda:0'), tensor(223, device='cuda:0'), tensor(34247, device='cuda:0'), tensor(108, device='cuda:0'), tensor(148, device='cuda:0')]</td>\n",
       "      <td>بعض الكتب تمتلك خاصية النفاذ�</td>\n",
       "    </tr>\n",
       "    <tr>\n",
       "      <th>62783</th>\n",
       "      <td>قريبا ان شاء الله . * حجمه كبيرا نوعا ما *أعده من أقرب الكتب لنفسي. *أجلت كتابة المراجعة لشعوري بأني لن أكون منصفة بحق الكتاب . لأنه أعجبني جدا، وشعرت بالقرب الشديد من الكاتب و كتاباته . لكن يبدو أن هالته ذات الألوان الأخرى ستحيط بي لمدة طويلة. * الكتاب يحوي مجموعة من المقالات المتنوعة. بعضها كان تأملات بسيطة ودقيقة جداً لدرجة أنها لا تصلح للنشر لوحدها. كتب عن حياته، رؤيته للحياة، روياته، كتبه المفضلة ، وبعض المقابلات، وختمها بقصة بسيطة دمعت لها عيناي. * طريقة تذكره لتأملاته حول أدق التفاصيل في الأحداث والأشخاص والمشاعر مذهلة. طريقة تحليلة للأمور وأجابته لكثير من تساؤلاته (وتساؤلاتي) جميلة حتى لو لم أقتنع بالكامل. مراجعته للكتب وبعض الروايات تبدو كأقصوصة تدخلك في ذهنه لتفهم تماماً ماذا يعني وكيف قرأه. طريقة كتابته للروايات دليل مجاني لمن يمتهن الكتابة الروائية. أشعر بأني سأفسد متعة الكتاب في حال ذكرت تفاصيل أكثر. *الترجمة جميلة و لا تشعرك أبدا بأنه نص متراص من غير اندماج.</td>\n",
       "      <td>positive</td>\n",
       "      <td>[tensor(18923, device='cuda:0'), tensor(224, device='cuda:0'), tensor(26897, device='cuda:0'), tensor(22654, device='cuda:0'), tensor(39848, device='cuda:0'), tensor(12919, device='cuda:0'), tensor(220, device='cuda:0'), tensor(12919, device='cuda:0'), tensor(23338, device='cuda:0'), tensor(17550, device='cuda:0'), tensor(112, device='cuda:0'), tensor(34247, device='cuda:0'), tensor(94, device='cuda:0'), tensor(28981, device='cuda:0'), tensor(13862, device='cuda:0'), tensor(29519, device='cuda:0'), tensor(764, device='cuda:0'), tensor(1635, device='cuda:0'), tensor(17550, device='cuda:0'), tensor(255, device='cuda:0'), tensor(148, device='cuda:0'), tensor(105, device='cuda:0'), tensor(25405, device='cuda:0'), tensor(29519, device='cuda:0'), tensor(18923, device='cuda:0'), tensor(225, device='cuda:0'), tensor(39848, device='cuda:0'), tensor(22654, device='cuda:0'), tensor(26897, device='cuda:0'), tensor(12919, device='cuda:0')]</td>\n",
       "      <td>قريبا ان شاء الله. * حجمه كبيرا</td>\n",
       "    </tr>\n",
       "    <tr>\n",
       "      <th>62784</th>\n",
       "      <td>استمتعت جدا جدا بالكتاب . صحيح أنه كان مجرد مقالات وبعضها لا تعبر إلا عن رأي الكاتب نفسه لكن أحسست بأن أفكاره قريبة مني جدا كم أتمنى من كثير من الكتّاب الذين أتابعهم بشغف كتابا مماثلا. مثل هذه الكتب تجعلك تعرف ما يحصل خلف الكتاب وكأنك تشاهد مشاهد التصوير - وراء الكواليس - لفيلم سينمائي ماذا ألهم الكاتب؟ فيم كان يفكر؟ ما هي القصة وراد فكرة معينة ؟ جميعها تفاصيل صغيرة تجعلك أقرب للمؤلف والكتاب معاً وهي التي تشعرك بالعلاقة المتينة التي قد تربطك بأحد كتبك المميزة !! أورهان كاتب بالفطرة . وهو ما يؤكده هذا الكتاب من أول مقال فعلى الرغم من أن بعضها لا يتجاوز ثلاث صفحات إلا أنها تأخذ من وعيك نصيبا كبيرا فمن أجواء اسطنبول وناسها ومبانيها وحدائقها وكلابها - أكرمكم الله- إلى كارثة زلزال ٩٩ إلى قضية الهوية التركية المتأرجحة بين الشرق والغرب وموقف الأتراك أنفسهم من هذه الأحداث. هذا الكتاب بالذات شكّل خاتمة مميزة لكتب العام المنصرم . وهو ما دفعني للبحث عن كتب أخرى لنفس الكاتب أخيرا . إن كنت قرأت لأورهان سلفا فهنيئا لك ،، وإن لم تفعل فالأحرى بك أن تبدأ بذلك منذ الآن كما سأفعل إن شاء الله :)</td>\n",
       "      <td>positive</td>\n",
       "      <td>[tensor(220, device='cuda:0'), tensor(34247, device='cuda:0'), tensor(111, device='cuda:0'), tensor(41486, device='cuda:0'), tensor(25405, device='cuda:0'), tensor(41486, device='cuda:0'), tensor(44690, device='cuda:0'), tensor(41486, device='cuda:0'), tensor(17550, device='cuda:0'), tensor(105, device='cuda:0'), tensor(38843, device='cuda:0'), tensor(12919, device='cuda:0'), tensor(17550, device='cuda:0'), tensor(105, device='cuda:0'), tensor(38843, device='cuda:0'), tensor(12919, device='cuda:0'), tensor(17550, device='cuda:0'), tensor(101, device='cuda:0'), tensor(23525, device='cuda:0'), tensor(149, device='cuda:0'), tensor(225, device='cuda:0'), tensor(41486, device='cuda:0'), tensor(34247, device='cuda:0'), tensor(101, device='cuda:0'), tensor(764, device='cuda:0'), tensor(17550, device='cuda:0'), tensor(113, device='cuda:0'), tensor(148, device='cuda:0'), tensor(255, device='cuda:0'), tensor(22654, device='cuda:0')]</td>\n",
       "      <td>استمتعت جدا جدا بالكتاب. صحي</td>\n",
       "    </tr>\n",
       "    <tr>\n",
       "      <th>62785</th>\n",
       "      <td>ألوان أخرى يمكننا القول بكل ثقة أنه لا أحد يكتب عن ذاته كما يفعل الروائي، فذلك الكائن المتوحد الذي يجلس إلى طاولة لسنوات طويلة - ثلاثين في حالة باموق -، يكتب ويكتشف ذاته، يفرقها على أبطاله، ويعيد كتابتها مرات ومرات، عندما يجلس بعد كل تلك السنوات ليكتب عن نفسه، ولكن هذه المرة بلا أقنعة، بلا شخصيات، بلا حبكة أو عقدة، وإنما كائن ورقي الهوى، يعشق الكتب، فيقرئها، ويعشقها أكثر فيكتبها، ويعشقها بعد فينقدها، ويحللها، ويأخذنا في رحلة إلى كتابه المفضلين، ولحظات كتابته المفضلة، يندر أن يكتب روائي عن نفسه، فلا يتحدث عن الكتب والكتَاب ولحظات الكتابة وظروفها وعن كتاباته، كيف جاءت؟ ما هي جذورها في روحه؟ وباموق كتب هذا كله في مقالاته هذه، وزادها بالحديث عن ما مر به من أحداث في طفولته، عن علاقته بوالده، عن الزلزال الذي ضرب تركيا سنة 1999 م، عن الكتب التي أحبها، والكتب التي تخلص منها، عن رواياته، وعن محاكمته، وأخيراً الخطاب الذي ألقاه عندما تسلم جائزة نوبل للآداب سنة 2006 م بعنوان (حقيبة أبي).</td>\n",
       "      <td>positive</td>\n",
       "      <td>[tensor(17550, device='cuda:0'), tensor(96, device='cuda:0'), tensor(13862, device='cuda:0'), tensor(30335, device='cuda:0'), tensor(12919, device='cuda:0'), tensor(23338, device='cuda:0'), tensor(17550, device='cuda:0'), tensor(96, device='cuda:0'), tensor(148, device='cuda:0'), tensor(106, device='cuda:0'), tensor(26897, device='cuda:0'), tensor(149, device='cuda:0'), tensor(231, device='cuda:0'), tensor(18923, device='cuda:0'), tensor(232, device='cuda:0'), tensor(25405, device='cuda:0'), tensor(149, device='cuda:0'), tensor(225, device='cuda:0'), tensor(23338, device='cuda:0'), tensor(23338, device='cuda:0'), tensor(12919, device='cuda:0'), tensor(28981, device='cuda:0'), tensor(149, device='cuda:0'), tensor(224, device='cuda:0'), tensor(30335, device='cuda:0'), tensor(13862, device='cuda:0'), tensor(17550, device='cuda:0'), tensor(101, device='cuda:0'), tensor(149, device='cuda:0'), tensor(225, device='cuda:0')]</td>\n",
       "      <td>ألوان أخرى يمكننا القول بك</td>\n",
       "    </tr>\n",
       "    <tr>\n",
       "      <th>62793</th>\n",
       "      <td>أقولُ له : أصبتُ بالعدوى، وسالَ في ليلِ الكتابةِ حليب  أشعار درويش من جهة و مقدمة نصري من جهة أخرى ! مزيجٌ من الجمال هما؛ فالمقدمة راائعة . تدفعك دفعاً لقراءةِ ما بعدها يقولُ نصري : أجملُ الشعرِ نقصانه، لأنه، إن اكتمل، تحجّر ! ويذكر أيضاً أن لفلسطين في شعرِ درويش، مستقبلاً فوق طاقة الزمن . تاريخه الآتي، مرسومٌ في المدى الإنساني الحيوي، الفائق الاندفاع، باتجاهِ الخلاص . أو الانعدام . أما عن أشعارِ درويش فليس لدي ما أقول أكثرُ مما يقالُ فيها ! إن الشهادةَ في أشعاركَ يا درويش مجروحة ! =) *الكتاب خفيف وجميل مُناسب لأوقاتِ الانتظار أو خلال مشوار السيارة</td>\n",
       "      <td>positive</td>\n",
       "      <td>[tensor(220, device='cuda:0'), tensor(17550, device='cuda:0'), tensor(96, device='cuda:0'), tensor(149, device='cuda:0'), tensor(224, device='cuda:0'), tensor(30335, device='cuda:0'), tensor(13862, device='cuda:0'), tensor(149, device='cuda:0'), tensor(237, device='cuda:0'), tensor(220, device='cuda:0'), tensor(13862, device='cuda:0'), tensor(29519, device='cuda:0'), tensor(1058, device='cuda:0'), tensor(17550, device='cuda:0'), tensor(96, device='cuda:0'), tensor(148, device='cuda:0'), tensor(113, device='cuda:0'), tensor(39848, device='cuda:0'), tensor(41486, device='cuda:0'), tensor(149, device='cuda:0'), tensor(237, device='cuda:0'), tensor(17550, device='cuda:0'), tensor(101, device='cuda:0'), tensor(23525, device='cuda:0'), tensor(44690, device='cuda:0'), tensor(38843, device='cuda:0'), tensor(30335, device='cuda:0'), tensor(149, device='cuda:0'), tensor(231, device='cuda:0'), tensor(148, device='cuda:0')]</td>\n",
       "      <td>أقولُ له : أصبتُ بالعدوى�</td>\n",
       "    </tr>\n",
       "    <tr>\n",
       "      <th>62794</th>\n",
       "      <td>بعد أن تجاوزت فترة الولع بألغاز المغامرين الخمسة والمغامرين الثلاثة والشياطين الثلاثة عشر، وبدأت بقراءة الروايات الأدبية لنجيب محفوظ وسهيل إدريس وإحسان عبدالقدوس وغيرهما، وقع في يدي هذا الكتاب. قرأته بداية على سبيل التسلية والتغيير، لكني فوجئت أولا بأسلوبه الأدبي الرصين، وثانيا بحبكته الذكية، وثالثا بكونه موجها لفئة عمرية شابة، وليس للأولاد أو الناشئة لكن للأسف، لم تكن سلسلة الرجل المستحيل متوفرة حينها كالألغاز، فكان الحصول عليها صعبا، لذا فإن ما قرأته منها هو أقل مما لم أقرأه، وبعضها قرأته من فترة قريبة \"نسبيا\" (سبع أو ثمان سنوات) وهي سلسلة جديرة بالقراءة، ممتعة، وتنمي الكثير من الملكات لدى قارئها، أهمها، كيف يفخر بكونه عربيا.</td>\n",
       "      <td>positive</td>\n",
       "      <td>[tensor(17550, device='cuda:0'), tensor(101, device='cuda:0'), tensor(44690, device='cuda:0'), tensor(38843, device='cuda:0'), tensor(17550, device='cuda:0'), tensor(96, device='cuda:0'), tensor(23338, device='cuda:0'), tensor(17550, device='cuda:0'), tensor(103, device='cuda:0'), tensor(148, device='cuda:0'), tensor(105, device='cuda:0'), tensor(12919, device='cuda:0'), tensor(30335, device='cuda:0'), tensor(148, device='cuda:0'), tensor(110, device='cuda:0'), tensor(41486, device='cuda:0'), tensor(18923, device='cuda:0'), tensor(223, device='cuda:0'), tensor(41486, device='cuda:0'), tensor(26897, device='cuda:0'), tensor(45632, device='cuda:0'), tensor(28981, device='cuda:0'), tensor(30335, device='cuda:0'), tensor(13862, device='cuda:0'), tensor(44690, device='cuda:0'), tensor(17550, device='cuda:0'), tensor(101, device='cuda:0'), tensor(148, device='cuda:0'), tensor(96, device='cuda:0'), tensor(13862, device='cuda:0')]</td>\n",
       "      <td>بعد أن تجاوزت فترة الولع بأل</td>\n",
       "    </tr>\n",
       "    <tr>\n",
       "      <th>62798</th>\n",
       "      <td>قرأت \" مبسوطة يا مصر \" لأشرف توفيق . وأنا مبسوووووووووووطة على الآخر .وخلصته في قعدة صفا أعجبني فيه \" كوز المحبة اتخرم طرطش على كمي . يا حبيبي بطل جفا وارحم عذاب امي \" ! من الكتاب : \" سؤال أحياء : ارسم من خيالك الجهاز الهضمي لسمكة قرش في البحر الأحمر أكلت حالا مواطنا مصريا .من عبارة غارقة \" اوعى تعيط . خليك مؤمن يا راجل \"\" \" ناس ولاد شحيبر صحيح \" !! حلو جزئية \" فيلم هندي \" و \" رجل المستحيل \" . بصراحة الراجل ده توووووووووحفة .ههههه \" انا اسمي جون \" ذكرتني بايام الفرنسي الكتاب بصراحة جرعة ضحك مش طبيعية انصح بقراءته</td>\n",
       "      <td>positive</td>\n",
       "      <td>[tensor(18923, device='cuda:0'), tensor(224, device='cuda:0'), tensor(26897, device='cuda:0'), tensor(148, device='cuda:0'), tensor(96, device='cuda:0'), tensor(41486, device='cuda:0'), tensor(366, device='cuda:0'), tensor(47048, device='cuda:0'), tensor(39848, device='cuda:0'), tensor(45692, device='cuda:0'), tensor(30335, device='cuda:0'), tensor(148, device='cuda:0'), tensor(115, device='cuda:0'), tensor(45632, device='cuda:0'), tensor(18923, device='cuda:0'), tensor(232, device='cuda:0'), tensor(12919, device='cuda:0'), tensor(47048, device='cuda:0'), tensor(148, device='cuda:0'), tensor(113, device='cuda:0'), tensor(26897, device='cuda:0'), tensor(366, device='cuda:0'), tensor(220, device='cuda:0'), tensor(13862, device='cuda:0'), tensor(148, device='cuda:0'), tensor(96, device='cuda:0'), tensor(148, device='cuda:0'), tensor(112, device='cuda:0'), tensor(26897, device='cuda:0'), tensor(149, device='cuda:0')]</td>\n",
       "      <td>قرأت \" مبسوطة يا مصر \" لأشر�</td>\n",
       "    </tr>\n",
       "    <tr>\n",
       "      <th>62823</th>\n",
       "      <td>الكتاب عبارة عن مجموعة حوارات مع الدكتور عبدالوهاب المسيري حول العديد من الأفكار والمباديء التي كتب بناءً عليها موسوعته \"اليهود واليهودية والصهيونية\". اعتمد الدكتور على أسلوب التحليل والتفسير والتفكيك ومن ثم البناء للمصطلحات والموضوعات المطروحة في عالمنا العربي بعيدًا عن الخطاب السياسي العربي المسيّس. الكتاب يضم بابين تحدث في الأول عن موسوعته، الدولة الصهيونية واتجاهاتها وأوجه التشابه بين الإستعمار الصهيوني والاستعمار الغربي، الدولة الوظيفية أي إسرائيل التي وُظّفت لصالح الإمبريالية الغربية واستراتيجية توسيع نفوذها والهيمنة على العالم و العالم العربي تحديدًا. الباب الثاني تحدث عن اليهود واليهودية نفى وجود مايسمى \" بالشيطان اليهودي\" أو \" العبقري اليهودي\" لأن اليهودي نتاج لوطنه الأم كما كل البشر ولايجوز تعميم صفة على كل يهود العالم المنتشرين في أنحائه. تطرق للهولوكوست والرؤية الغربية العنصرية للإنسان و محاولة إبادة أي عنصر غير استعمالي لايضيف شيء للحضارة الغربية الداروينية . الهولوكوست صورة واضحة لهذا النمط والذي تكرر في إفريقيا وفلسطين وبغداد وأفغانستان. أخيرًا تطرق للمؤامرة كنموذج تفسير</td>\n",
       "      <td>positive</td>\n",
       "      <td>[tensor(28981, device='cuda:0'), tensor(149, device='cuda:0'), tensor(225, device='cuda:0'), tensor(41486, device='cuda:0'), tensor(34247, device='cuda:0'), tensor(101, device='cuda:0'), tensor(17550, device='cuda:0'), tensor(117, device='cuda:0'), tensor(39848, device='cuda:0'), tensor(12919, device='cuda:0'), tensor(26897, device='cuda:0'), tensor(45632, device='cuda:0'), tensor(17550, device='cuda:0'), tensor(117, device='cuda:0'), tensor(23338, device='cuda:0'), tensor(47048, device='cuda:0'), tensor(148, device='cuda:0'), tensor(105, device='cuda:0'), tensor(25405, device='cuda:0'), tensor(30335, device='cuda:0'), tensor(44690, device='cuda:0'), tensor(45632, device='cuda:0'), tensor(17550, device='cuda:0'), tensor(255, device='cuda:0'), tensor(30335, device='cuda:0'), tensor(12919, device='cuda:0'), tensor(26897, device='cuda:0'), tensor(34247, device='cuda:0'), tensor(103, device='cuda:0'), tensor(47048, device='cuda:0')]</td>\n",
       "      <td>الكتاب عبارة عن مجموعة حوارات م</td>\n",
       "    </tr>\n",
       "    <tr>\n",
       "      <th>62834</th>\n",
       "      <td>حبتهاااااا اووووووووي بجد رائعة :))))) مجمعة معاني حلوووة كتير ^_^ كأن كل حاجة الواحد يحبها لقاها فيها :)) من أول اسمها اللي شدني لبساطة طريقة الكتابة لتلقائيتها للكلام الرائع اللي فيها عجبني فيها جمل كتيييير زي : لأن كل ما يؤدي رسالته فهو حي!. ما نصنعه بيدنا هو جزء من حياتنا يتكشف لنا. الشراهة تقتل روح المتعة. الزيادة معناها الإسراف. تبديد. تبديد المتعة. وتبديد الطاقة. تبديد جزء من إنسانيتنا. . . الإنسان الكامل، ككل شيء اكتمل. لا يحتمل الزيادة ولا النقصان. إن كل جزء من حياتنا يجب أن نصنعه نحن بأيدينا. أما الحياة التي تقدم لنا جاهزة فإننا لا يمكن أن نفهمها أو نغير منها شيئا. إننا نقبلها بكسل . وبعيون مغمضة. لن يكون له طعم عندنا. لأننا لم نحصل عليه بكدنا. أحيانا. وليس دائما. سوء الظن من حسن الفطن؟. ماذا فيها أكثر من الأخرىات؟. الأمير : فيها أنها تطلب شيئا في الرجال لاندري بعد ما هو!. :) قيامنا بما ينبغي أعطانا داخل أنفسنا شعورا لا يقدر بثمن. صرنا السجن والسجان والمسجون في جسم واحد. ربما تريد أن ترى فيه مجرد إنسان!.\" الذي يقوم بنفسه هو الأكمل، والذي يحتاج إلى أن يقوم له غيره بما يستطيع ه</td>\n",
       "      <td>positive</td>\n",
       "      <td>[tensor(17550, device='cuda:0'), tensor(255, device='cuda:0'), tensor(39848, device='cuda:0'), tensor(41486, device='cuda:0'), tensor(29519, device='cuda:0'), tensor(12919, device='cuda:0'), tensor(12919, device='cuda:0'), tensor(12919, device='cuda:0'), tensor(12919, device='cuda:0'), tensor(12919, device='cuda:0'), tensor(12919, device='cuda:0'), tensor(220, device='cuda:0'), tensor(12919, device='cuda:0'), tensor(30335, device='cuda:0'), tensor(30335, device='cuda:0'), tensor(30335, device='cuda:0'), tensor(30335, device='cuda:0'), tensor(30335, device='cuda:0'), tensor(30335, device='cuda:0'), tensor(30335, device='cuda:0'), tensor(30335, device='cuda:0'), tensor(22654, device='cuda:0'), tensor(17550, device='cuda:0'), tensor(101, device='cuda:0'), tensor(148, device='cuda:0'), tensor(105, device='cuda:0'), tensor(38843, device='cuda:0'), tensor(17550, device='cuda:0'), tensor(109, device='cuda:0'), tensor(34247, device='cuda:0')]</td>\n",
       "      <td>حبتهاااااا اووووووووي بجد را�</td>\n",
       "    </tr>\n",
       "    <tr>\n",
       "      <th>62835</th>\n",
       "      <td>بدأت القراءة وأنا أتوقع من توفيق الحكيم مسرحية رائعة كمسرحية \" أهل الكهف \" ، ولم أتوقف كثيراً عند المقدمة التي تقول إنها مسرحية تعليمية وتشبها بحكايات \" كليلة ودمنة \" ، وعندما أنتهيت منها ندمت ، فالمسرحية ركيكة ، فلا متعة قدمت ولا أخلاق قومت . بناء الشخصيات غريب ، ف \"شمس النهار\" فتاة مدللة وعاشت حياتها في رفاهية ورغم ذلكتشترط شرطاً غريباً لكي تتزوج لا يتناسب وتصرفاتها مع \"قمر الزمان \" ، الذي يشكل هو الآخر علامة استفهام كبيرة ، فعندما ترضى به الأميرة ترفض وعندما تلمح له أنها تميل لرجل آخر يصارحها بحبه وعندما توافق على الزواج منه يرفض هو . النهايتان سيئتان - هناك نهاية للنص الأصلي ونهاية كتبت عندما عرضت المسرحية على المسرح القومي - ، فلو كنت أنا كاتب المسرحية لجعلت \"قمر الزمان\" هو الامير حمدان وقد أخفى شخصيته ليمتحن \"شمس النهار\" أيضاً. وهناك بعض التحفظات على التراكيب اللغوية ، ففي العصر الذي تدور فيه الرواية لا أعتقد أنهم استخدموا تعابير مثل ( كل واحد وشطارته ) ( كانت مخلعة ) ( مناكفة ) !!! الحكاية لا تستحق أن تسمى بمسرحية ، هي حكاية أطفال لا أكثر</td>\n",
       "      <td>negative</td>\n",
       "      <td>[tensor(17550, device='cuda:0'), tensor(101, device='cuda:0'), tensor(38843, device='cuda:0'), tensor(148, device='cuda:0'), tensor(96, device='cuda:0'), tensor(41486, device='cuda:0'), tensor(28981, device='cuda:0'), tensor(149, device='cuda:0'), tensor(224, device='cuda:0'), tensor(26897, device='cuda:0'), tensor(34247, device='cuda:0'), tensor(94, device='cuda:0'), tensor(45632, device='cuda:0'), tensor(42092, device='cuda:0'), tensor(148, device='cuda:0'), tensor(96, device='cuda:0'), tensor(23338, device='cuda:0'), tensor(12919, device='cuda:0'), tensor(17550, device='cuda:0'), tensor(96, device='cuda:0'), tensor(41486, device='cuda:0'), tensor(30335, device='cuda:0'), tensor(149, device='cuda:0'), tensor(224, device='cuda:0'), tensor(44690, device='cuda:0'), tensor(47048, device='cuda:0'), tensor(23338, device='cuda:0'), tensor(17550, device='cuda:0'), tensor(103, device='cuda:0'), tensor(30335, device='cuda:0')]</td>\n",
       "      <td>بدأت القراءة وأنا أتوقع من تو</td>\n",
       "    </tr>\n",
       "    <tr>\n",
       "      <th>62840</th>\n",
       "      <td>الكتَاب :: عدّة الصابرين وَ ذخيرة الشَاكرين . النوع :: من سلسة كتب ابن القيم الكَاتب :: ابن القيم الجوزية دَار النشر : ابن الجوزي للنشر و التوزيع عدد الصفحات ::٤٣٢ عدد أيام القراءة :: خمسة أيام و يوم فاصل استراحة التقيم من خمسة :: ٤ ( السعادة كلها في طاعته ، الأرباح كلها في معاملته و المحن و البلايا كلها في معصيته و مخالفته . فليس للعبد أنفع من شكره و توبته إنّ ربنا لغفور شكور ) نجهلُ كثيرًا ماهية الصبر . وَ جهلنا هذا يستدرجنا إلى أخطاء تُقلل من قوته وَ يسلب منهُ الأجر حبة حبة ! ، مثل هذه الُكتب تستطيع أن تقودك لطريقٍ أسلم لذا النهل منها و إن كان يسيرًا يوضح للانسان كثيرًا من الأشياء التي لن يعيها يومًا ما بنفسهِ قرأت قبل سنة و نصفها تقريبًا . المُختصر من هذا الكِتاب و لجمالهِ قرأت الآن المفصل . إلا أني وجدتُ في قرائتي الأولى حاجتي . لذا أنصح بالمختصر . مما لفت انتباهي حين شرعت بأن ألقى نظرة على تذيل الصفحات التي توضح إخراج الأحاديث وَجدتُ الكثير منها ضعيفًا . لذا قطعتُ شوطًا بالصفحاتِ التي تحويها . بعضُ اقتباسات :: *( الصبر ثلاثة أقسام :: صبر على الأوامر و الطاعات حتى يؤديها . صبر على</td>\n",
       "      <td>positive</td>\n",
       "      <td>[tensor(28981, device='cuda:0'), tensor(149, device='cuda:0'), tensor(225, device='cuda:0'), tensor(41486, device='cuda:0'), tensor(24333, device='cuda:0'), tensor(34247, device='cuda:0'), tensor(101, device='cuda:0'), tensor(7904, device='cuda:0'), tensor(17550, device='cuda:0'), tensor(117, device='cuda:0'), tensor(38843, device='cuda:0'), tensor(149, device='cuda:0'), tensor(239, device='cuda:0'), tensor(45632, device='cuda:0'), tensor(28981, device='cuda:0'), tensor(148, device='cuda:0'), tensor(113, device='cuda:0'), tensor(34247, device='cuda:0'), tensor(101, device='cuda:0'), tensor(26897, device='cuda:0'), tensor(22654, device='cuda:0'), tensor(23338, device='cuda:0'), tensor(42092, device='cuda:0'), tensor(24333, device='cuda:0'), tensor(17550, device='cuda:0'), tensor(108, device='cuda:0'), tensor(148, device='cuda:0'), tensor(106, device='cuda:0'), tensor(22654, device='cuda:0'), tensor(26897, device='cuda:0')]</td>\n",
       "      <td>الكتَاب :: عدّة الصابرين وَ ذخير</td>\n",
       "    </tr>\n",
       "    <tr>\n",
       "      <th>62841</th>\n",
       "      <td>لا يخفى على أحد جمال الحديث عن الصبر والشكر كصفتين في النفس المؤمنة تقويها وتزيدها أجراً ، وهنا ابن القيم في كتابه يقسمه موضوعياً لثلاثة محاور رئيسية على ما اعتقد: الصبر، الشكر . كتعريف بالمعنى وأنواعه ورواية قبسات من الأحاديث وقصص أهل الصبر والشكر وعظيم فضلهم وأجرهم، ثم ينتهي لبحث مطول في \" أيهما أفضل الفقير الصابر أم الغني الشاكر\" وفي كلٍ خير. عدد صفحات الكتاب 691 ، منها 549 في موضوع الكتاب والمتبقية عبارة عن فهارس. ويكفيك لقراءته أنه من تأليف ابن القيم ، وحديثه الصبر والشكر . وربما أنصح بمختصر الكتاب ليبقى تركيزك على الفائدة أكثر</td>\n",
       "      <td>positive</td>\n",
       "      <td>[tensor(220, device='cuda:0'), tensor(13862, device='cuda:0'), tensor(12919, device='cuda:0'), tensor(18923, device='cuda:0'), tensor(232, device='cuda:0'), tensor(148, device='cuda:0'), tensor(106, device='cuda:0'), tensor(149, device='cuda:0'), tensor(223, device='cuda:0'), tensor(149, device='cuda:0'), tensor(231, device='cuda:0'), tensor(17550, device='cuda:0'), tensor(117, device='cuda:0'), tensor(13862, device='cuda:0'), tensor(149, device='cuda:0'), tensor(231, device='cuda:0'), tensor(17550, device='cuda:0'), tensor(96, device='cuda:0'), tensor(148, device='cuda:0'), tensor(255, device='cuda:0'), tensor(38843, device='cuda:0'), tensor(17550, device='cuda:0'), tensor(105, device='cuda:0'), tensor(25405, device='cuda:0'), tensor(23525, device='cuda:0'), tensor(28981, device='cuda:0'), tensor(148, device='cuda:0'), tensor(255, device='cuda:0'), tensor(38843, device='cuda:0'), tensor(22654, device='cuda:0')]</td>\n",
       "      <td>لا يخفى على أحد جمال الحدي</td>\n",
       "    </tr>\n",
       "    <tr>\n",
       "      <th>62842</th>\n",
       "      <td>لا يمكن أن يختلف اثنان على القيمة العالية لمحتوى هذا الكتاب وأهميته لكل مسلم يود أن يزيل غشاوة الدنيا عن عينيه. أكثر الأجزاء تأثيراً في نفسي هي الفصول التي فصلت بأمثلة رائعة حقيقة الدنيا وكيف يراها الله وكيف يراها المؤمنون والغافلون. ولا يمكن أن توصف بوصف أدق من وصف رسولنا الكريم عليه أفضل الصلاة والسلام : \"ما لي وللدنيا إنما مثلي ومثل الدنيا إلا كراكب قال في ظل شجرة ثم راح وتركها\". النسخة التي قرأتها هي \"صحيح عدة الصابرين وذخيرة الشاكرين\" التي حققها مصطفى محمد أبو المعاطي والتي احتوت على الأحاديث الصحيحة والحسنة فقط من الكتاب الأصلي.</td>\n",
       "      <td>positive</td>\n",
       "      <td>[tensor(220, device='cuda:0'), tensor(13862, device='cuda:0'), tensor(12919, device='cuda:0'), tensor(18923, device='cuda:0'), tensor(232, device='cuda:0'), tensor(25405, device='cuda:0'), tensor(149, device='cuda:0'), tensor(225, device='cuda:0'), tensor(23338, device='cuda:0'), tensor(17550, device='cuda:0'), tensor(96, device='cuda:0'), tensor(23338, device='cuda:0'), tensor(18923, device='cuda:0'), tensor(232, device='cuda:0'), tensor(148, device='cuda:0'), tensor(106, device='cuda:0'), tensor(41486, device='cuda:0'), tensor(13862, device='cuda:0'), tensor(149, device='cuda:0'), tensor(223, device='cuda:0'), tensor(220, device='cuda:0'), tensor(34247, device='cuda:0'), tensor(104, device='cuda:0'), tensor(23338, device='cuda:0'), tensor(12919, device='cuda:0'), tensor(23338, device='cuda:0'), tensor(17550, device='cuda:0'), tensor(117, device='cuda:0'), tensor(13862, device='cuda:0'), tensor(149, device='cuda:0')]</td>\n",
       "      <td>لا يمكن أن يختلف اثنان عل�</td>\n",
       "    </tr>\n",
       "    <tr>\n",
       "      <th>62858</th>\n",
       "      <td>ولا: لم اتعمق كثيرا فى كتب \" الرائع مصطفى محمود _رحمه الله عليه\" ولكن تعلق بهذا الكتاب جدا لسببين: 1_ اننى احترم الكتاب الذيت يتواصلون مع القراء حتى وان عنفوهم فى الرد على خطاباتهم . هذه شيم الكتاب العظام امثال الدكتور مصطفى محمود والعقاد على سبيل المثال 2_ ان الكاتب اختار موضوع محدد ورسائل محددة وهى كلها تتعلق بالمشاكل المرتبطة بالعلاقات العاطفية ثانيا: اعطيت الكتاب 4\\5 لان الكتاب احتوى على مشاكل كثيرة متعلقة \" بالحب\" او مايتصور _القراء _ او _المراسلون_ انه حبا . استفدت من المشاكل التى كتبها القراء, واستفدت اكثر من الاراء وبعض الحلول التى عرضها الدكتور \\ مصطفى محمود. ثالثا: الكتاب لم يكن يشمل مشاكل عابرة او غير مرتبة ولكن اعتقد ان الدكتور اراد ان يختار مشاكل بعينها, ومن جميع الاعمار ليعلم الجميع انه اولا : لاعمر محدد للحب فطالما فيك نفسا فانت معرض لخفقان القلب . ثانيا : الحب ليس خطا فى حد ذاته ولكن الاسلوب او الطريقة او الخروج عن الشرع او النظر الى الطرف الاخر فى علاقة الحب على انه هو الوحيد المخطىء لانه وثق فيك , هذا هو الخطا بعينه لن استطيع ان اوفى الدكتور حقه ولذلك اقتبست بعد ردود</td>\n",
       "      <td>positive</td>\n",
       "      <td>[tensor(42092, device='cuda:0'), tensor(13862, device='cuda:0'), tensor(12919, device='cuda:0'), tensor(25, device='cuda:0'), tensor(220, device='cuda:0'), tensor(13862, device='cuda:0'), tensor(25405, device='cuda:0'), tensor(220, device='cuda:0'), tensor(34247, device='cuda:0'), tensor(103, device='cuda:0'), tensor(44690, device='cuda:0'), tensor(25405, device='cuda:0'), tensor(149, device='cuda:0'), tensor(224, device='cuda:0'), tensor(18923, device='cuda:0'), tensor(225, device='cuda:0'), tensor(148, device='cuda:0'), tensor(104, device='cuda:0'), tensor(22654, device='cuda:0'), tensor(26897, device='cuda:0'), tensor(12919, device='cuda:0'), tensor(18923, device='cuda:0'), tensor(223, device='cuda:0'), tensor(149, device='cuda:0'), tensor(231, device='cuda:0'), tensor(18923, device='cuda:0'), tensor(225, device='cuda:0'), tensor(41486, device='cuda:0'), tensor(39848, device='cuda:0'), tensor(366, device='cuda:0')]</td>\n",
       "      <td>ولا: لم اتعمق كثيرا فى كتب \"</td>\n",
       "    </tr>\n",
       "    <tr>\n",
       "      <th>62859</th>\n",
       "      <td>فى الحقيقة جذبنى جدا اسم الكتاب وخصوصا لما عرفت انها مشاكل حقيقة لا مختلقة ولا متصنعة تخيلت هذا الكتاب مثل كتب عبدالوهاب مطاوع التى عندما اقرء مشكلات التى يعرضاها عينى تفيض بلدمع مع بعض القصص ومع بعض القصص الاخرى احمد الله على مااتانى وفضلنى على كثير من عبادة وبعض القصص الاخرى التى افكر فيها ايام كثيرة واتأمل فيها حكمة الله وهكذا بس ف الحقيقة كتاب دة من رأى لم يفيدنى الا قليلا جدا وكان سيضرنى اكثر ولاسباب كتير الكتاب دة من زمااااااااااااااااااااان اوى ايام ماكانوا بيقبضوا سبعة جنية وكدة ناس اغنية اوى فبتالى مش ناسب زمانا خالص بصراحة الكتاب فى الاول جعلنى لااثق فى اى رجل فمعظم الرجال يكتبوا ويقولوا انهم اتجوزا على حب وبيحبوا زوجاتهم جدا لكن فاجأة لقى نفسة بيحب واحدة غيرها وانة مش قادر ومش عارف يعمل اية ؟؟ والراجل التانى بقول انة كان بيحب واحدة زمان واضطر يتجوز ومعرفش يتجوز ال بيحبها فاتجوز بس مش قادر ينسى حبيبتة الاولانية وعمال يعينى يطلع فى مراتة كل حاجة وووووووو.الخ وكمان خلانى مثقش فى الستات والله الكتاب برجلى مخى كل الناس فية بتخون وبتكرة وبتحب على المجوزينهم وحاجة كدة استغفر الله ا</td>\n",
       "      <td>negative</td>\n",
       "      <td>[tensor(18923, device='cuda:0'), tensor(223, device='cuda:0'), tensor(149, device='cuda:0'), tensor(231, device='cuda:0'), tensor(28981, device='cuda:0'), tensor(148, device='cuda:0'), tensor(255, device='cuda:0'), tensor(149, device='cuda:0'), tensor(224, device='cuda:0'), tensor(22654, device='cuda:0'), tensor(149, device='cuda:0'), tensor(224, device='cuda:0'), tensor(45632, device='cuda:0'), tensor(17550, device='cuda:0'), tensor(105, device='cuda:0'), tensor(148, device='cuda:0'), tensor(108, device='cuda:0'), tensor(39848, device='cuda:0'), tensor(23338, device='cuda:0'), tensor(149, device='cuda:0'), tensor(231, device='cuda:0'), tensor(17550, device='cuda:0'), tensor(105, device='cuda:0'), tensor(38843, device='cuda:0'), tensor(12919, device='cuda:0'), tensor(220, device='cuda:0'), tensor(34247, device='cuda:0'), tensor(111, device='cuda:0'), tensor(25405, device='cuda:0'), tensor(28981, device='cuda:0')]</td>\n",
       "      <td>فى الحقيقة جذبنى جدا اسم ال</td>\n",
       "    </tr>\n",
       "    <tr>\n",
       "      <th>62860</th>\n",
       "      <td>الكتاب بمنتهى البساطة هو خلاصة و عصارة تجارب شخصية و اراء منطقية لمدلولاتها بالرغم من عراقة هذا الكتاب نسبيا و اختلاف وقتنا عن توقيت كتابته فيما يوازى النصف قرن الا ان القدر دوما يعيد نفسه و قد وجدت فى تلك الخمسة و خمسون قصة قصيرة و رأى الدكتور فيها مرجع من الخبرات و الواقع و التفكير العادل الخارجى فى امكانيات حلولها و الوصول لنقاط وسطية فى انجرافاتها و لا أدرى سبب التقدير المتدنى نسبيا للكتاب فى وجهة نظرى و لكن على أية حال من لا يريد قراءة الكتاب كاملا أنصح بالمشاكل الآتية مشكلة 14 \" الحنان \" . أفضل و أجمل ما قرأت فى هذا الكتاب . لأنها ليست مشكلة شخصية بل مشكلة العِرق البشرى بأكلمه بأختلاف ثقافاته و تاريخه و ما بهرنى أكثر أن كاتبها فتاة لم تتخطى العشرين من عمرها - وقت كتابة الرسالة بالطبع - فأنحنى لها احتراما و تقديرا مشكلة 25 كوبرى السعادة . كم أوقعت فى نفسى وقع دبيب من أقدام جيش جرار . على جحر نمل ينوء بحياته عن تلك الاقدام الغافلة فهى رائعة كاتب الرسالة و رائعة رد الدكتور عليها و رائعة الواقع و رائعة القدر مشكلة 26 النضج المبكر . حيث ناقشت قضية نفسية مجتمعية بالدرجة الاولى مشكلة 54</td>\n",
       "      <td>positive</td>\n",
       "      <td>[tensor(28981, device='cuda:0'), tensor(149, device='cuda:0'), tensor(225, device='cuda:0'), tensor(41486, device='cuda:0'), tensor(34247, device='cuda:0'), tensor(101, device='cuda:0'), tensor(17550, device='cuda:0'), tensor(101, device='cuda:0'), tensor(25405, device='cuda:0'), tensor(23338, device='cuda:0'), tensor(41486, device='cuda:0'), tensor(29519, device='cuda:0'), tensor(149, device='cuda:0'), tensor(231, device='cuda:0'), tensor(28981, device='cuda:0'), tensor(39848, device='cuda:0'), tensor(45692, device='cuda:0'), tensor(34247, device='cuda:0'), tensor(115, device='cuda:0'), tensor(45632, device='cuda:0'), tensor(18923, device='cuda:0'), tensor(229, device='cuda:0'), tensor(30335, device='cuda:0'), tensor(17550, device='cuda:0'), tensor(106, device='cuda:0'), tensor(13862, device='cuda:0'), tensor(34247, device='cuda:0'), tensor(113, device='cuda:0'), tensor(45632, device='cuda:0'), tensor(42092, device='cuda:0')]</td>\n",
       "      <td>الكتاب بمنتهى البساطة هو خلاصة و</td>\n",
       "    </tr>\n",
       "    <tr>\n",
       "      <th>62861</th>\n",
       "      <td>بالنسبة لى كان كتاب فكاهى مش عن الحب ولا غيره :)) تخيلته -زى أغلب اللى عاملين ريفيو ماكتبين- عحاجة على غرار كتب مطاوع اللى مجمع فيها مشاكل بحلول ، بس طلع أنه بيعيد صياغة المشاكل بطريقته وحلوله فى منتهى الـــ :)) بيطلع عقده على الناس . كفاية أنه بيقول فى رد من الردود \"أنت ولد عبيط أخدت حقك من الأدب على يد صاحبتك\" :)) وفى رده على سالة أخرى \"أنت أصلك مخبوط فى عقلك\" وبيقول فى حتة تانية \"الرغى دا للفراشيين اللى زينا\" !!!! بس فى الحقيقة بيوح حقائق دامغة زى \"90% من الرجال محتالون لايتصرفون على الطيبعة وإنما دعون الحريات ولايؤمنون بها فى أعماق نفوسهم هناك عملية كذب عام شامل منظم بين الرجال\" :) :) :) :) بخلاف أنه كتاب بطربوش . كأنى شايفة المشاكل كلها أبيض وأسود يمكن لأنه مكتوب فى الخمسينات ؟؟ كله فى مود فلم غشاعة حب و نهر الحب كفاية أنه فى مشكلة بين واحد ومراته \"هى فى الدرجة السابعة وأنا فى الدرجة الثامنة وأخاف أن يدفعها ذلك غلى أن تتعامل معى بغرور واستعلاء\" !!!!!!!!!!!!! وواحد عنده خمستاشر سنة (((((راااااااااجل)))))) ابوه عايز يغصبه على الجواز #رد_أنت _يا_حسين وكمان شايف أن كل المثقفات ترفات و</td>\n",
       "      <td>negative</td>\n",
       "      <td>[tensor(17550, device='cuda:0'), tensor(101, device='cuda:0'), tensor(23525, device='cuda:0'), tensor(23338, device='cuda:0'), tensor(45692, device='cuda:0'), tensor(39848, device='cuda:0'), tensor(45632, device='cuda:0'), tensor(220, device='cuda:0'), tensor(13862, device='cuda:0'), tensor(149, device='cuda:0'), tensor(231, device='cuda:0'), tensor(18923, device='cuda:0'), tensor(225, device='cuda:0'), tensor(12919, device='cuda:0'), tensor(23338, device='cuda:0'), tensor(18923, device='cuda:0'), tensor(225, device='cuda:0'), tensor(41486, device='cuda:0'), tensor(34247, device='cuda:0'), tensor(101, device='cuda:0'), tensor(18923, device='cuda:0'), tensor(223, device='cuda:0'), tensor(149, device='cuda:0'), tensor(225, device='cuda:0'), tensor(12919, device='cuda:0'), tensor(29519, device='cuda:0'), tensor(149, device='cuda:0'), tensor(231, device='cuda:0'), tensor(47048, device='cuda:0'), tensor(148, device='cuda:0')]</td>\n",
       "      <td>بالنسبة لى كان كتاب فكاهى م�</td>\n",
       "    </tr>\n",
       "    <tr>\n",
       "      <th>62864</th>\n",
       "      <td>اشتقت كتير اني اكتب راي في هذا الكتاب ده كنت منتظره اني اكتب راي بالتفصيل فيه كتاب بجد رائع وشيق عباره عن مجموعه من القصص تشبه بريد الجمعه اكثر ما كنت اشتقاق اليه في القصص هو رد دكتور مطصفي محمود اضحكني كتيرافي بعض ردوده لكن امتعني اكتر ردوده بسيطه وسهله وتدخل لقلبك بسرعه حزينت من بعض القصص ولكن استغربت من هذا العصر لما كان فيه من انحلال ديني وخيانات زوجيه وشرب وخمره .وان كنت اراه ان كل العصور بيها السيء والحميد .ولكن اصر علي حمد الله كتير انني لم اكن موجوده فيه والحمدلله تمنيت لو ان مصطفي محمود موجود لارسلت له رساله اشكره فيها</td>\n",
       "      <td>positive</td>\n",
       "      <td>[tensor(220, device='cuda:0'), tensor(34247, device='cuda:0'), tensor(112, device='cuda:0'), tensor(41486, device='cuda:0'), tensor(149, device='cuda:0'), tensor(224, device='cuda:0'), tensor(41486, device='cuda:0'), tensor(18923, device='cuda:0'), tensor(225, device='cuda:0'), tensor(41486, device='cuda:0'), tensor(22654, device='cuda:0'), tensor(26897, device='cuda:0'), tensor(220, device='cuda:0'), tensor(12919, device='cuda:0'), tensor(23338, device='cuda:0'), tensor(22654, device='cuda:0'), tensor(220, device='cuda:0'), tensor(12919, device='cuda:0'), tensor(149, device='cuda:0'), tensor(225, device='cuda:0'), tensor(41486, device='cuda:0'), tensor(39848, device='cuda:0'), tensor(17550, device='cuda:0'), tensor(109, device='cuda:0'), tensor(12919, device='cuda:0'), tensor(22654, device='cuda:0'), tensor(18923, device='cuda:0'), tensor(223, device='cuda:0'), tensor(22654, device='cuda:0'), tensor(18923, device='cuda:0')]</td>\n",
       "      <td>اشتقت كتير اني اكتب راي في �</td>\n",
       "    </tr>\n",
       "    <tr>\n",
       "      <th>62865</th>\n",
       "      <td>ليس الا مجوموعة من تجارب السابقين و إعترافاتهم بسذاجتهم و غفلتهم بحماقتهم . فكما يقول أبو فراس الحمداني : \" عرفت الشر لا للشر لكن لأتقيه . و من لم يعرف الشر من الناس يقع فيه ! \" و لا أدري لماذا شعرت بغلبة الدناوة في معظم المشكلات المطروحة عدا اثنين أو ثلاثة تسمو فيها العاطفة !!. و عاطفة الحب عظيمة بالفطرة و لا يكون مردود مشاركتها إلا بالخير على صاحبها حتى و ان كان لا يتبادل فيها نفس العاطفة من الطرف الأخر . فمن الممكن أن يكون الخير الود ، و العطف ، و الحنان ، و اللطف ، و الرفق ، . الى آخر المشاعر النفيسة التى تحيك بللورات اللؤلؤ رابطة بين إنسانيتك و إنسانية من حولك . !! و لم أشعر من الدكتور انه ذلك الملهم العاطفى الذي يضع في كتابه الحلول المبدعة لحل مشكلات معترفيه !! حتى اننى في بعض الاعترافات و الردود عليها شعرت كأننى أستمع إلى \" أسامة منير \" في إذاعة الراديو !!!</td>\n",
       "      <td>negative</td>\n",
       "      <td>[tensor(220, device='cuda:0'), tensor(13862, device='cuda:0'), tensor(22654, device='cuda:0'), tensor(45692, device='cuda:0'), tensor(28981, device='cuda:0'), tensor(12919, device='cuda:0'), tensor(47048, device='cuda:0'), tensor(148, device='cuda:0'), tensor(105, device='cuda:0'), tensor(30335, device='cuda:0'), tensor(25405, device='cuda:0'), tensor(30335, device='cuda:0'), tensor(44690, device='cuda:0'), tensor(45632, device='cuda:0'), tensor(47048, device='cuda:0'), tensor(23338, device='cuda:0'), tensor(17550, device='cuda:0'), tensor(103, device='cuda:0'), tensor(148, device='cuda:0'), tensor(105, device='cuda:0'), tensor(12919, device='cuda:0'), tensor(26897, device='cuda:0'), tensor(39848, device='cuda:0'), tensor(28981, device='cuda:0'), tensor(45692, device='cuda:0'), tensor(34247, device='cuda:0'), tensor(101, device='cuda:0'), tensor(149, device='cuda:0'), tensor(224, device='cuda:0'), tensor(22654, device='cuda:0')]</td>\n",
       "      <td>ليس الا مجوموعة من تجارب السابقي</td>\n",
       "    </tr>\n",
       "    <tr>\n",
       "      <th>62871</th>\n",
       "      <td>على الهامش : الكتب مفيد جدا لانه بين ليا ان التحرش اللى فى ايامنا دى هو مش وليد اللحظه والانحطاط الاخلاقى وقع من اكثر من 60 سنه وفلا عجب من الاعتصابات و انتهاك الحرومات و كان لاعيب ايضا انتشار الجهل و الفقر كان عمود من اعمده ناء دوله تصبح بعد 50 عام من الدوله المتخلفه لكن يعود الامل فى بعض هولاء الذين ما ذالوا محافظين على السلوك القايم لدى الانسان البشرى محافظين على الاخلاق والقيم هولاء هم امل تلك البلاد فى اخلاق سديده حلقات الكتاب : بالنسبه للمشاكل نفسها فلا اجدها تختلف عن 2012 هى هى مع اختلاف الاسماء والالقاب تعددت الازمان و المشاكل واحده عن الكاتب : واعجبنى فى الدكتور مصطفى صراحته وايجازه وان كنت لم افهم القليل من الاجابات فهم جيدا لكنها تدل على رجل لم يترك الحياه للعلم ولا العلم للحياه اخد من هذا وذلك وان غلبت عليه العلميه احيانا</td>\n",
       "      <td>positive</td>\n",
       "      <td>[tensor(17550, device='cuda:0'), tensor(117, device='cuda:0'), tensor(13862, device='cuda:0'), tensor(149, device='cuda:0'), tensor(231, device='cuda:0'), tensor(28981, device='cuda:0'), tensor(29519, device='cuda:0'), tensor(12919, device='cuda:0'), tensor(25405, device='cuda:0'), tensor(148, device='cuda:0'), tensor(112, device='cuda:0'), tensor(1058, device='cuda:0'), tensor(28981, device='cuda:0'), tensor(149, device='cuda:0'), tensor(225, device='cuda:0'), tensor(41486, device='cuda:0'), tensor(39848, device='cuda:0'), tensor(47048, device='cuda:0'), tensor(149, device='cuda:0'), tensor(223, device='cuda:0'), tensor(22654, device='cuda:0'), tensor(38843, device='cuda:0'), tensor(17550, device='cuda:0'), tensor(105, device='cuda:0'), tensor(38843, device='cuda:0'), tensor(12919, device='cuda:0'), tensor(220, device='cuda:0'), tensor(13862, device='cuda:0'), tensor(12919, device='cuda:0'), tensor(23338, device='cuda:0')]</td>\n",
       "      <td>على الهامش : الكتب مفيد جدا لان</td>\n",
       "    </tr>\n",
       "    <tr>\n",
       "      <th>62876</th>\n",
       "      <td>من احسن ما قرات لمصطفى محمود كتاب ينقل خبرات و تجارب كتير فيه ميزتان و هما عيبان فى نفس الوقت حسب ما تراهم الاولى ان كل القصص اللى فيه قصص حب فاشله يعنى بتخليك تحبط شويه بس مهم انك تعرف الشر عشان تتجنبه . حديث ابى حذيفه: كان الناس \"يسألون رسول الله صلى الله عليه وسلم عن الخير وكنت أسأله عن الشر مخافة أن يدكنى و الثانيه انه عباره عن خطبات يستشيره فيها واحد من اطراف المشكله و يرد عليه مصطفى محمود بنصيحه اسلوبه بعيد جدا عن الوعظ مختصر جدا لا يكثر الكلام الكتاب قديم لكن المشاكل الانسانيه كما هى فى كل زمان بعض القصص اقوى كثيرا من غيرها بس الرجل غطى كل انواع المشاكل عموما استفد منه كثيرا و انصح اى حد مقدم على الارتباط انه يقرأه</td>\n",
       "      <td>positive</td>\n",
       "      <td>[tensor(47048, device='cuda:0'), tensor(23338, device='cuda:0'), tensor(220, device='cuda:0'), tensor(34247, device='cuda:0'), tensor(255, device='cuda:0'), tensor(45692, device='cuda:0'), tensor(23338, device='cuda:0'), tensor(47048, device='cuda:0'), tensor(12919, device='cuda:0'), tensor(18923, device='cuda:0'), tensor(224, device='cuda:0'), tensor(26897, device='cuda:0'), tensor(34247, device='cuda:0'), tensor(103, device='cuda:0'), tensor(220, device='cuda:0'), tensor(13862, device='cuda:0'), tensor(25405, device='cuda:0'), tensor(148, device='cuda:0'), tensor(113, device='cuda:0'), tensor(148, device='cuda:0'), tensor(115, device='cuda:0'), tensor(149, device='cuda:0'), tensor(223, device='cuda:0'), tensor(149, device='cuda:0'), tensor(231, device='cuda:0'), tensor(47048, device='cuda:0'), tensor(148, device='cuda:0'), tensor(255, device='cuda:0'), tensor(25405, device='cuda:0'), tensor(30335, device='cuda:0')]</td>\n",
       "      <td>من احسن ما قرات لمصطفى محمو</td>\n",
       "    </tr>\n",
       "    <tr>\n",
       "      <th>62877</th>\n",
       "      <td>فقط المقدمة هي ما أثارت اعجابي. وهي المذكورة في تعريف الكتاب بالأعلى فيما عدا ذلك فنحو تسعين بالمئة من القصص المختارة سيئة حقاً ومن نوعية واحدة تقريباً الشاب أو الفتاة الذين لا يثقون بأن هناك من يصلح ليكون زوجاً لأنهم يحكمون على المجتمع من منطلق تجربتهم الفاسدة أخلاقياً بطريقة تشعرك أن المجتمع في هذه الفترة كان غارقاً في الإنحلال .لا أدري لماذا كان التركيز على هذه النوعية من القصص وإختزال مشاكل الحب فيها .هذا من ناحية ، أما من ناحية أخرى فالردود جاءت في معظمها هزيلة ،مقتضبة ، \" لا تسمن ولا تغني من جوع\" كما تفضل أحد الأعضاء ووصفها .فهناك رد لا يزيد فيه الكاتب عن: \" معك حق\".ولا وجه مقارنة على الإطلاق مع ردود الفارس عبد الوهاب مطاوع وأنهي بعبارة د.أحمد خالد :\" لو لم تكن الرواية لشكسبير لألقيتها في القمامة ،حقاً إن لبعض الأسماء لرهبة \"</td>\n",
       "      <td>negative</td>\n",
       "      <td>[tensor(18923, device='cuda:0'), tensor(223, device='cuda:0'), tensor(149, device='cuda:0'), tensor(224, device='cuda:0'), tensor(148, device='cuda:0'), tensor(115, device='cuda:0'), tensor(28981, device='cuda:0'), tensor(25405, device='cuda:0'), tensor(149, device='cuda:0'), tensor(224, device='cuda:0'), tensor(38843, device='cuda:0'), tensor(25405, device='cuda:0'), tensor(45632, device='cuda:0'), tensor(18923, device='cuda:0'), tensor(229, device='cuda:0'), tensor(22654, device='cuda:0'), tensor(47048, device='cuda:0'), tensor(12919, device='cuda:0'), tensor(17550, device='cuda:0'), tensor(96, device='cuda:0'), tensor(148, device='cuda:0'), tensor(104, device='cuda:0'), tensor(12919, device='cuda:0'), tensor(26897, device='cuda:0'), tensor(41486, device='cuda:0'), tensor(220, device='cuda:0'), tensor(34247, device='cuda:0'), tensor(117, device='cuda:0'), tensor(148, device='cuda:0'), tensor(105, device='cuda:0')]</td>\n",
       "      <td>فقط المقدمة هي ما أثارت اعج</td>\n",
       "    </tr>\n",
       "    <tr>\n",
       "      <th>62896</th>\n",
       "      <td>كل اللى عجبنى فى الكتاب بامانة اسلوب دكتور مصطفى محمود فى الرد على المشاكل عشان كان بيواجهه كل واحد بحيقيته بس بصراحة كان فى اشخاص غريبة اصلا كنت بستغرب من كلامهم ومن مشكلتهاهم اللى اصلا مش مشكله بس دكتور مصطفى محمود مكنش بيسكتلهم :) وبعتبره كتاب مش ملل عشان هو مشاكل منفصلة. بس اختلاف الاجيال والزمن يخليك تحسن انك بتشوف فيلم ابيض واسود عشان كدة مابتعبروش فادى بنسبة كبيرة بس طلعت منه ان زمان مكنش جميل ولا حاجة زى ما احنا كنا متصورين وان كل جيل لية ايجابياته وسلبياته بس زمان كانت سلبياته اكتر للاسف لانه كان بينقصه حاجات كتير اوى :)</td>\n",
       "      <td>positive</td>\n",
       "      <td>[tensor(18923, device='cuda:0'), tensor(225, device='cuda:0'), tensor(13862, device='cuda:0'), tensor(28981, device='cuda:0'), tensor(13862, device='cuda:0'), tensor(149, device='cuda:0'), tensor(231, device='cuda:0'), tensor(17550, device='cuda:0'), tensor(117, device='cuda:0'), tensor(148, device='cuda:0'), tensor(105, device='cuda:0'), tensor(39848, device='cuda:0'), tensor(23338, device='cuda:0'), tensor(149, device='cuda:0'), tensor(231, device='cuda:0'), tensor(18923, device='cuda:0'), tensor(223, device='cuda:0'), tensor(149, device='cuda:0'), tensor(231, device='cuda:0'), tensor(28981, device='cuda:0'), tensor(149, device='cuda:0'), tensor(225, device='cuda:0'), tensor(41486, device='cuda:0'), tensor(34247, device='cuda:0'), tensor(101, device='cuda:0'), tensor(17550, device='cuda:0'), tensor(101, device='cuda:0'), tensor(12919, device='cuda:0'), tensor(25405, device='cuda:0'), tensor(12919, device='cuda:0')]</td>\n",
       "      <td>كل اللى عجبنى فى الكتاب باما</td>\n",
       "    </tr>\n",
       "    <tr>\n",
       "      <th>62998</th>\n",
       "      <td>الكتاب يمكن تلخيصه بما كتب في آخر صفحة؛ الأهداف و الإمكانيات التي يجب أن تتمتع بها الدول العربية (أو أية دولة) لكي تلحق بركب الحضارة و تقف في حلبة الدول المسيطرة. لن أذكرها هنا, لأنها ستفسد متعة الكتاب و الهدف منه. أتمنى بصدق أن يكون هذا الكتاب ضمن مجموعة القراءة الإجبارية لأي صانع قرار عربي, الذي يبدو أنهم جميعاً لم يقرأوا سوى الكتب التي تشرح تبرير الغاية للوسيلة. هناك الكثير من الكتب التي تستحق أن يقرؤها أي مهتم بالسياسة و تحركات الحضارة و النهضة. الكتاب مقسم إلى فصول, بعضها صفحات معدودة, و أخرى تمتد صفحات طويلة. لكنه ممتع و انتهيت منه في أقل من يوم. و في نهاية كل فصل وضع ملخص لأهم ما فيه. من المثير للاهتمام أن الكتاب من أوله لآخره لم يذكر الدين و الصراعات الجدلية البيزنطية ولا مرة كشرط من شروط التقدم و النهضة, أو كسبب من أسباب المصائب التي حلت بنا. لم يأت ذكر الدين إلا في الفصل الذي يشرح الحالة العربية, و لم يأت النقاش على سبيل المديح. أقول هذا الكلام, لا قدحاً في الدين أو جحداً لفضلة, و لكن لعله يجد طريقه إلى كثيرين ضيعوا أوقاتهم في نقاشات عقيمة حول \"شكل الدولة\" و \"دين الدولة\" و مو</td>\n",
       "      <td>positive</td>\n",
       "      <td>[tensor(28981, device='cuda:0'), tensor(149, device='cuda:0'), tensor(225, device='cuda:0'), tensor(41486, device='cuda:0'), tensor(34247, device='cuda:0'), tensor(101, device='cuda:0'), tensor(18923, device='cuda:0'), tensor(232, device='cuda:0'), tensor(25405, device='cuda:0'), tensor(149, device='cuda:0'), tensor(225, device='cuda:0'), tensor(23338, device='cuda:0'), tensor(17550, device='cuda:0'), tensor(103, device='cuda:0'), tensor(13862, device='cuda:0'), tensor(148, device='cuda:0'), tensor(106, device='cuda:0'), tensor(22654, device='cuda:0'), tensor(148, device='cuda:0'), tensor(113, device='cuda:0'), tensor(29519, device='cuda:0'), tensor(17550, device='cuda:0'), tensor(101, device='cuda:0'), tensor(25405, device='cuda:0'), tensor(12919, device='cuda:0'), tensor(18923, device='cuda:0'), tensor(225, device='cuda:0'), tensor(41486, device='cuda:0'), tensor(39848, device='cuda:0'), tensor(18923, device='cuda:0')]</td>\n",
       "      <td>الكتاب يمكن تلخيصه بما كتب �</td>\n",
       "    </tr>\n",
       "    <tr>\n",
       "      <th>63006</th>\n",
       "      <td>لا أكتب مراجعة لكتاب.وإنما أحكي عن أثر حروف لامست روحي طيور أيلول.شئ ما شدني إليك.ربما بقايا من وجع مغترب تنهشه الذكريات و بعض من حكايا الغربة.وخيوط شوق في الليالي المعتمات. وغصّات انفعال.وخيالات عشق. حلّقت روحي في فضاء موشّح ببواكير الغمام.مع تلك الطيور المهاجرة بصمت.لتحيا من جديد لوعة الفراق.مخلفة وراءها طعم هجر يعشش في دموع تفلت من المآقي. برفقة فنجان قهوتي المطيّب بالهال.وصوت فيروز الدافئ.\" يا طير . ياطاير على طراف الدني لو فيك تحكي للحبايب شو بني يا طير\".وتلك الصور التي تستقر في الذاكرة هُنا.تتراقص الحروف برشاقة.وتتمايل على أنغام الطبيعة الغنّاء.في أجواء القرية.حيث نعبّ أنسام الصباح المترعة بالعطر.على بيادر القمح.وبين الحقول وكروم الزيتون.وعناقيد العنب الذهبية.وفي أمسيات الصيف الهادئة.وحلقات الجيران على مصطبة أنجلينا. ما بين أفراح القرية وأعراسها.ولحظاتٍ يبسط فيها الموت شبحه عليها.وتندحر الحياة. \"مرسال.راجي.مريم.فواز.نجوى.كمال. وأنا\". أين انتهت الأحلام التي غرست في الحقل المجاور؟؟ وهل ستعود الطيور المهاجرة إلى أوكارها؟؟أم أنها أدمنت الحياة بين الجدران الضيقة بحثا عن سِعَة العيش؟؟</td>\n",
       "      <td>positive</td>\n",
       "      <td>[tensor(220, device='cuda:0'), tensor(13862, device='cuda:0'), tensor(12919, device='cuda:0'), tensor(17550, device='cuda:0'), tensor(96, device='cuda:0'), tensor(149, device='cuda:0'), tensor(225, device='cuda:0'), tensor(41486, device='cuda:0'), tensor(39848, device='cuda:0'), tensor(47048, device='cuda:0'), tensor(26897, device='cuda:0'), tensor(34247, device='cuda:0'), tensor(105, device='cuda:0'), tensor(44690, device='cuda:0'), tensor(45632, device='cuda:0'), tensor(220, device='cuda:0'), tensor(13862, device='cuda:0'), tensor(149, device='cuda:0'), tensor(225, device='cuda:0'), tensor(41486, device='cuda:0'), tensor(34247, device='cuda:0'), tensor(101, device='cuda:0'), tensor(13, device='cuda:0'), tensor(30335, device='cuda:0'), tensor(148, device='cuda:0'), tensor(98, device='cuda:0'), tensor(23338, device='cuda:0'), tensor(25405, device='cuda:0'), tensor(12919, device='cuda:0'), tensor(17550, device='cuda:0')]</td>\n",
       "      <td>لا أكتب مراجعة لكتاب.وإنما �</td>\n",
       "    </tr>\n",
       "    <tr>\n",
       "      <th>63007</th>\n",
       "      <td>بدأت بعشقِ الأرضِ ووصفِ تلك القَرية التي من حُمرة ترابها نحيا ونقتات . وبصخورِها نُحتت ملامحنا وبها نحن نكبر مهما كان للغربة نصيب فينا ، مُداعبة الحُلم واحتضانه رغم كل ما هو محبط ، أحلام مُلقاة في القعر ساكنة في الماء العَكر ، إيّاك ان تُفرّط في اصطيادِها يومًا . هكذا تعلّمت منها شقّ شاهق بين ، عيب وحرام وأخرَى حُلم وأمل ! حياة بسيطة في الرّيف واخرى باهظة في المدينة ! فجوة منذ الأزل ، صراع جنوده الرّوح وغذاؤه الأمل . الغربة والبقاء . الحلم والواقع ، الغيرة والحسد والخُزعبلات !! تناقض صارخ في صفحاتها . صياغ جميل مليئة بالمشاعر الجيّاشة . حروف أصيلة فعلًا نالت من الجَمال نصيبًا وافرًا . جميلة وتستحق القراءة رفقًا بِطيورِك أيلول !</td>\n",
       "      <td>positive</td>\n",
       "      <td>[tensor(17550, device='cuda:0'), tensor(101, device='cuda:0'), tensor(38843, device='cuda:0'), tensor(148, device='cuda:0'), tensor(96, device='cuda:0'), tensor(41486, device='cuda:0'), tensor(17550, device='cuda:0'), tensor(101, device='cuda:0'), tensor(44690, device='cuda:0'), tensor(148, device='cuda:0'), tensor(112, device='cuda:0'), tensor(149, device='cuda:0'), tensor(224, device='cuda:0'), tensor(44208, device='cuda:0'), tensor(28981, device='cuda:0'), tensor(148, device='cuda:0'), tensor(96, device='cuda:0'), tensor(26897, device='cuda:0'), tensor(148, device='cuda:0'), tensor(114, device='cuda:0'), tensor(44208, device='cuda:0'), tensor(42092, device='cuda:0'), tensor(30335, device='cuda:0'), tensor(148, device='cuda:0'), tensor(113, device='cuda:0'), tensor(149, device='cuda:0'), tensor(223, device='cuda:0'), tensor(44208, device='cuda:0'), tensor(17550, device='cuda:0'), tensor(103, device='cuda:0')]</td>\n",
       "      <td>بدأت بعشقِ الأرضِ ووصفِ ت</td>\n",
       "    </tr>\n",
       "    <tr>\n",
       "      <th>63016</th>\n",
       "      <td>عصام محفوظ، عند تكلمه عن الملحدين، أخذ مركز المتدين الكاره للملحدين وكل من يخالف دينه،ولكن هو عليه أخذ مركز موضوعي بحتّ عند كتابته لكتاب عن الملحدين وذلك جعله متلاعب بنقله لصورة الملحدين وبينهم كنوع من الكاذبين، السفهاء. فهو قال أكثر من مرة \"ادّعى الملحدون\" ووصف كل نقد وجهه ملحد عربي نحو الدين بالإدعاء بينما هو لم يقل \"ادّعى المسلمون\" مما يبين عدم موضوعيته. كما أنه شكك بإلحاديّتهم!!! بالإضافة إلى ذلك، وبعد قراءتي لهذا الكتاب، ألاحظ بأنه لم يحاور ملحدين بل حاور ناس رفضوا الدين ولكنهم لم يرفضوا وجود الله وهذا ليس الإلحاد بل الربوبية وهو شيء مختلف كثيراً عن الإلحاد مما يجعل كتاب عصام محفوظ غير دقيق ولا يجب ما قيل فيه أن يأخذ بعين الإعتبار. وأيضاً، يلاحظ عند حواره معهم أنه كان منحازاً كثيراً لدينه. غير ذلك، يمكنني أن أقول أن فكرة الحوار مع \"الملحدين\" - و أضع المزدوجين لأنهم ليسوا ملحدين بل اعتقادهم ربوبيّ - وغير سرد الأحداث كانت رائعة وأن الحوار بحد ذاته كان رائعاً، يدفع الإنسان إلى التفكير بعمق بكل ما هو حوله، ويمكن القول إذاً أن الكتاب لا بأس به - إذا حذفنا كل جانب غير موضوعي في حواره مع</td>\n",
       "      <td>negative</td>\n",
       "      <td>[tensor(17550, device='cuda:0'), tensor(117, device='cuda:0'), tensor(148, device='cuda:0'), tensor(113, device='cuda:0'), tensor(12919, device='cuda:0'), tensor(25405, device='cuda:0'), tensor(47048, device='cuda:0'), tensor(148, device='cuda:0'), tensor(255, device='cuda:0'), tensor(149, device='cuda:0'), tensor(223, device='cuda:0'), tensor(30335, device='cuda:0'), tensor(148, device='cuda:0'), tensor(116, device='cuda:0'), tensor(148, device='cuda:0'), tensor(234, device='cuda:0'), tensor(17550, device='cuda:0'), tensor(117, device='cuda:0'), tensor(23338, device='cuda:0'), tensor(38843, device='cuda:0'), tensor(17550, device='cuda:0'), tensor(103, device='cuda:0'), tensor(149, device='cuda:0'), tensor(225, device='cuda:0'), tensor(13862, device='cuda:0'), tensor(25405, device='cuda:0'), tensor(29519, device='cuda:0'), tensor(17550, device='cuda:0'), tensor(117, device='cuda:0'), tensor(23338, device='cuda:0')]</td>\n",
       "      <td>عصام محفوظ، عند تكلمه عن</td>\n",
       "    </tr>\n",
       "    <tr>\n",
       "      <th>63023</th>\n",
       "      <td>بدأت قراءة هذه الرواية دون توقعات، و الحمدلله انني لم اتوقع منها ان تكون رائعة والا لشعرت بخيبة امل كبيرة. لم ترقى لا لغوياً ولا انشائياً الى ما اتوقعه من اي رواية. لغوياً، و ان حاول الكاتب ان يستخدم اسلوب الوصف كثيراً الا انه لم ينجح و وجدت ان محاولاته في اثارة القارئ بوصف المشاهد كانت رخيصة و ضيقة النظرو لا تتعدى الوصف لمجرد الوصف. بدت لي و كأنها في مستوى الروايات المترجمة من لغات اخرى و هذا جعلني ادير الكتاب لا وعياً اكثر من مرة لأستطلع ان كانت من لغة اخرى. و على صعيد القصة، لم اكن بتلك السعادة ايضاً و انا اقلب الصفحات و اجد مشاهد مبتذلة منذ البداية، ربما حتى لا يمل القارئ من القصة التي بدأت بمعاناة جوانا في مزرعة التبغ و \"تعذيبها\" من قبل لرب عملها الدنئ الذي لم يعفها من نظراته المشبعة بالرغبة. تلك التظرات التي استسلمت لها جوانا وقت الحاجة من اجل عائلتها التي نستها حالما وصلت الى عملها الجديد في الكويت. على الرغم من صغر سنها حيث يبدو انها في نهاية سنوات المراهقة و مقبلة على العشرون، الا انني شعرت بأن سنها لا يتوافق مع الوصف الذي اعطى اليها فكانت انضج مرات و احياناً اقل نضج. لا ادري،</td>\n",
       "      <td>negative</td>\n",
       "      <td>[tensor(17550, device='cuda:0'), tensor(101, device='cuda:0'), tensor(38843, device='cuda:0'), tensor(148, device='cuda:0'), tensor(96, device='cuda:0'), tensor(41486, device='cuda:0'), tensor(18923, device='cuda:0'), tensor(224, device='cuda:0'), tensor(26897, device='cuda:0'), tensor(34247, device='cuda:0'), tensor(94, device='cuda:0'), tensor(45632, device='cuda:0'), tensor(18923, device='cuda:0'), tensor(229, device='cuda:0'), tensor(148, device='cuda:0'), tensor(108, device='cuda:0'), tensor(29519, device='cuda:0'), tensor(28981, device='cuda:0'), tensor(26897, device='cuda:0'), tensor(30335, device='cuda:0'), tensor(12919, device='cuda:0'), tensor(22654, device='cuda:0'), tensor(45632, device='cuda:0'), tensor(17550, device='cuda:0'), tensor(107, device='cuda:0'), tensor(30335, device='cuda:0'), tensor(23338, device='cuda:0'), tensor(17550, device='cuda:0'), tensor(103, device='cuda:0'), tensor(30335, device='cuda:0')]</td>\n",
       "      <td>بدأت قراءة هذه الرواية دون تو</td>\n",
       "    </tr>\n",
       "    <tr>\n",
       "      <th>63025</th>\n",
       "      <td>ليست الحرفية أبرز مقومات الأسلوب في هذه الرواية. كنت أتوقع رواية توثيقية فذة فيها ما هو أعمق مما قدمته الحبكة الهوليوودية للقصة. نشر الكتاب في عام 2007 ولعل هذا ما جعلني أصدم حينما وصلت إلى فقرة \"غزو العراق للكويت\". كان علي أن أتوقع ذلك، فكثير من الدلالات تشير إلى أن الأحداث لا تجري في الزمن الحاضر: أشرطة الكاسيت، والمسجلات والتمحور حول التلفاز كوسيلة تسلية بدل الحاسوب، وانعدام الإشارة إلى الهاتف المحمول. كلها من علامات فترة سابقة. ولذلك فإنني لا أدري، هل يمكن إسقاط ما قرأته على الوضع الحالي؟ هل الحياة -بالنسبة للخدم وبالنسبة لمستخدميهم- بشعة إلى هذا الحد؟ هل الفليبينيون المبتسمون المهذبون الذين ألتقي بهم في المطاعم والمتاجر، أتوا من بيئة قاسية كتلك التي أتت منها بطلة القصة؟ كيف يعيش البشر بعيداً عن ذويهم دون حياة اجتماعية ودون عائلة لسنوات؟ لا أعتقد أن الرواية بتعاملها السطحي مع المشاعر، وبالحوار غير الواقعي فيها، وباختيارها لظروف غير عادية كإطار لأحداثها قد أفلحت في الإجابة عن كثير من الأسئلة التي تراودني حينما أرى الابتسامة المهذبة لعامل في الخليج ولا أملك إلا أن أتساءل: هل وراء هذه</td>\n",
       "      <td>negative</td>\n",
       "      <td>[tensor(220, device='cuda:0'), tensor(13862, device='cuda:0'), tensor(22654, device='cuda:0'), tensor(45692, device='cuda:0'), tensor(41486, device='cuda:0'), tensor(28981, device='cuda:0'), tensor(148, device='cuda:0'), tensor(255, device='cuda:0'), tensor(26897, device='cuda:0'), tensor(149, device='cuda:0'), tensor(223, device='cuda:0'), tensor(22654, device='cuda:0'), tensor(45632, device='cuda:0'), tensor(17550, device='cuda:0'), tensor(96, device='cuda:0'), tensor(39848, device='cuda:0'), tensor(26897, device='cuda:0'), tensor(148, device='cuda:0'), tensor(110, device='cuda:0'), tensor(47048, device='cuda:0'), tensor(149, device='cuda:0'), tensor(224, device='cuda:0'), tensor(30335, device='cuda:0'), tensor(25405, device='cuda:0'), tensor(34247, device='cuda:0'), tensor(103, device='cuda:0'), tensor(28981, device='cuda:0'), tensor(148, device='cuda:0'), tensor(96, device='cuda:0'), tensor(45692, device='cuda:0')]</td>\n",
       "      <td>ليست الحرفية أبرز مقومات الأس</td>\n",
       "    </tr>\n",
       "    <tr>\n",
       "      <th>63026</th>\n",
       "      <td>رواية مؤثرة في حديثها عن تجربة العاملات في الخليج من الناحية الإنسانية مشاعرهم فقرهم الذي يدفع بأغلبهن للخطأ مكرهات السعي وراء لقمة العيش الذي يقفذف بهن في مكان بعيد حيث لاسند ولا أهل ولا أقرباء إستغلالهن وإستغلال حاجتهن , لكن ما يعيب الرواية إسترسال الكاتب في وصف مشاهد وإحجامه عن التحدث عن مشاهد أخرى مهمة في القصة شعرت خلال مجريات الرواية أنها في كل فصل تزيد سرعة تتابع الأحداث لدرجو أن النهاية جائت سريعة أحداثها مقتضبة وحتى في عقد الرواية ومنعطافاتها المهمة المؤثرة ع الأحداث جائت أحياناً بشكل غير مقنع أو مختصر لكن إجمالاً الرواية جميلة</td>\n",
       "      <td>negative</td>\n",
       "      <td>[tensor(17550, device='cuda:0'), tensor(109, device='cuda:0'), tensor(30335, device='cuda:0'), tensor(12919, device='cuda:0'), tensor(22654, device='cuda:0'), tensor(45632, device='cuda:0'), tensor(47048, device='cuda:0'), tensor(148, device='cuda:0'), tensor(97, device='cuda:0'), tensor(148, device='cuda:0'), tensor(104, device='cuda:0'), tensor(26897, device='cuda:0'), tensor(45632, device='cuda:0'), tensor(18923, device='cuda:0'), tensor(223, device='cuda:0'), tensor(22654, device='cuda:0'), tensor(17550, device='cuda:0'), tensor(255, device='cuda:0'), tensor(38843, device='cuda:0'), tensor(22654, device='cuda:0'), tensor(148, device='cuda:0'), tensor(104, device='cuda:0'), tensor(29519, device='cuda:0'), tensor(12919, device='cuda:0'), tensor(17550, device='cuda:0'), tensor(117, device='cuda:0'), tensor(23338, device='cuda:0'), tensor(17550, device='cuda:0'), tensor(103, device='cuda:0'), tensor(148, device='cuda:0')]</td>\n",
       "      <td>رواية مؤثرة في حديثها عن ت�</td>\n",
       "    </tr>\n",
       "    <tr>\n",
       "      <th>63044</th>\n",
       "      <td>عندما تقلب فى اوراق هاملت شكسبير تطوف حولك عشرات الاشباح الى جانب شبح والد هاملت بزيه الحربى مشيرا الى ابنه ان يتبعه ترى شبح يوسف شاهين راميا كرسى على الجمهور هاتفا \"الانتقااااام\" يليه صرخته الشهيره قفشتهااا حتى شبح شخصية سميحة ايوب فى \"سكة السلامة\" شارحا كيف ان رواية هاملت روايه تربويه من الطراز الاول لان والدته قد \"هاملت\" فى تربيه ابنها فجن شبح ذلك القارئ الصغير او حديث العهد بالقراءة يقرأ و يحملق فى جمل هاملت ليصل الى السطر الذى يشدو فيه \"اكون او لا اكون.تلك هى المعضلة\" فتنفرج اساريره محدثا ذاته بانه قد اصبح مثقف يقرأ الكلاسيكيات شبح قلق المثقفين و القراء-العرب- و بحثهم الدائم عن افضل ترجمة لهاملت هل هو المترجم الفلانى ام دار النشر تلك التى تتفاخر على غلاف كتابها انها الترجمة الافضل على الاطلاق شبح كل من حاول ان يترجم هاملت من لغته الى اللغات الاخرى.كيف يحول هذا السطر البديع الى لغه اخرى دون ان يفقده الحماسة او الاندفاع .دون ان يفقده الوزن و القافيه احيانا.كيف يوصل للقارئ تلاعب شكسبير المعتاد بالالفاظ شبح كل ممثل شاب او طالب المعهد الذى سهر الليالى يقف امام مرآيا حجرته يمثل صرخات ها</td>\n",
       "      <td>positive</td>\n",
       "      <td>[tensor(17550, device='cuda:0'), tensor(117, device='cuda:0'), tensor(23338, device='cuda:0'), tensor(38843, device='cuda:0'), tensor(25405, device='cuda:0'), tensor(12919, device='cuda:0'), tensor(17550, device='cuda:0'), tensor(103, device='cuda:0'), tensor(149, device='cuda:0'), tensor(224, device='cuda:0'), tensor(13862, device='cuda:0'), tensor(39848, device='cuda:0'), tensor(18923, device='cuda:0'), tensor(223, device='cuda:0'), tensor(149, device='cuda:0'), tensor(231, device='cuda:0'), tensor(220, device='cuda:0'), tensor(12919, device='cuda:0'), tensor(30335, device='cuda:0'), tensor(26897, device='cuda:0'), tensor(12919, device='cuda:0'), tensor(149, device='cuda:0'), tensor(224, device='cuda:0'), tensor(18923, device='cuda:0'), tensor(229, device='cuda:0'), tensor(12919, device='cuda:0'), tensor(25405, device='cuda:0'), tensor(13862, device='cuda:0'), tensor(41486, device='cuda:0'), tensor(17550, device='cuda:0')]</td>\n",
       "      <td>عندما تقلب فى اوراق هاملت �</td>\n",
       "    </tr>\n",
       "    <tr>\n",
       "      <th>63046</th>\n",
       "      <td>سـأدون قرائتي لهاملت . وَمُلخصي القصير . في عالم حقيقي . إلا من شبح . نتشبع بروآئح المكان . ونبحر بين أمواج الزمان . فما أشبه الماضي بالحاضر . وما أشبه الحاضر بالماضي يبكون . يفرحون . يصعدون . وَ يسقطون . يعيشون . ويموتون . ونحنُ . نحنُ فقط . نكون معهم . ومن نتعايشُ معهم . هُنـا . بين طيات أوراق شكسبير . كانت شبه جزيرة الدانمرك تحت حكم والد هاملت وعمه معا في ظل حاكم مملكة الدانمرك \" روريك \" التي تتكون من شبه الجزيرة ومن منطقة داخلة في أوروبا ،، وكان والد هاملت شجاعا دعا ملك النرويج \" كلوديوس \" إلى منازلة فردية . قتله فيها والد هاملت ،، الأمر الذي حظي بإعجاب ملك الدنمارك روريك ،، فزوجه ابنته فولدت له هاملت . واندلعت الغيرة في قلب أخيه فقتله وتزوج أرملته . كل ما سبق ذكره عرفه هاملت من شبح والده الذي أتاه يطلب منه أن ينتقم من عمه الذي أخذ عرشه وأخذ زوجته . خاف هاملت اليافع ان يناله الأذى فتظاهر بالجنون ، وصار يصطنع الغباء ويلوث نفسه بالتراب وجعل ينحت من الخشب عصيا معقوفه ،، ويحمي أطرافها في النار حتى تكتسب بعض الصلابه فإذا سأله سائل أجاب عنها قائلا إنها الحراب التي سينتقم بها لمقتل والده</td>\n",
       "      <td>positive</td>\n",
       "      <td>[tensor(17550, device='cuda:0'), tensor(111, device='cuda:0'), tensor(149, device='cuda:0'), tensor(222, device='cuda:0'), tensor(148, device='cuda:0'), tensor(96, device='cuda:0'), tensor(38843, device='cuda:0'), tensor(30335, device='cuda:0'), tensor(23338, device='cuda:0'), tensor(18923, device='cuda:0'), tensor(224, device='cuda:0'), tensor(26897, device='cuda:0'), tensor(34247, device='cuda:0'), tensor(99, device='cuda:0'), tensor(41486, device='cuda:0'), tensor(22654, device='cuda:0'), tensor(220, device='cuda:0'), tensor(13862, device='cuda:0'), tensor(29519, device='cuda:0'), tensor(12919, device='cuda:0'), tensor(25405, device='cuda:0'), tensor(13862, device='cuda:0'), tensor(41486, device='cuda:0'), tensor(764, device='cuda:0'), tensor(42092, device='cuda:0'), tensor(24333, device='cuda:0'), tensor(25405, device='cuda:0'), tensor(149, device='cuda:0'), tensor(237, device='cuda:0'), tensor(13862, device='cuda:0')]</td>\n",
       "      <td>سـأدون قرائتي لهاملت. وَمُل</td>\n",
       "    </tr>\n",
       "  </tbody>\n",
       "</table>\n",
       "</div>"
      ],
      "text/plain": [
       "                                                                                                                                                                                                                                                                                                                                                                                                                                                                                                                                                                                                                                                                                                                                                                                                                                                                                                                                                                                                                                         review  \\\n",
       "62610  فيما يقارب ال200 صفحة .يكتب درويش عن يوم عاشه تحت سماء وبحر من صواريخ . يستجيب الى تلك الاصوات برأسه .التى لا تدرى هل هى ملائمة لمن يعيش تحت سماء الموت ام لا إلا ان عشت التجربة ! عندما تعتاد .يصبح الجنون اسلوب حياة بأن تسكن فى ذلك الطابق المرتفع فى بناية ذات حوائط زجاجية .ترى سيل الصواريخ يستبيح سمائك ويطرد سكانها الاصليين من حمام ! فيكون رد فعلك .ان تصنع القهوة وتذهب للبحث عن جريدة وملاقاة الاصدقاء والدخول مع الرأس فى حوار من ذكريات . نص ملئ بالمتناقضات .العام والخاص .الغضب والامل .العادية والاختراق انه الجنون الذى ينقذنا ان نموت غرقى اليأس ! الجنون الذى يحافظ على هويتنا لتكتب او لا تكتب على شاهد قبر ان وجد ! انها بيروت .لبنان . فلسطين . العرب . الوطن!                                                                                                                                                                                                                                                                                                                                                      \n",
       "62633  اقتباسات من الكتاب: السيّاب: نفسي من الآمال خاويةٌ،،جرداءُ لا ماءٌ ولا عشبُ.ما أرتجيه هو المحال وما،،لا أرتجيه هو الذي يجبُ السيّاب: رسالةٌ منك كاد القلب يلثمها.لولا الضلوع التي تثنيه أن يثبا السيّاب: عيناكِ غابتا نخيلٍ ساعة السحرْ.أو شرفتان راح ينأى عنهما القمرْ السيّاب: يا ليتني أصبحت ديواني،،أختال من صدرٍ إلى ثانِ.قد بتّ من حسدٍ أقول له:،،يا ليت من تهواكَ تهواني السيّاب: عينايَ تحرقان غابة الظلامْ.بجمرتيهما اللتين من سقرْ، ويفتح السهرْ.مغالقَ الغيوب لي.فلا أنام السيّاب: عينان زرقاوان ينعس فيهما لونُ الغدير.أرنو، فينساب الخيالُ وينصت القلب الكسير.وأغيب في نغمٍ يذوب، وفي غمائم من عبيرْ السيّاب: سأمضي فلا تحلمي بالإيابِ،،على وقع أقدامي النائية.ولا تتبعيني إذا ما التفتُّ،،ورائي إلى الشمعة الخابية السيّاب: أراها فأنفض عنها السنينَ،،كما تنفض الريحُ برد الندى.فتغدو وعمري أخو عمرها،،ويستوقفُ المولدُ المولدا السيّاب: اليومَ ينفضُ كل حرٍّ عن يديه دم المجازر.واليوم تنتفض القرون الغابرات من المقابرْ السيّاب: الردى والهوانُ خطُّ الأذلاءِ.وكلّ الحياة للأحرارِ السياب: على مقلتيك انتظار بعيد.وشيء ي   \n",
       "62644  كثيراً ما تكون القصيدة الخالدة … في الوقت نفسه . مسرحية أو ملحمة أو رواية أو فيلماً أو سيمفونية بهذه الأوصاف الخمسة جمع الكاتب 5 قصائد تنطبق على كل واحدة منهن صفة من الصفات المذكورة. أعد نفسي من عشاق الشعر، لكن المبتدئين جداً جداً، أتذوقه بحلاوة لكن لست أفهمه إلا بعد شرحه أو قراءته أكثر من مرة، وأكثر ما أعجبني في هذا الكتاب هو شرح جو القصيدة ومناسبتها وكل مايرتبط فيها من أحداث ! شرح سلس، قريب من القلب، ومتذوق للفن، لم يركز على النقد أبداً وإنما أثار قيمة القصيدة الجمالية بكل ماتملك ! الكتاب تحفة فريدة لعشاق الشعر - ربما المبتدئين مثلي - ولكنه قيم لايفوت، فالكاتب غازي - رحمه الله - لم يكتفي بعرض القصيدة فقط، وإنما شرحها لدرجة تجعلك تنسى ماحولك، وما إن تغلق الكتاب حتى تلتفت يميناً ويساراً لتدرك وضعك ووقتك الحالي !                                                                                                                                                                                                                                                                                          \n",
       "62645  غازي القصيبي \" رحمة الله عليه \" اسم لامع نجم ليس ككل النجوم نورة يلوح في الأفق دوما وأبداً \" مؤلف بسيط ،،ثري ،، جذاب ،، متقن لحرفتة \" لدي استعداد كامل ان أقرا كامل مؤلفاته كتاب \"قصائد اعجبتني \" قد يكون كتيب وليس كتاب بحجمه ولكنه سلسلة بثراءة عجيب هذا الكتاب جدا عجيب لاانتهي منه الا واعود اليه تحليله للقصائد المتفردة جدا رائع \" تمنيت لو ان غازي القصيبي \" قبل ان تتداركة المنية ان يتوسع في هذا النمط الذي نادراً مانجد كتابات ثرية ومفهومة من قبل العامة للحق \" لأول مرة ادرك روعة قصائد ابراهيم ناجي \" مع هذا الكتاب بعد ان كنت لاانظر لها الا بازدراء ولاأقول سوى \" يامن يعز علينا أن نفارقهم *** وجداننا كل شي بعدكم عدم\" إن وجدت 100 نجمة لاتكفي هذا الكتاب حقه                                                                                                                                                                                                                                                                                                                                                             \n",
       "62665  كتاب شرح المعلقات السبع هو أكثر الشروح شهرة و نيلا لثقة الجمهور. ربما لأن الزوزني أحب التحقق فعلا من القصائد و الأبيات كما لم يفعل قبله أحد. و على كل حال، فالمعلقات السبع، حملن في قوافيهنّ حياة الجاهلية التي لم نكن نعلم منها كثيرا، غير بعض مساوئها التي أنكرها الإسلام و جاء ليبيدها. بعدما قرأت كتاب طه حسين عن الشعر الجاهلي، أكاد أجزم أنه على حق في كثير مما قال، و أن قصيدة كقصيدة عمرو بن كلثوم لا يمكن أن ترد كما أوردها الزوزني. و من الواضح أن بعضها قاله عمرو بن كلثوم حقا، و بعضه الآخر أردفه بنو ربيعة حتى يكتمل القصيد. غير أنني لا أشك في قفا نبك و لكن من البيّن أن قائلها لا يمكن أن يسمى امرئ القيس، و ان هذا الإسم لا يخلو من الطرافة. عليّ أن أقرأ لمحمد الخضر حسين و الرافعي الذين أجابوا طه حسين عن كتابه الذي تنكر فيه للشعر الجاهلي. ربما أجد براهينا أكثر                                                                                                                                                                                                                                                     \n",
       "62666  كان الكتاب هدية أبي عائدًأ لي بها من معرض الكتاب عندما كنت في المرحلة المتوسطة. وبالفعل كانت تجربة رائعة أن أدخل إلى بوابة الشعر الجاهلي مبكرًا (إن صح ذلك) ولكن لا أنكر تعجبي لفترة من الوقت كيف أن معلقة امرؤ القيس ( صاحب السبع الأبيات المرقعة من مقتطفات مأخوذة من المعلقة في كتاب النصوص ) فيها كل هذا. أذكر أني ذهبت لأصدقائي أخبرهم كيف أن امرؤ القيس طلع \"واحد خربان\" لكنه قمة في الإبداع. :) شرح المعلقات السبع والعشر . أحدهم كان الشرح به أفضل من الآخر ولكن لا أذكر. ومع هذا فالكتابان يستحقان القراءة. تحياتي بدر                                                                                                                                                                                                                                                                                                                                                                                                                                                                                                            \n",
       "62674  أحبت سالمة بنت السلطان سعيد، سلطان زنجبار وعمان في ذلك الوقت،شاب ألماني وتخلت عن إخوتها وبلدها ودينها من أجل الحب الذي استمر لثلاثة أعوام قضى بعدها الزوج الألماني نحبه في حادث مخلفا لزوجته سالمه (إميلي) ثلاث أطفال ومستقبل مظلم. كتبت سالمة هذه المذكرات لأبنائها حتى لا ينسوا من أين جاءت وقد أخذتهم في رحلة إلى زنجبار كسياح ألمان بعد تسعة عشر عاما من فرارها ليروا موطنها الأصلي. بالرغم من أن الترجمة جيدة إلا أنها أزعجتني في بعض الأحيان خصوصا وأنها توضح التراكيب المعقدة للغة الألمانية فتعطل متعة القراءة. مثلا استخدام المترجم لكلمة المرء طول الوقت مع أنه كان من الممكن أن يجعل الجملة مبنية للمجهول فتكون الترجمة أوقع. أعجبني جدا تسامح هذه الأميرة مع نفسها ومع إخوتها وكل من حولها وأعجبني أكثر عرفانها بالجميل لكل من أسدى لها معروفا. لم تعجبني عنصريتها ضد \"الزنوج\" واتهامها لهم بالكسل وتبرير العبودية. ولم يعجبني أكثر موقفها من الإنجليز الذي اقتبسته بكل وضوح من الألمان. من الواضح أنها عانت من أزمات مادية فور موت زوجها مما حملها على محاولة صلح إخوتها وإن لم تعترف بذلك صراحة. الخلاصة: من خرج من داره ق   \n",
       "62676  برغم احتقاري الشخصي لتلك المُرتدة البائعة لدينها من أجل شهوتها . فانه ليس بمقدوري أن اُعطي كتابها هذا أقل من أربع نجوم ، برغم أنني لم أكن أنوي اعطاء هذه اللعينة أكثر من نجمتين قبل قراءة الكتاب ! الكتاب هو تحفة حقيقية ينقلك الى وصف دقيق لما يفوت السرد التاريخي السياسي المعتاد الاسهاب فيه ، دقائق حياة البيت والأُسرة و غير ذلك من أمور ممتعه . يزيد على ذلك طبعاً الأسلوب الشيق الممتع في الكتابة الذي جعلني أنهي الكتاب في جلستين ! أما ما ذكر غير ذلك في الكتاب من مديح لماجد ولعن لبرغش فقد كنت وطنت نفسي أن لا آخذ بشهادتها مسبقاً ، وزاد يقيني هذا بعد القراءة . فشهادتها مجروحة في كليهما ، وان كان من المفيد معرفة حياة السلطان سعيد الشخصية وخاصة في آخر أيامه . كتاب رائع . لشخصية حقيرة !                                                                                                                                                                                                                                                                                                                                 \n",
       "62691  مقتطفات من كتاب قالوا للكاتب أنيس منصور قالوا - أنيس منصور -------------------- أقسى عذاب لامرأة ان تخلص لرجل لا تحبه ----------- المراة ليس لها مبدأ . فهي اما فوق المبادىء او تحت المبادىء --------- المرأة الشريرة اذا احبت فانها تقتل غيرها . والمراة النبيلة اذا احبت قتلت نفسها ------- المرأة تختار الرجل الذي يختارها --------- انظر الى اصابعك عندما تتهم انسانا . ان اصبعاً واحدا تشير الى هذا الانسان . واربعاً تشير اليك انت --------- عندما تحب امراة لمزاياها فليس هذا حباً . ولكن عندما تحبها رغم عيوبها فهذا هو الحب --------- الزواج عكس الحنى . فهو يبدأ بالسخونة وينتهي بالبرودة ---------- افضل علاج لقلب محطم . ان يتحطم مرة اخرى --------- مكيسنة المرأة . ان حاجتها الى الحب تشتد عندما لا تستحقه ---------- الرجل من اجل المبدأ يضحي بأي شخص . والمرأة من اجل الشخص تضحي بأي مبدأ ---------- في الحياة الزوجية يكفي ان يكون احد الزوجين عاقلاً ليعيش الاثنان سعيدين ---------- عندما يتحطم قلب . يتحطم معه كل شيء آخر ---------- اذا وجدت امراة تتحدث عن زوجها وتصفه بالجمال والكمال فاعلم انها ارملة . فالمراة    \n",
       "62693  مقولات مختلفة متنوعة . متناقضة أيضا فلكل مقولة تقريبا ماتناقضها أعجبنى منها الكثير من حيث التشبيه بلاغة الجملة . الصياغة .أكثر من اعجابى بواقعية المقولة معظم الاقوال لم تجعلنى أفكر محاولة مطابقتها للواقع فـ كون الكتاب كله أقوال عن الحب والمرأة وعلاقتها بالرجل , وتشبيههم بكل شىء يخطر أو لايخطر على البال. فى رأيى يجعله يفقد الكثير والكثير من مصداقيته ((اذا حاولنا مطابقته بالواقع )) فـ أنيس منصور هنا .ناقد ساخر والسخرية غالبا ماتكون محاطة بمبالغة شديدة بل تقوم بالمقام الاول على المبالغة وتضخيم الامور وهنا أنيس منصور لايقدم موقف بطريقة ساخرة وانما يقدم المرأة نفسها !! فينتقد المرأة بذلك فى كل موقف . ولكن هذا بالطبع لا ينفى مصداقية الكثير من الاقوال الاقوال كثيييييييرة جداً . فى البداية تحمست لقراءة الكتاب ثم أصابنى الملل ولم أقوَ على اكماله لقد أدركت ما أراده أنيس منصور . وكفى :)                                                                                                                                                                                                                         \n",
       "62695  المرأة تحب الصراحة . هذا رأيها. ولكن اذا نظرت الى فساتينها تجد ان هذة الفساتين تدل على انها لاتحب الصراحة . فالفستان قد خنق وسطها . والفستان هو الذى ابرز صدرها . وحذاؤها رفع رأسها. وكعب الحذاء قد اشاع الرقص فى جسمها. والقلم الاسود رسم حواجب لاوجود لها. وقلمها الاحمر ملأ بالورد خديها وشفتيها. فأين هى الصراحة؟ بل وأين المرأة نفسها وراء هذا العمل الفنى . أنها تخفى حقيقتها بصورة واضحة . بصورة صريحة . انها تخفى صراحتها بصراحة .!! ونحن نطلب اليها ان تكذب فى سنها وفى وزنها وفى عواطفها . وهى تطلب منا ان نكذب عليها ايضا !! .أن نجاملها . وان ندللها . ان نقول دائما انها الوحيدة فى حياتنا . انها اجمل وارق امرأة فى العـــــــــــالم . هى تكذب .ونحن نكذب . ونحن صادقون فى كذبنا وكاذبون فى صدقنا . مقدمة رائعة جدااااااا                                                                                                                                                                                                                                                                                                   \n",
       "62696  قالوا من اجمل ما قرأت عن المرأه ووجدت كثير ممن عرفتهم بين دفتي الكتاب بس حرام يعني نقول ان الرجل بيبص للمرأه كده علي طول كل راجل حسب طبيعته فالرجل البخيل يري المراه مسرفه الرجل العاطفي الحبيب يري المراه قاسيه الرجل القبيح يري المرأه مغروره الرجل الذكي يري المرأه مش ذكيه الرجل الفحل يري أن امرأه واحده لاتكفي الرجل المنحرف يري المرأه مش أوي . الرجل المرتب يجد المرأه فوضويه الرجل القاسي يري المرأه عاطفيه زياده عن اللزوم وهكذا. كلا حسب طبيعته بس أنا رأيي أته لا يوجد رجل يكره المرأه ولكن كل رجل يريد أن يثبت انه أفضل منها و كلا حسب طبيعته ورأيي أن المرأه لغززززززززززززززززززززززز ورأي أن محاولة فهم المرأه تشبه محاولة قراءة صحيفه ممزقه في وسط الأعصار !!!! يعني من ألأخركده محدش هيفهمها اللهم الا القليل و منهم أمي وزوجتي أحتراما وحبا لهما                                                                                                                                                                                                                                                                        \n",
       "62712  الكل بالطبع يعلم عن \" دكتور جيكل ومستر هايد\" . حتى دون قراءه الروايه فإن هذه الجملة ترسل إليك مُباشرة فكره إزدواجية البشر وانقسام رغباتهم بين الخير والشر . في الحقيقة كُنت أظن أن الرواية عبارة عن قصة مريض بإنفصام الشخصية، حيث أنني أجد كثيراً من المراجعات والإستدلالات لهذه الروايه في بعض المقالات التي أقرأها. وفي لحظة شجاعة قررت أن أبحث عن الرواية وأقرأها ^^\" جيده، جميله . لكنها ليست بذلك الذهول رغم غرابة فكرتها وتفردها . : عقار خيالي يفصل شخصيتك لتتحول إلي شخص آخر، بشري مختلف تماماً عن \"أنت\" الذي يعرفه الكل، شُرٌ خالص إمتلك جسداً له . الرواية جيده وقرأتها في إنتظار مُحاضرتي في الكُليه، ممتعه ومن الجيد قراءتها بالتأكيد إن أردت أن تطلع على كلاسيكيات غيرت أدبنا وأثرت عليه كثيراً : )                                                                                                                                                                                                                                                                                                                           \n",
       "62716  ألّف \" روبرت لويس ستيفنسون\" هذه الرواية في سنة 1885، ونشرها في العام التالي، وأحدثت ضجة كبيرة عند نشرها في بريطانيا لأنها كانت المرة الأولى التي تدور فيها أحداث رواية رعب قوطية في أنحاء لندن ولشخصية إنجليزية بروتستانتنية ينبع الشر من داخلها، وكان المجتمع الإنجليزي غير معتاد على هذا الأسلوب والمنهج الروائي. تدور أحداث الرواية بإختصار حول نفسية البشر التي يتنازعها الخير والشر بداخلها، فكل منا بداخله الإستعداد الفطري لكي يكون خيّراً أو شريراً، ولكن هناك القيود والمبادئ التي تحيط بالشخص فتعمل على كبح جماح نفسه وتهذيبها، وهو ما حدث مع الشخصية الرئيسية في الرواية الدكتور \" جيكل\"، فهو طبيب مرموق ومحترم، وله سمعة حسنة و طيبة في المجتمع، ولكنه يجنح إلى اللهو والترف، ويتوق إلى أن ينزع عنه أغلال المجتمع الكاذبة التي تقيد تحركاته، فيصبح بين نارين، نار شهواته وملذاته التي تعتمل في داخله، ونار القيود المجتمعية التي تُحيط به، فيلجأ إلى تحويل نفسه لشخصية أخرى هي المستر \" هايد\"، يرتكب من خلالها كل المساوئ، ثم يعود مرة أخرى إلى شخصيته الحقيقية، وهو لا يشعر بأي ذنب اقترفه، وكأنه أزاح عن كاهله تأنيب الضمي   \n",
       "62717  تقريبا من اوائل الحاجت اللى قرتيها.ومن اروعهم.لانها فى راى دفعت بفكرة الاذدواجية اللى جوه البشر.ان اكثر قدرة على ارتكاب الشر.هما الاخيار جدا.كل انسان جواها الخير والشر بنسب متساوية على قدرة على التحكم فى الخير او الشر هو ده المجهود.وده يتفق مع النص القران: \"ونفس وما سوائها،فالهمها فجورها وتقوائها،قد افلح من زكائها وقد خاب من دسها\" القصة بتكلم عن دكتور معروف عنه حسن السمعة والاعمال الخيرية،بيخترع زى مصل يطلع الشر الخالص جو الانسان بيجربه على نفسه و يطلع مستر هايد اللى جوه .انا ماعرفش هل الطب النفسى اللى اللهم الكاتب بالقصة دى و لا العكس.بس قصة ماحدش يندم انه قرائها                                                                                                                                                                                                                                                                                                                                                                                                                                                 \n",
       "62726  الدكتور جيكل ومستر هايد رواية كلاسيكية كتبها الأديب الأسكتلندي روبرت لويس ستيفنسون ، تدور أحداثها حول محامي يسكن لندن اسمه السيد أندرسون . حين يقوم بالتقصي عن صديق قديم له يدعى الدكتور هنري جيكل وإدوارد هايد الشرير . تتكلم الرواية عن حالة نفسية يطلق عليها عن طريق الخطأ ( انفصام الشخصية ) . حيث يوجد للدكتور جيكل شخصيتين مختلفتين تمام الاختلاف من الناحية الأخلاقية . اشتهرت الرواية عالميا بشكل كبير حتى اصبح تعبير جيكل وهايد أصبح دارجا وسط عامة التاس والأطباء لوصف أي شخص تختلف شخصيته بين طيب وشرير من موقف لآخر.                                                                                                                                                                                                                                                                                                                                                                                                                                                                                                           \n",
       "62765  قصيرة هي هذه القصة و متماسكة و مفعمة بالمعاني و الصور و الأحداث ,, تقرؤها فتنتهي فجأة , كقطعة حلوى لذيذة دسمة . يكاد حوار الشخصيات يكون ملتحما دون فواصل , ينتقل بك فجأة من زمن إلى زمن و من شخص إلى آخر , فيصبح الأشخاص و الزمن كتلة واحدة لكنها منسابة كالموج . من الأفضل ألا تكون هذه القصة أول ما يقرؤه الشخص لكنفاني لأنه من الضروري أن يملك فكرة عن أسلوبه و طريقة تشبيهه للأمور من خلال كتابات أخرى. لن ألخص القصة بأسلوبي أو أقتبس منها , سأقول أنها تستحق القراءة فعلاً , تستحق أن تغرق فيها و تعيشها بخيالك بكل التفاصيل التي يبرع غسان برسمها دائماً , تفاصيل الصورة و الصوت و المشاعر .                                                                                                                                                                                                                                                                                                                                                                                                                                        \n",
       "62781  -ذكري موقعة ألوان آخري ! إيماناً بوجوب تسجيل لحظات السرور فانا خرجت بعد صلاة العشاء مع صديقى إبراهيم ثم قال لي أريد أن أفك هذه المائة جنية وكشخص خبيث قلت له نفكها من المكتبة نشوف الكتب الجديدة ؛ تطور الامر من ناحيتى بتلميح لوجود بعض الكتب على القائمة لم أشتريها ثم دخلنا المكتبة وقال لي القائم عليها ةكتاب الوان أخرى أشترناه وحضرتك كنت طالبة وأنا من ناحيتى كنت بالترنج وما معي يكفى لشرب كوبين عصير قصب فقط أبتسمت ونظرت للكتاب بحنين ونظرت الى إبراهيم فأبتسم بدورة ! أرجعت الكتاب الى مكانة ثم نظر الي إبراهيم وقال لي سادفع ثمنه فك المائة جنية فخرج بنصفها فقط ورجعت فرحان بشرب سبريت وبقول فى البيت نخب هؤلاء الأصدقاء والكتب الجديدة !- هذا ما سجلته عندما أهداه لي صديق واليوم أشعر بالأمتنان أكثر لهذا الصديق مع هذا الكتاب الجميل .أورهان يجعك بعد مقالة واحدة نتهى من عدة موضوعات كنت تؤجل كتابتها الكتاب رائع                                                                                                                                                                                                         \n",
       "62782  بعض الكتب تمتلك خاصية النفاذ، ولكنها على أية حال قليلة - بالنسبة لي - احدها انتهيت من قراءته اليوم، كتاب ألوان أخرى لأورهان باموق، ذكرني بكتاب قرأته لغادة السمان في العام 2006م ، مواطنة متلبسة بالقراءة، أتذكر أن الصفحات عبرت بي لعالم آخر، عالم الكتب التي لم اقتنيها، ولم اقرأها. أورهان في كتابه الوان أخرى تحدث عن نفسه، عن الحياة، عن كتب الآخرين، وعن كتبه التي هي حياته، قد يبدو لكم الكتاب ملونا ومنوعاً بصوره تدفعكم للاعتقاد بأن قراءته من أي جزء ممكنه، وهذا صحيح إلى حد ما، لكنني بدأت القراءة بشكل متسلسل واعتقد بأنني توصلت لسرّ كتابة الفصول على هذه الشاكلة، الكاتب الذكي يأخذنا بالتدريج، يتحدث إلينا عن نفسه، أيامه، أشياءه المحببة، يتحدث بصوتنا الداخلي، عن الأرق والنوارس والمساحات، عن طفلته الصغيرة، حتى نصل لحقيقة إننا نعرف هذا الرجل جيداً، قد يكون جارنا، أبونا، اخونا ؟ ومن ثمّ ينتقل للعمود الفقري للحياة كما أراها، الكتب والقراءة، انه يقول لكم ما تريدون معرفته ثمّ يعود ويضع أفكاره وانطباعاته الأولى عن مؤلفي العالم وكتبهم. من بعد ينتقل بنا للسياسة، لأوروبا يحاول أن يضع في الطبق أمامكم وجبة سه   \n",
       "62783  قريبا ان شاء الله . * حجمه كبيرا نوعا ما *أعده من أقرب الكتب لنفسي. *أجلت كتابة المراجعة لشعوري بأني لن أكون منصفة بحق الكتاب . لأنه أعجبني جدا، وشعرت بالقرب الشديد من الكاتب و كتاباته . لكن يبدو أن هالته ذات الألوان الأخرى ستحيط بي لمدة طويلة. * الكتاب يحوي مجموعة من المقالات المتنوعة. بعضها كان تأملات بسيطة ودقيقة جداً لدرجة أنها لا تصلح للنشر لوحدها. كتب عن حياته، رؤيته للحياة، روياته، كتبه المفضلة ، وبعض المقابلات، وختمها بقصة بسيطة دمعت لها عيناي. * طريقة تذكره لتأملاته حول أدق التفاصيل في الأحداث والأشخاص والمشاعر مذهلة. طريقة تحليلة للأمور وأجابته لكثير من تساؤلاته (وتساؤلاتي) جميلة حتى لو لم أقتنع بالكامل. مراجعته للكتب وبعض الروايات تبدو كأقصوصة تدخلك في ذهنه لتفهم تماماً ماذا يعني وكيف قرأه. طريقة كتابته للروايات دليل مجاني لمن يمتهن الكتابة الروائية. أشعر بأني سأفسد متعة الكتاب في حال ذكرت تفاصيل أكثر. *الترجمة جميلة و لا تشعرك أبدا بأنه نص متراص من غير اندماج.                                                                                                                       \n",
       "62784  استمتعت جدا جدا بالكتاب . صحيح أنه كان مجرد مقالات وبعضها لا تعبر إلا عن رأي الكاتب نفسه لكن أحسست بأن أفكاره قريبة مني جدا كم أتمنى من كثير من الكتّاب الذين أتابعهم بشغف كتابا مماثلا. مثل هذه الكتب تجعلك تعرف ما يحصل خلف الكتاب وكأنك تشاهد مشاهد التصوير - وراء الكواليس - لفيلم سينمائي ماذا ألهم الكاتب؟ فيم كان يفكر؟ ما هي القصة وراد فكرة معينة ؟ جميعها تفاصيل صغيرة تجعلك أقرب للمؤلف والكتاب معاً وهي التي تشعرك بالعلاقة المتينة التي قد تربطك بأحد كتبك المميزة !! أورهان كاتب بالفطرة . وهو ما يؤكده هذا الكتاب من أول مقال فعلى الرغم من أن بعضها لا يتجاوز ثلاث صفحات إلا أنها تأخذ من وعيك نصيبا كبيرا فمن أجواء اسطنبول وناسها ومبانيها وحدائقها وكلابها - أكرمكم الله- إلى كارثة زلزال ٩٩ إلى قضية الهوية التركية المتأرجحة بين الشرق والغرب وموقف الأتراك أنفسهم من هذه الأحداث. هذا الكتاب بالذات شكّل خاتمة مميزة لكتب العام المنصرم . وهو ما دفعني للبحث عن كتب أخرى لنفس الكاتب أخيرا . إن كنت قرأت لأورهان سلفا فهنيئا لك ،، وإن لم تفعل فالأحرى بك أن تبدأ بذلك منذ الآن كما سأفعل إن شاء الله :)             \n",
       "62785  ألوان أخرى يمكننا القول بكل ثقة أنه لا أحد يكتب عن ذاته كما يفعل الروائي، فذلك الكائن المتوحد الذي يجلس إلى طاولة لسنوات طويلة - ثلاثين في حالة باموق -، يكتب ويكتشف ذاته، يفرقها على أبطاله، ويعيد كتابتها مرات ومرات، عندما يجلس بعد كل تلك السنوات ليكتب عن نفسه، ولكن هذه المرة بلا أقنعة، بلا شخصيات، بلا حبكة أو عقدة، وإنما كائن ورقي الهوى، يعشق الكتب، فيقرئها، ويعشقها أكثر فيكتبها، ويعشقها بعد فينقدها، ويحللها، ويأخذنا في رحلة إلى كتابه المفضلين، ولحظات كتابته المفضلة، يندر أن يكتب روائي عن نفسه، فلا يتحدث عن الكتب والكتَاب ولحظات الكتابة وظروفها وعن كتاباته، كيف جاءت؟ ما هي جذورها في روحه؟ وباموق كتب هذا كله في مقالاته هذه، وزادها بالحديث عن ما مر به من أحداث في طفولته، عن علاقته بوالده، عن الزلزال الذي ضرب تركيا سنة 1999 م، عن الكتب التي أحبها، والكتب التي تخلص منها، عن رواياته، وعن محاكمته، وأخيراً الخطاب الذي ألقاه عندما تسلم جائزة نوبل للآداب سنة 2006 م بعنوان (حقيبة أبي).                                                                                                                   \n",
       "62793   أقولُ له : أصبتُ بالعدوى، وسالَ في ليلِ الكتابةِ حليب  أشعار درويش من جهة و مقدمة نصري من جهة أخرى ! مزيجٌ من الجمال هما؛ فالمقدمة راائعة . تدفعك دفعاً لقراءةِ ما بعدها يقولُ نصري : أجملُ الشعرِ نقصانه، لأنه، إن اكتمل، تحجّر ! ويذكر أيضاً أن لفلسطين في شعرِ درويش، مستقبلاً فوق طاقة الزمن . تاريخه الآتي، مرسومٌ في المدى الإنساني الحيوي، الفائق الاندفاع، باتجاهِ الخلاص . أو الانعدام . أما عن أشعارِ درويش فليس لدي ما أقول أكثرُ مما يقالُ فيها ! إن الشهادةَ في أشعاركَ يا درويش مجروحة ! =) *الكتاب خفيف وجميل مُناسب لأوقاتِ الانتظار أو خلال مشوار السيارة                                                                                                                                                                                                                                                                                                                                                                                                                                                                \n",
       "62794  بعد أن تجاوزت فترة الولع بألغاز المغامرين الخمسة والمغامرين الثلاثة والشياطين الثلاثة عشر، وبدأت بقراءة الروايات الأدبية لنجيب محفوظ وسهيل إدريس وإحسان عبدالقدوس وغيرهما، وقع في يدي هذا الكتاب. قرأته بداية على سبيل التسلية والتغيير، لكني فوجئت أولا بأسلوبه الأدبي الرصين، وثانيا بحبكته الذكية، وثالثا بكونه موجها لفئة عمرية شابة، وليس للأولاد أو الناشئة لكن للأسف، لم تكن سلسلة الرجل المستحيل متوفرة حينها كالألغاز، فكان الحصول عليها صعبا، لذا فإن ما قرأته منها هو أقل مما لم أقرأه، وبعضها قرأته من فترة قريبة \"نسبيا\" (سبع أو ثمان سنوات) وهي سلسلة جديرة بالقراءة، ممتعة، وتنمي الكثير من الملكات لدى قارئها، أهمها، كيف يفخر بكونه عربيا.                                                                                                                                                                                                                                                                                                                                                                                \n",
       "62798  قرأت \" مبسوطة يا مصر \" لأشرف توفيق . وأنا مبسوووووووووووطة على الآخر .وخلصته في قعدة صفا أعجبني فيه \" كوز المحبة اتخرم طرطش على كمي . يا حبيبي بطل جفا وارحم عذاب امي \" ! من الكتاب : \" سؤال أحياء : ارسم من خيالك الجهاز الهضمي لسمكة قرش في البحر الأحمر أكلت حالا مواطنا مصريا .من عبارة غارقة \" اوعى تعيط . خليك مؤمن يا راجل \"\" \" ناس ولاد شحيبر صحيح \" !! حلو جزئية \" فيلم هندي \" و \" رجل المستحيل \" . بصراحة الراجل ده توووووووووحفة .ههههه \" انا اسمي جون \" ذكرتني بايام الفرنسي الكتاب بصراحة جرعة ضحك مش طبيعية انصح بقراءته                                                                                                                                                                                                                                                                                                                                                                                                                                                                                                     \n",
       "62823  الكتاب عبارة عن مجموعة حوارات مع الدكتور عبدالوهاب المسيري حول العديد من الأفكار والمباديء التي كتب بناءً عليها موسوعته \"اليهود واليهودية والصهيونية\". اعتمد الدكتور على أسلوب التحليل والتفسير والتفكيك ومن ثم البناء للمصطلحات والموضوعات المطروحة في عالمنا العربي بعيدًا عن الخطاب السياسي العربي المسيّس. الكتاب يضم بابين تحدث في الأول عن موسوعته، الدولة الصهيونية واتجاهاتها وأوجه التشابه بين الإستعمار الصهيوني والاستعمار الغربي، الدولة الوظيفية أي إسرائيل التي وُظّفت لصالح الإمبريالية الغربية واستراتيجية توسيع نفوذها والهيمنة على العالم و العالم العربي تحديدًا. الباب الثاني تحدث عن اليهود واليهودية نفى وجود مايسمى \" بالشيطان اليهودي\" أو \" العبقري اليهودي\" لأن اليهودي نتاج لوطنه الأم كما كل البشر ولايجوز تعميم صفة على كل يهود العالم المنتشرين في أنحائه. تطرق للهولوكوست والرؤية الغربية العنصرية للإنسان و محاولة إبادة أي عنصر غير استعمالي لايضيف شيء للحضارة الغربية الداروينية . الهولوكوست صورة واضحة لهذا النمط والذي تكرر في إفريقيا وفلسطين وبغداد وأفغانستان. أخيرًا تطرق للمؤامرة كنموذج تفسير   \n",
       "62834  حبتهاااااا اووووووووي بجد رائعة :))))) مجمعة معاني حلوووة كتير ^_^ كأن كل حاجة الواحد يحبها لقاها فيها :)) من أول اسمها اللي شدني لبساطة طريقة الكتابة لتلقائيتها للكلام الرائع اللي فيها عجبني فيها جمل كتيييير زي : لأن كل ما يؤدي رسالته فهو حي!. ما نصنعه بيدنا هو جزء من حياتنا يتكشف لنا. الشراهة تقتل روح المتعة. الزيادة معناها الإسراف. تبديد. تبديد المتعة. وتبديد الطاقة. تبديد جزء من إنسانيتنا. . . الإنسان الكامل، ككل شيء اكتمل. لا يحتمل الزيادة ولا النقصان. إن كل جزء من حياتنا يجب أن نصنعه نحن بأيدينا. أما الحياة التي تقدم لنا جاهزة فإننا لا يمكن أن نفهمها أو نغير منها شيئا. إننا نقبلها بكسل . وبعيون مغمضة. لن يكون له طعم عندنا. لأننا لم نحصل عليه بكدنا. أحيانا. وليس دائما. سوء الظن من حسن الفطن؟. ماذا فيها أكثر من الأخرىات؟. الأمير : فيها أنها تطلب شيئا في الرجال لاندري بعد ما هو!. :) قيامنا بما ينبغي أعطانا داخل أنفسنا شعورا لا يقدر بثمن. صرنا السجن والسجان والمسجون في جسم واحد. ربما تريد أن ترى فيه مجرد إنسان!.\" الذي يقوم بنفسه هو الأكمل، والذي يحتاج إلى أن يقوم له غيره بما يستطيع ه   \n",
       "62835  بدأت القراءة وأنا أتوقع من توفيق الحكيم مسرحية رائعة كمسرحية \" أهل الكهف \" ، ولم أتوقف كثيراً عند المقدمة التي تقول إنها مسرحية تعليمية وتشبها بحكايات \" كليلة ودمنة \" ، وعندما أنتهيت منها ندمت ، فالمسرحية ركيكة ، فلا متعة قدمت ولا أخلاق قومت . بناء الشخصيات غريب ، ف \"شمس النهار\" فتاة مدللة وعاشت حياتها في رفاهية ورغم ذلكتشترط شرطاً غريباً لكي تتزوج لا يتناسب وتصرفاتها مع \"قمر الزمان \" ، الذي يشكل هو الآخر علامة استفهام كبيرة ، فعندما ترضى به الأميرة ترفض وعندما تلمح له أنها تميل لرجل آخر يصارحها بحبه وعندما توافق على الزواج منه يرفض هو . النهايتان سيئتان - هناك نهاية للنص الأصلي ونهاية كتبت عندما عرضت المسرحية على المسرح القومي - ، فلو كنت أنا كاتب المسرحية لجعلت \"قمر الزمان\" هو الامير حمدان وقد أخفى شخصيته ليمتحن \"شمس النهار\" أيضاً. وهناك بعض التحفظات على التراكيب اللغوية ، ففي العصر الذي تدور فيه الرواية لا أعتقد أنهم استخدموا تعابير مثل ( كل واحد وشطارته ) ( كانت مخلعة ) ( مناكفة ) !!! الحكاية لا تستحق أن تسمى بمسرحية ، هي حكاية أطفال لا أكثر                                            \n",
       "62840  الكتَاب :: عدّة الصابرين وَ ذخيرة الشَاكرين . النوع :: من سلسة كتب ابن القيم الكَاتب :: ابن القيم الجوزية دَار النشر : ابن الجوزي للنشر و التوزيع عدد الصفحات ::٤٣٢ عدد أيام القراءة :: خمسة أيام و يوم فاصل استراحة التقيم من خمسة :: ٤ ( السعادة كلها في طاعته ، الأرباح كلها في معاملته و المحن و البلايا كلها في معصيته و مخالفته . فليس للعبد أنفع من شكره و توبته إنّ ربنا لغفور شكور ) نجهلُ كثيرًا ماهية الصبر . وَ جهلنا هذا يستدرجنا إلى أخطاء تُقلل من قوته وَ يسلب منهُ الأجر حبة حبة ! ، مثل هذه الُكتب تستطيع أن تقودك لطريقٍ أسلم لذا النهل منها و إن كان يسيرًا يوضح للانسان كثيرًا من الأشياء التي لن يعيها يومًا ما بنفسهِ قرأت قبل سنة و نصفها تقريبًا . المُختصر من هذا الكِتاب و لجمالهِ قرأت الآن المفصل . إلا أني وجدتُ في قرائتي الأولى حاجتي . لذا أنصح بالمختصر . مما لفت انتباهي حين شرعت بأن ألقى نظرة على تذيل الصفحات التي توضح إخراج الأحاديث وَجدتُ الكثير منها ضعيفًا . لذا قطعتُ شوطًا بالصفحاتِ التي تحويها . بعضُ اقتباسات :: *( الصبر ثلاثة أقسام :: صبر على الأوامر و الطاعات حتى يؤديها . صبر على   \n",
       "62841  لا يخفى على أحد جمال الحديث عن الصبر والشكر كصفتين في النفس المؤمنة تقويها وتزيدها أجراً ، وهنا ابن القيم في كتابه يقسمه موضوعياً لثلاثة محاور رئيسية على ما اعتقد: الصبر، الشكر . كتعريف بالمعنى وأنواعه ورواية قبسات من الأحاديث وقصص أهل الصبر والشكر وعظيم فضلهم وأجرهم، ثم ينتهي لبحث مطول في \" أيهما أفضل الفقير الصابر أم الغني الشاكر\" وفي كلٍ خير. عدد صفحات الكتاب 691 ، منها 549 في موضوع الكتاب والمتبقية عبارة عن فهارس. ويكفيك لقراءته أنه من تأليف ابن القيم ، وحديثه الصبر والشكر . وربما أنصح بمختصر الكتاب ليبقى تركيزك على الفائدة أكثر                                                                                                                                                                                                                                                                                                                                                                                                                                                                                 \n",
       "62842  لا يمكن أن يختلف اثنان على القيمة العالية لمحتوى هذا الكتاب وأهميته لكل مسلم يود أن يزيل غشاوة الدنيا عن عينيه. أكثر الأجزاء تأثيراً في نفسي هي الفصول التي فصلت بأمثلة رائعة حقيقة الدنيا وكيف يراها الله وكيف يراها المؤمنون والغافلون. ولا يمكن أن توصف بوصف أدق من وصف رسولنا الكريم عليه أفضل الصلاة والسلام : \"ما لي وللدنيا إنما مثلي ومثل الدنيا إلا كراكب قال في ظل شجرة ثم راح وتركها\". النسخة التي قرأتها هي \"صحيح عدة الصابرين وذخيرة الشاكرين\" التي حققها مصطفى محمد أبو المعاطي والتي احتوت على الأحاديث الصحيحة والحسنة فقط من الكتاب الأصلي.                                                                                                                                                                                                                                                                                                                                                                                                                                                                               \n",
       "62858  ولا: لم اتعمق كثيرا فى كتب \" الرائع مصطفى محمود _رحمه الله عليه\" ولكن تعلق بهذا الكتاب جدا لسببين: 1_ اننى احترم الكتاب الذيت يتواصلون مع القراء حتى وان عنفوهم فى الرد على خطاباتهم . هذه شيم الكتاب العظام امثال الدكتور مصطفى محمود والعقاد على سبيل المثال 2_ ان الكاتب اختار موضوع محدد ورسائل محددة وهى كلها تتعلق بالمشاكل المرتبطة بالعلاقات العاطفية ثانيا: اعطيت الكتاب 4\\5 لان الكتاب احتوى على مشاكل كثيرة متعلقة \" بالحب\" او مايتصور _القراء _ او _المراسلون_ انه حبا . استفدت من المشاكل التى كتبها القراء, واستفدت اكثر من الاراء وبعض الحلول التى عرضها الدكتور \\ مصطفى محمود. ثالثا: الكتاب لم يكن يشمل مشاكل عابرة او غير مرتبة ولكن اعتقد ان الدكتور اراد ان يختار مشاكل بعينها, ومن جميع الاعمار ليعلم الجميع انه اولا : لاعمر محدد للحب فطالما فيك نفسا فانت معرض لخفقان القلب . ثانيا : الحب ليس خطا فى حد ذاته ولكن الاسلوب او الطريقة او الخروج عن الشرع او النظر الى الطرف الاخر فى علاقة الحب على انه هو الوحيد المخطىء لانه وثق فيك , هذا هو الخطا بعينه لن استطيع ان اوفى الدكتور حقه ولذلك اقتبست بعد ردود    \n",
       "62859  فى الحقيقة جذبنى جدا اسم الكتاب وخصوصا لما عرفت انها مشاكل حقيقة لا مختلقة ولا متصنعة تخيلت هذا الكتاب مثل كتب عبدالوهاب مطاوع التى عندما اقرء مشكلات التى يعرضاها عينى تفيض بلدمع مع بعض القصص ومع بعض القصص الاخرى احمد الله على مااتانى وفضلنى على كثير من عبادة وبعض القصص الاخرى التى افكر فيها ايام كثيرة واتأمل فيها حكمة الله وهكذا بس ف الحقيقة كتاب دة من رأى لم يفيدنى الا قليلا جدا وكان سيضرنى اكثر ولاسباب كتير الكتاب دة من زمااااااااااااااااااااان اوى ايام ماكانوا بيقبضوا سبعة جنية وكدة ناس اغنية اوى فبتالى مش ناسب زمانا خالص بصراحة الكتاب فى الاول جعلنى لااثق فى اى رجل فمعظم الرجال يكتبوا ويقولوا انهم اتجوزا على حب وبيحبوا زوجاتهم جدا لكن فاجأة لقى نفسة بيحب واحدة غيرها وانة مش قادر ومش عارف يعمل اية ؟؟ والراجل التانى بقول انة كان بيحب واحدة زمان واضطر يتجوز ومعرفش يتجوز ال بيحبها فاتجوز بس مش قادر ينسى حبيبتة الاولانية وعمال يعينى يطلع فى مراتة كل حاجة وووووووو.الخ وكمان خلانى مثقش فى الستات والله الكتاب برجلى مخى كل الناس فية بتخون وبتكرة وبتحب على المجوزينهم وحاجة كدة استغفر الله ا   \n",
       "62860  الكتاب بمنتهى البساطة هو خلاصة و عصارة تجارب شخصية و اراء منطقية لمدلولاتها بالرغم من عراقة هذا الكتاب نسبيا و اختلاف وقتنا عن توقيت كتابته فيما يوازى النصف قرن الا ان القدر دوما يعيد نفسه و قد وجدت فى تلك الخمسة و خمسون قصة قصيرة و رأى الدكتور فيها مرجع من الخبرات و الواقع و التفكير العادل الخارجى فى امكانيات حلولها و الوصول لنقاط وسطية فى انجرافاتها و لا أدرى سبب التقدير المتدنى نسبيا للكتاب فى وجهة نظرى و لكن على أية حال من لا يريد قراءة الكتاب كاملا أنصح بالمشاكل الآتية مشكلة 14 \" الحنان \" . أفضل و أجمل ما قرأت فى هذا الكتاب . لأنها ليست مشكلة شخصية بل مشكلة العِرق البشرى بأكلمه بأختلاف ثقافاته و تاريخه و ما بهرنى أكثر أن كاتبها فتاة لم تتخطى العشرين من عمرها - وقت كتابة الرسالة بالطبع - فأنحنى لها احتراما و تقديرا مشكلة 25 كوبرى السعادة . كم أوقعت فى نفسى وقع دبيب من أقدام جيش جرار . على جحر نمل ينوء بحياته عن تلك الاقدام الغافلة فهى رائعة كاتب الرسالة و رائعة رد الدكتور عليها و رائعة الواقع و رائعة القدر مشكلة 26 النضج المبكر . حيث ناقشت قضية نفسية مجتمعية بالدرجة الاولى مشكلة 54   \n",
       "62861  بالنسبة لى كان كتاب فكاهى مش عن الحب ولا غيره :)) تخيلته -زى أغلب اللى عاملين ريفيو ماكتبين- عحاجة على غرار كتب مطاوع اللى مجمع فيها مشاكل بحلول ، بس طلع أنه بيعيد صياغة المشاكل بطريقته وحلوله فى منتهى الـــ :)) بيطلع عقده على الناس . كفاية أنه بيقول فى رد من الردود \"أنت ولد عبيط أخدت حقك من الأدب على يد صاحبتك\" :)) وفى رده على سالة أخرى \"أنت أصلك مخبوط فى عقلك\" وبيقول فى حتة تانية \"الرغى دا للفراشيين اللى زينا\" !!!! بس فى الحقيقة بيوح حقائق دامغة زى \"90% من الرجال محتالون لايتصرفون على الطيبعة وإنما دعون الحريات ولايؤمنون بها فى أعماق نفوسهم هناك عملية كذب عام شامل منظم بين الرجال\" :) :) :) :) بخلاف أنه كتاب بطربوش . كأنى شايفة المشاكل كلها أبيض وأسود يمكن لأنه مكتوب فى الخمسينات ؟؟ كله فى مود فلم غشاعة حب و نهر الحب كفاية أنه فى مشكلة بين واحد ومراته \"هى فى الدرجة السابعة وأنا فى الدرجة الثامنة وأخاف أن يدفعها ذلك غلى أن تتعامل معى بغرور واستعلاء\" !!!!!!!!!!!!! وواحد عنده خمستاشر سنة (((((راااااااااجل)))))) ابوه عايز يغصبه على الجواز #رد_أنت _يا_حسين وكمان شايف أن كل المثقفات ترفات و   \n",
       "62864  اشتقت كتير اني اكتب راي في هذا الكتاب ده كنت منتظره اني اكتب راي بالتفصيل فيه كتاب بجد رائع وشيق عباره عن مجموعه من القصص تشبه بريد الجمعه اكثر ما كنت اشتقاق اليه في القصص هو رد دكتور مطصفي محمود اضحكني كتيرافي بعض ردوده لكن امتعني اكتر ردوده بسيطه وسهله وتدخل لقلبك بسرعه حزينت من بعض القصص ولكن استغربت من هذا العصر لما كان فيه من انحلال ديني وخيانات زوجيه وشرب وخمره .وان كنت اراه ان كل العصور بيها السيء والحميد .ولكن اصر علي حمد الله كتير انني لم اكن موجوده فيه والحمدلله تمنيت لو ان مصطفي محمود موجود لارسلت له رساله اشكره فيها                                                                                                                                                                                                                                                                                                                                                                                                                                                                                      \n",
       "62865  ليس الا مجوموعة من تجارب السابقين و إعترافاتهم بسذاجتهم و غفلتهم بحماقتهم . فكما يقول أبو فراس الحمداني : \" عرفت الشر لا للشر لكن لأتقيه . و من لم يعرف الشر من الناس يقع فيه ! \" و لا أدري لماذا شعرت بغلبة الدناوة في معظم المشكلات المطروحة عدا اثنين أو ثلاثة تسمو فيها العاطفة !!. و عاطفة الحب عظيمة بالفطرة و لا يكون مردود مشاركتها إلا بالخير على صاحبها حتى و ان كان لا يتبادل فيها نفس العاطفة من الطرف الأخر . فمن الممكن أن يكون الخير الود ، و العطف ، و الحنان ، و اللطف ، و الرفق ، . الى آخر المشاعر النفيسة التى تحيك بللورات اللؤلؤ رابطة بين إنسانيتك و إنسانية من حولك . !! و لم أشعر من الدكتور انه ذلك الملهم العاطفى الذي يضع في كتابه الحلول المبدعة لحل مشكلات معترفيه !! حتى اننى في بعض الاعترافات و الردود عليها شعرت كأننى أستمع إلى \" أسامة منير \" في إذاعة الراديو !!!                                                                                                                                                                                                                                     \n",
       "62871  على الهامش : الكتب مفيد جدا لانه بين ليا ان التحرش اللى فى ايامنا دى هو مش وليد اللحظه والانحطاط الاخلاقى وقع من اكثر من 60 سنه وفلا عجب من الاعتصابات و انتهاك الحرومات و كان لاعيب ايضا انتشار الجهل و الفقر كان عمود من اعمده ناء دوله تصبح بعد 50 عام من الدوله المتخلفه لكن يعود الامل فى بعض هولاء الذين ما ذالوا محافظين على السلوك القايم لدى الانسان البشرى محافظين على الاخلاق والقيم هولاء هم امل تلك البلاد فى اخلاق سديده حلقات الكتاب : بالنسبه للمشاكل نفسها فلا اجدها تختلف عن 2012 هى هى مع اختلاف الاسماء والالقاب تعددت الازمان و المشاكل واحده عن الكاتب : واعجبنى فى الدكتور مصطفى صراحته وايجازه وان كنت لم افهم القليل من الاجابات فهم جيدا لكنها تدل على رجل لم يترك الحياه للعلم ولا العلم للحياه اخد من هذا وذلك وان غلبت عليه العلميه احيانا                                                                                                                                                                                                                                                                    \n",
       "62876  من احسن ما قرات لمصطفى محمود كتاب ينقل خبرات و تجارب كتير فيه ميزتان و هما عيبان فى نفس الوقت حسب ما تراهم الاولى ان كل القصص اللى فيه قصص حب فاشله يعنى بتخليك تحبط شويه بس مهم انك تعرف الشر عشان تتجنبه . حديث ابى حذيفه: كان الناس \"يسألون رسول الله صلى الله عليه وسلم عن الخير وكنت أسأله عن الشر مخافة أن يدكنى و الثانيه انه عباره عن خطبات يستشيره فيها واحد من اطراف المشكله و يرد عليه مصطفى محمود بنصيحه اسلوبه بعيد جدا عن الوعظ مختصر جدا لا يكثر الكلام الكتاب قديم لكن المشاكل الانسانيه كما هى فى كل زمان بعض القصص اقوى كثيرا من غيرها بس الرجل غطى كل انواع المشاكل عموما استفد منه كثيرا و انصح اى حد مقدم على الارتباط انه يقرأه                                                                                                                                                                                                                                                                                                                                                                                      \n",
       "62877  فقط المقدمة هي ما أثارت اعجابي. وهي المذكورة في تعريف الكتاب بالأعلى فيما عدا ذلك فنحو تسعين بالمئة من القصص المختارة سيئة حقاً ومن نوعية واحدة تقريباً الشاب أو الفتاة الذين لا يثقون بأن هناك من يصلح ليكون زوجاً لأنهم يحكمون على المجتمع من منطلق تجربتهم الفاسدة أخلاقياً بطريقة تشعرك أن المجتمع في هذه الفترة كان غارقاً في الإنحلال .لا أدري لماذا كان التركيز على هذه النوعية من القصص وإختزال مشاكل الحب فيها .هذا من ناحية ، أما من ناحية أخرى فالردود جاءت في معظمها هزيلة ،مقتضبة ، \" لا تسمن ولا تغني من جوع\" كما تفضل أحد الأعضاء ووصفها .فهناك رد لا يزيد فيه الكاتب عن: \" معك حق\".ولا وجه مقارنة على الإطلاق مع ردود الفارس عبد الوهاب مطاوع وأنهي بعبارة د.أحمد خالد :\" لو لم تكن الرواية لشكسبير لألقيتها في القمامة ،حقاً إن لبعض الأسماء لرهبة \"                                                                                                                                                                                                                                                                      \n",
       "62896  كل اللى عجبنى فى الكتاب بامانة اسلوب دكتور مصطفى محمود فى الرد على المشاكل عشان كان بيواجهه كل واحد بحيقيته بس بصراحة كان فى اشخاص غريبة اصلا كنت بستغرب من كلامهم ومن مشكلتهاهم اللى اصلا مش مشكله بس دكتور مصطفى محمود مكنش بيسكتلهم :) وبعتبره كتاب مش ملل عشان هو مشاكل منفصلة. بس اختلاف الاجيال والزمن يخليك تحسن انك بتشوف فيلم ابيض واسود عشان كدة مابتعبروش فادى بنسبة كبيرة بس طلعت منه ان زمان مكنش جميل ولا حاجة زى ما احنا كنا متصورين وان كل جيل لية ايجابياته وسلبياته بس زمان كانت سلبياته اكتر للاسف لانه كان بينقصه حاجات كتير اوى :)                                                                                                                                                                                                                                                                                                                                                                                                                                                                                    \n",
       "62998  الكتاب يمكن تلخيصه بما كتب في آخر صفحة؛ الأهداف و الإمكانيات التي يجب أن تتمتع بها الدول العربية (أو أية دولة) لكي تلحق بركب الحضارة و تقف في حلبة الدول المسيطرة. لن أذكرها هنا, لأنها ستفسد متعة الكتاب و الهدف منه. أتمنى بصدق أن يكون هذا الكتاب ضمن مجموعة القراءة الإجبارية لأي صانع قرار عربي, الذي يبدو أنهم جميعاً لم يقرأوا سوى الكتب التي تشرح تبرير الغاية للوسيلة. هناك الكثير من الكتب التي تستحق أن يقرؤها أي مهتم بالسياسة و تحركات الحضارة و النهضة. الكتاب مقسم إلى فصول, بعضها صفحات معدودة, و أخرى تمتد صفحات طويلة. لكنه ممتع و انتهيت منه في أقل من يوم. و في نهاية كل فصل وضع ملخص لأهم ما فيه. من المثير للاهتمام أن الكتاب من أوله لآخره لم يذكر الدين و الصراعات الجدلية البيزنطية ولا مرة كشرط من شروط التقدم و النهضة, أو كسبب من أسباب المصائب التي حلت بنا. لم يأت ذكر الدين إلا في الفصل الذي يشرح الحالة العربية, و لم يأت النقاش على سبيل المديح. أقول هذا الكلام, لا قدحاً في الدين أو جحداً لفضلة, و لكن لعله يجد طريقه إلى كثيرين ضيعوا أوقاتهم في نقاشات عقيمة حول \"شكل الدولة\" و \"دين الدولة\" و مو   \n",
       "63006  لا أكتب مراجعة لكتاب.وإنما أحكي عن أثر حروف لامست روحي طيور أيلول.شئ ما شدني إليك.ربما بقايا من وجع مغترب تنهشه الذكريات و بعض من حكايا الغربة.وخيوط شوق في الليالي المعتمات. وغصّات انفعال.وخيالات عشق. حلّقت روحي في فضاء موشّح ببواكير الغمام.مع تلك الطيور المهاجرة بصمت.لتحيا من جديد لوعة الفراق.مخلفة وراءها طعم هجر يعشش في دموع تفلت من المآقي. برفقة فنجان قهوتي المطيّب بالهال.وصوت فيروز الدافئ.\" يا طير . ياطاير على طراف الدني لو فيك تحكي للحبايب شو بني يا طير\".وتلك الصور التي تستقر في الذاكرة هُنا.تتراقص الحروف برشاقة.وتتمايل على أنغام الطبيعة الغنّاء.في أجواء القرية.حيث نعبّ أنسام الصباح المترعة بالعطر.على بيادر القمح.وبين الحقول وكروم الزيتون.وعناقيد العنب الذهبية.وفي أمسيات الصيف الهادئة.وحلقات الجيران على مصطبة أنجلينا. ما بين أفراح القرية وأعراسها.ولحظاتٍ يبسط فيها الموت شبحه عليها.وتندحر الحياة. \"مرسال.راجي.مريم.فواز.نجوى.كمال. وأنا\". أين انتهت الأحلام التي غرست في الحقل المجاور؟؟ وهل ستعود الطيور المهاجرة إلى أوكارها؟؟أم أنها أدمنت الحياة بين الجدران الضيقة بحثا عن سِعَة العيش؟؟    \n",
       "63007  بدأت بعشقِ الأرضِ ووصفِ تلك القَرية التي من حُمرة ترابها نحيا ونقتات . وبصخورِها نُحتت ملامحنا وبها نحن نكبر مهما كان للغربة نصيب فينا ، مُداعبة الحُلم واحتضانه رغم كل ما هو محبط ، أحلام مُلقاة في القعر ساكنة في الماء العَكر ، إيّاك ان تُفرّط في اصطيادِها يومًا . هكذا تعلّمت منها شقّ شاهق بين ، عيب وحرام وأخرَى حُلم وأمل ! حياة بسيطة في الرّيف واخرى باهظة في المدينة ! فجوة منذ الأزل ، صراع جنوده الرّوح وغذاؤه الأمل . الغربة والبقاء . الحلم والواقع ، الغيرة والحسد والخُزعبلات !! تناقض صارخ في صفحاتها . صياغ جميل مليئة بالمشاعر الجيّاشة . حروف أصيلة فعلًا نالت من الجَمال نصيبًا وافرًا . جميلة وتستحق القراءة رفقًا بِطيورِك أيلول !                                                                                                                                                                                                                                                                                                                                                                                \n",
       "63016  عصام محفوظ، عند تكلمه عن الملحدين، أخذ مركز المتدين الكاره للملحدين وكل من يخالف دينه،ولكن هو عليه أخذ مركز موضوعي بحتّ عند كتابته لكتاب عن الملحدين وذلك جعله متلاعب بنقله لصورة الملحدين وبينهم كنوع من الكاذبين، السفهاء. فهو قال أكثر من مرة \"ادّعى الملحدون\" ووصف كل نقد وجهه ملحد عربي نحو الدين بالإدعاء بينما هو لم يقل \"ادّعى المسلمون\" مما يبين عدم موضوعيته. كما أنه شكك بإلحاديّتهم!!! بالإضافة إلى ذلك، وبعد قراءتي لهذا الكتاب، ألاحظ بأنه لم يحاور ملحدين بل حاور ناس رفضوا الدين ولكنهم لم يرفضوا وجود الله وهذا ليس الإلحاد بل الربوبية وهو شيء مختلف كثيراً عن الإلحاد مما يجعل كتاب عصام محفوظ غير دقيق ولا يجب ما قيل فيه أن يأخذ بعين الإعتبار. وأيضاً، يلاحظ عند حواره معهم أنه كان منحازاً كثيراً لدينه. غير ذلك، يمكنني أن أقول أن فكرة الحوار مع \"الملحدين\" - و أضع المزدوجين لأنهم ليسوا ملحدين بل اعتقادهم ربوبيّ - وغير سرد الأحداث كانت رائعة وأن الحوار بحد ذاته كان رائعاً، يدفع الإنسان إلى التفكير بعمق بكل ما هو حوله، ويمكن القول إذاً أن الكتاب لا بأس به - إذا حذفنا كل جانب غير موضوعي في حواره مع   \n",
       "63023  بدأت قراءة هذه الرواية دون توقعات، و الحمدلله انني لم اتوقع منها ان تكون رائعة والا لشعرت بخيبة امل كبيرة. لم ترقى لا لغوياً ولا انشائياً الى ما اتوقعه من اي رواية. لغوياً، و ان حاول الكاتب ان يستخدم اسلوب الوصف كثيراً الا انه لم ينجح و وجدت ان محاولاته في اثارة القارئ بوصف المشاهد كانت رخيصة و ضيقة النظرو لا تتعدى الوصف لمجرد الوصف. بدت لي و كأنها في مستوى الروايات المترجمة من لغات اخرى و هذا جعلني ادير الكتاب لا وعياً اكثر من مرة لأستطلع ان كانت من لغة اخرى. و على صعيد القصة، لم اكن بتلك السعادة ايضاً و انا اقلب الصفحات و اجد مشاهد مبتذلة منذ البداية، ربما حتى لا يمل القارئ من القصة التي بدأت بمعاناة جوانا في مزرعة التبغ و \"تعذيبها\" من قبل لرب عملها الدنئ الذي لم يعفها من نظراته المشبعة بالرغبة. تلك التظرات التي استسلمت لها جوانا وقت الحاجة من اجل عائلتها التي نستها حالما وصلت الى عملها الجديد في الكويت. على الرغم من صغر سنها حيث يبدو انها في نهاية سنوات المراهقة و مقبلة على العشرون، الا انني شعرت بأن سنها لا يتوافق مع الوصف الذي اعطى اليها فكانت انضج مرات و احياناً اقل نضج. لا ادري،   \n",
       "63025  ليست الحرفية أبرز مقومات الأسلوب في هذه الرواية. كنت أتوقع رواية توثيقية فذة فيها ما هو أعمق مما قدمته الحبكة الهوليوودية للقصة. نشر الكتاب في عام 2007 ولعل هذا ما جعلني أصدم حينما وصلت إلى فقرة \"غزو العراق للكويت\". كان علي أن أتوقع ذلك، فكثير من الدلالات تشير إلى أن الأحداث لا تجري في الزمن الحاضر: أشرطة الكاسيت، والمسجلات والتمحور حول التلفاز كوسيلة تسلية بدل الحاسوب، وانعدام الإشارة إلى الهاتف المحمول. كلها من علامات فترة سابقة. ولذلك فإنني لا أدري، هل يمكن إسقاط ما قرأته على الوضع الحالي؟ هل الحياة -بالنسبة للخدم وبالنسبة لمستخدميهم- بشعة إلى هذا الحد؟ هل الفليبينيون المبتسمون المهذبون الذين ألتقي بهم في المطاعم والمتاجر، أتوا من بيئة قاسية كتلك التي أتت منها بطلة القصة؟ كيف يعيش البشر بعيداً عن ذويهم دون حياة اجتماعية ودون عائلة لسنوات؟ لا أعتقد أن الرواية بتعاملها السطحي مع المشاعر، وبالحوار غير الواقعي فيها، وباختيارها لظروف غير عادية كإطار لأحداثها قد أفلحت في الإجابة عن كثير من الأسئلة التي تراودني حينما أرى الابتسامة المهذبة لعامل في الخليج ولا أملك إلا أن أتساءل: هل وراء هذه   \n",
       "63026  رواية مؤثرة في حديثها عن تجربة العاملات في الخليج من الناحية الإنسانية مشاعرهم فقرهم الذي يدفع بأغلبهن للخطأ مكرهات السعي وراء لقمة العيش الذي يقفذف بهن في مكان بعيد حيث لاسند ولا أهل ولا أقرباء إستغلالهن وإستغلال حاجتهن , لكن ما يعيب الرواية إسترسال الكاتب في وصف مشاهد وإحجامه عن التحدث عن مشاهد أخرى مهمة في القصة شعرت خلال مجريات الرواية أنها في كل فصل تزيد سرعة تتابع الأحداث لدرجو أن النهاية جائت سريعة أحداثها مقتضبة وحتى في عقد الرواية ومنعطافاتها المهمة المؤثرة ع الأحداث جائت أحياناً بشكل غير مقنع أو مختصر لكن إجمالاً الرواية جميلة                                                                                                                                                                                                                                                                                                                                                                                                                                                                             \n",
       "63044  عندما تقلب فى اوراق هاملت شكسبير تطوف حولك عشرات الاشباح الى جانب شبح والد هاملت بزيه الحربى مشيرا الى ابنه ان يتبعه ترى شبح يوسف شاهين راميا كرسى على الجمهور هاتفا \"الانتقااااام\" يليه صرخته الشهيره قفشتهااا حتى شبح شخصية سميحة ايوب فى \"سكة السلامة\" شارحا كيف ان رواية هاملت روايه تربويه من الطراز الاول لان والدته قد \"هاملت\" فى تربيه ابنها فجن شبح ذلك القارئ الصغير او حديث العهد بالقراءة يقرأ و يحملق فى جمل هاملت ليصل الى السطر الذى يشدو فيه \"اكون او لا اكون.تلك هى المعضلة\" فتنفرج اساريره محدثا ذاته بانه قد اصبح مثقف يقرأ الكلاسيكيات شبح قلق المثقفين و القراء-العرب- و بحثهم الدائم عن افضل ترجمة لهاملت هل هو المترجم الفلانى ام دار النشر تلك التى تتفاخر على غلاف كتابها انها الترجمة الافضل على الاطلاق شبح كل من حاول ان يترجم هاملت من لغته الى اللغات الاخرى.كيف يحول هذا السطر البديع الى لغه اخرى دون ان يفقده الحماسة او الاندفاع .دون ان يفقده الوزن و القافيه احيانا.كيف يوصل للقارئ تلاعب شكسبير المعتاد بالالفاظ شبح كل ممثل شاب او طالب المعهد الذى سهر الليالى يقف امام مرآيا حجرته يمثل صرخات ها   \n",
       "63046  سـأدون قرائتي لهاملت . وَمُلخصي القصير . في عالم حقيقي . إلا من شبح . نتشبع بروآئح المكان . ونبحر بين أمواج الزمان . فما أشبه الماضي بالحاضر . وما أشبه الحاضر بالماضي يبكون . يفرحون . يصعدون . وَ يسقطون . يعيشون . ويموتون . ونحنُ . نحنُ فقط . نكون معهم . ومن نتعايشُ معهم . هُنـا . بين طيات أوراق شكسبير . كانت شبه جزيرة الدانمرك تحت حكم والد هاملت وعمه معا في ظل حاكم مملكة الدانمرك \" روريك \" التي تتكون من شبه الجزيرة ومن منطقة داخلة في أوروبا ،، وكان والد هاملت شجاعا دعا ملك النرويج \" كلوديوس \" إلى منازلة فردية . قتله فيها والد هاملت ،، الأمر الذي حظي بإعجاب ملك الدنمارك روريك ،، فزوجه ابنته فولدت له هاملت . واندلعت الغيرة في قلب أخيه فقتله وتزوج أرملته . كل ما سبق ذكره عرفه هاملت من شبح والده الذي أتاه يطلب منه أن ينتقم من عمه الذي أخذ عرشه وأخذ زوجته . خاف هاملت اليافع ان يناله الأذى فتظاهر بالجنون ، وصار يصطنع الغباء ويلوث نفسه بالتراب وجعل ينحت من الخشب عصيا معقوفه ،، ويحمي أطرافها في النار حتى تكتسب بعض الصلابه فإذا سأله سائل أجاب عنها قائلا إنها الحراب التي سينتقم بها لمقتل والده    \n",
       "\n",
       "      sentiment                                                                                                                                                                                                                                                                                                                                                                                                                                                                                                                                                                                                                                                                                                                                                                                                                                                                                                                                                                                tokens  \\\n",
       "62610  positive  [tensor(18923, device='cuda:0'), tensor(223, device='cuda:0'), tensor(22654, device='cuda:0'), tensor(25405, device='cuda:0'), tensor(12919, device='cuda:0'), tensor(18923, device='cuda:0'), tensor(232, device='cuda:0'), tensor(149, device='cuda:0'), tensor(224, device='cuda:0'), tensor(12919, device='cuda:0'), tensor(26897, device='cuda:0'), tensor(39848, device='cuda:0'), tensor(28981, device='cuda:0'), tensor(2167, device='cuda:0'), tensor(17550, device='cuda:0'), tensor(113, device='cuda:0'), tensor(149, device='cuda:0'), tensor(223, device='cuda:0'), tensor(148, device='cuda:0'), tensor(255, device='cuda:0'), tensor(45632, device='cuda:0'), tensor(764, device='cuda:0'), tensor(22654, device='cuda:0'), tensor(149, device='cuda:0'), tensor(225, device='cuda:0'), tensor(41486, device='cuda:0'), tensor(39848, device='cuda:0'), tensor(17550, device='cuda:0'), tensor(107, device='cuda:0'), tensor(26897, device='cuda:0')]                  \n",
       "62633  positive  [tensor(220, device='cuda:0'), tensor(12919, device='cuda:0'), tensor(149, device='cuda:0'), tensor(224, device='cuda:0'), tensor(41486, device='cuda:0'), tensor(39848, device='cuda:0'), tensor(34247, device='cuda:0'), tensor(111, device='cuda:0'), tensor(34247, device='cuda:0'), tensor(103, device='cuda:0'), tensor(47048, device='cuda:0'), tensor(23338, device='cuda:0'), tensor(28981, device='cuda:0'), tensor(149, device='cuda:0'), tensor(225, device='cuda:0'), tensor(41486, device='cuda:0'), tensor(34247, device='cuda:0'), tensor(101, device='cuda:0'), tensor(25, device='cuda:0'), tensor(28981, device='cuda:0'), tensor(45692, device='cuda:0'), tensor(22654, device='cuda:0'), tensor(149, device='cuda:0'), tensor(239, device='cuda:0'), tensor(34247, device='cuda:0'), tensor(101, device='cuda:0'), tensor(25, device='cuda:0'), tensor(18923, device='cuda:0'), tensor(228, device='cuda:0'), tensor(149, device='cuda:0')]                       \n",
       "62644  positive  [tensor(18923, device='cuda:0'), tensor(225, device='cuda:0'), tensor(148, device='cuda:0'), tensor(104, device='cuda:0'), tensor(22654, device='cuda:0'), tensor(26897, device='cuda:0'), tensor(12919, device='cuda:0'), tensor(149, device='cuda:0'), tensor(233, device='cuda:0'), tensor(47048, device='cuda:0'), tensor(12919, device='cuda:0'), tensor(17550, device='cuda:0'), tensor(103, device='cuda:0'), tensor(149, device='cuda:0'), tensor(225, device='cuda:0'), tensor(30335, device='cuda:0'), tensor(23338, device='cuda:0'), tensor(28981, device='cuda:0'), tensor(149, device='cuda:0'), tensor(224, device='cuda:0'), tensor(148, device='cuda:0'), tensor(113, device='cuda:0'), tensor(22654, device='cuda:0'), tensor(38843, device='cuda:0'), tensor(45632, device='cuda:0'), tensor(28981, device='cuda:0'), tensor(148, device='cuda:0'), tensor(106, device='cuda:0'), tensor(23525, device='cuda:0'), tensor(38843, device='cuda:0')]                   \n",
       "62645  positive  [tensor(17550, device='cuda:0'), tensor(118, device='cuda:0'), tensor(34247, device='cuda:0'), tensor(110, device='cuda:0'), tensor(22654, device='cuda:0'), tensor(28981, device='cuda:0'), tensor(149, device='cuda:0'), tensor(224, device='cuda:0'), tensor(148, device='cuda:0'), tensor(113, device='cuda:0'), tensor(22654, device='cuda:0'), tensor(39848, device='cuda:0'), tensor(22654, device='cuda:0'), tensor(366, device='cuda:0'), tensor(17550, device='cuda:0'), tensor(109, device='cuda:0'), tensor(148, device='cuda:0'), tensor(255, device='cuda:0'), tensor(25405, device='cuda:0'), tensor(45632, device='cuda:0'), tensor(28981, device='cuda:0'), tensor(13862, device='cuda:0'), tensor(29519, device='cuda:0'), tensor(17550, device='cuda:0'), tensor(117, device='cuda:0'), tensor(13862, device='cuda:0'), tensor(22654, device='cuda:0'), tensor(29519, device='cuda:0'), tensor(366, device='cuda:0'), tensor(220, device='cuda:0')]                 \n",
       "62665  positive  [tensor(18923, device='cuda:0'), tensor(225, device='cuda:0'), tensor(41486, device='cuda:0'), tensor(34247, device='cuda:0'), tensor(101, device='cuda:0'), tensor(17550, device='cuda:0'), tensor(112, device='cuda:0'), tensor(26897, device='cuda:0'), tensor(148, device='cuda:0'), tensor(255, device='cuda:0'), tensor(28981, device='cuda:0'), tensor(25405, device='cuda:0'), tensor(44690, device='cuda:0'), tensor(13862, device='cuda:0'), tensor(149, device='cuda:0'), tensor(224, device='cuda:0'), tensor(34247, device='cuda:0'), tensor(103, device='cuda:0'), tensor(28981, device='cuda:0'), tensor(45692, device='cuda:0'), tensor(39848, device='cuda:0'), tensor(44690, device='cuda:0'), tensor(18923, device='cuda:0'), tensor(229, device='cuda:0'), tensor(30335, device='cuda:0'), tensor(17550, device='cuda:0'), tensor(96, device='cuda:0'), tensor(149, device='cuda:0'), tensor(225, device='cuda:0'), tensor(148, device='cuda:0')]                  \n",
       "62666  positive  [tensor(18923, device='cuda:0'), tensor(225, device='cuda:0'), tensor(12919, device='cuda:0'), tensor(23338, device='cuda:0'), tensor(28981, device='cuda:0'), tensor(149, device='cuda:0'), tensor(225, device='cuda:0'), tensor(41486, device='cuda:0'), tensor(34247, device='cuda:0'), tensor(101, device='cuda:0'), tensor(18923, device='cuda:0'), tensor(229, device='cuda:0'), tensor(38843, device='cuda:0'), tensor(22654, device='cuda:0'), tensor(45632, device='cuda:0'), tensor(17550, device='cuda:0'), tensor(96, device='cuda:0'), tensor(39848, device='cuda:0'), tensor(22654, device='cuda:0'), tensor(17550, device='cuda:0'), tensor(117, device='cuda:0'), tensor(34247, device='cuda:0'), tensor(99, device='cuda:0'), tensor(38843, device='cuda:0'), tensor(149, device='cuda:0'), tensor(233, device='cuda:0'), tensor(148, device='cuda:0'), tensor(96, device='cuda:0'), tensor(220, device='cuda:0'), tensor(13862, device='cuda:0')]                    \n",
       "62674  positive  [tensor(17550, device='cuda:0'), tensor(96, device='cuda:0'), tensor(148, device='cuda:0'), tensor(255, device='cuda:0'), tensor(39848, device='cuda:0'), tensor(41486, device='cuda:0'), tensor(17550, device='cuda:0'), tensor(111, device='cuda:0'), tensor(23525, device='cuda:0'), tensor(25405, device='cuda:0'), tensor(45632, device='cuda:0'), tensor(17550, device='cuda:0'), tensor(101, device='cuda:0'), tensor(23338, device='cuda:0'), tensor(41486, device='cuda:0'), tensor(28981, device='cuda:0'), tensor(45692, device='cuda:0'), tensor(13862, device='cuda:0'), tensor(148, device='cuda:0'), tensor(115, device='cuda:0'), tensor(12919, device='cuda:0'), tensor(23338, device='cuda:0'), tensor(17550, device='cuda:0'), tensor(111, device='cuda:0'), tensor(44690, device='cuda:0'), tensor(22654, device='cuda:0'), tensor(38843, device='cuda:0'), tensor(148, device='cuda:0'), tensor(234, device='cuda:0'), tensor(17550, device='cuda:0')]            \n",
       "62676  positive  [tensor(17550, device='cuda:0'), tensor(101, device='cuda:0'), tensor(26897, device='cuda:0'), tensor(148, device='cuda:0'), tensor(118, device='cuda:0'), tensor(25405, device='cuda:0'), tensor(220, device='cuda:0'), tensor(34247, device='cuda:0'), tensor(255, device='cuda:0'), tensor(41486, device='cuda:0'), tensor(149, device='cuda:0'), tensor(224, device='cuda:0'), tensor(12919, device='cuda:0'), tensor(26897, device='cuda:0'), tensor(22654, device='cuda:0'), tensor(28981, device='cuda:0'), tensor(148, device='cuda:0'), tensor(112, device='cuda:0'), tensor(148, device='cuda:0'), tensor(106, device='cuda:0'), tensor(148, device='cuda:0'), tensor(113, device='cuda:0'), tensor(22654, device='cuda:0'), tensor(220, device='cuda:0'), tensor(13862, device='cuda:0'), tensor(41486, device='cuda:0'), tensor(13862, device='cuda:0'), tensor(149, device='cuda:0'), tensor(225, device='cuda:0'), tensor(28981, device='cuda:0')]                       \n",
       "62691  negative  [tensor(47048, device='cuda:0'), tensor(149, device='cuda:0'), tensor(224, device='cuda:0'), tensor(41486, device='cuda:0'), tensor(148, device='cuda:0'), tensor(115, device='cuda:0'), tensor(149, device='cuda:0'), tensor(223, device='cuda:0'), tensor(34247, device='cuda:0'), tensor(103, device='cuda:0'), tensor(47048, device='cuda:0'), tensor(23338, device='cuda:0'), tensor(18923, device='cuda:0'), tensor(225, device='cuda:0'), tensor(41486, device='cuda:0'), tensor(34247, device='cuda:0'), tensor(101, device='cuda:0'), tensor(18923, device='cuda:0'), tensor(224, device='cuda:0'), tensor(23525, device='cuda:0'), tensor(30335, device='cuda:0'), tensor(12919, device='cuda:0'), tensor(220, device='cuda:0'), tensor(13862, device='cuda:0'), tensor(13862, device='cuda:0'), tensor(149, device='cuda:0'), tensor(225, device='cuda:0'), tensor(34247, device='cuda:0'), tensor(103, device='cuda:0'), tensor(39848, device='cuda:0')]                   \n",
       "62693  negative  [tensor(47048, device='cuda:0'), tensor(149, device='cuda:0'), tensor(224, device='cuda:0'), tensor(30335, device='cuda:0'), tensor(13862, device='cuda:0'), tensor(34247, device='cuda:0'), tensor(103, device='cuda:0'), tensor(47048, device='cuda:0'), tensor(148, device='cuda:0'), tensor(106, device='cuda:0'), tensor(41486, device='cuda:0'), tensor(13862, device='cuda:0'), tensor(149, device='cuda:0'), tensor(223, device='cuda:0'), tensor(45632, device='cuda:0'), tensor(47048, device='cuda:0'), tensor(41486, device='cuda:0'), tensor(23338, device='cuda:0'), tensor(30335, device='cuda:0'), tensor(44690, device='cuda:0'), tensor(45632, device='cuda:0'), tensor(764, device='cuda:0'), tensor(47048, device='cuda:0'), tensor(41486, device='cuda:0'), tensor(23338, device='cuda:0'), tensor(12919, device='cuda:0'), tensor(149, device='cuda:0'), tensor(224, device='cuda:0'), tensor(148, device='cuda:0'), tensor(114, device='cuda:0')]               \n",
       "62695  positive  [tensor(28981, device='cuda:0'), tensor(25405, device='cuda:0'), tensor(26897, device='cuda:0'), tensor(148, device='cuda:0'), tensor(96, device='cuda:0'), tensor(45632, device='cuda:0'), tensor(17550, device='cuda:0'), tensor(103, device='cuda:0'), tensor(148, device='cuda:0'), tensor(255, device='cuda:0'), tensor(39848, device='cuda:0'), tensor(28981, device='cuda:0'), tensor(148, device='cuda:0'), tensor(113, device='cuda:0'), tensor(26897, device='cuda:0'), tensor(34247, device='cuda:0'), tensor(255, device='cuda:0'), tensor(45632, device='cuda:0'), tensor(764, device='cuda:0'), tensor(18923, device='cuda:0'), tensor(229, device='cuda:0'), tensor(148, device='cuda:0'), tensor(108, device='cuda:0'), tensor(12919, device='cuda:0'), tensor(17550, device='cuda:0'), tensor(109, device='cuda:0'), tensor(148, device='cuda:0'), tensor(96, device='cuda:0'), tensor(22654, device='cuda:0'), tensor(29519, device='cuda:0')]                       \n",
       "62696  positive  [tensor(18923, device='cuda:0'), tensor(224, device='cuda:0'), tensor(23525, device='cuda:0'), tensor(30335, device='cuda:0'), tensor(12919, device='cuda:0'), tensor(47048, device='cuda:0'), tensor(23338, device='cuda:0'), tensor(220, device='cuda:0'), tensor(34247, device='cuda:0'), tensor(105, device='cuda:0'), tensor(25405, device='cuda:0'), tensor(13862, device='cuda:0'), tensor(47048, device='cuda:0'), tensor(12919, device='cuda:0'), tensor(18923, device='cuda:0'), tensor(224, device='cuda:0'), tensor(26897, device='cuda:0'), tensor(148, device='cuda:0'), tensor(96, device='cuda:0'), tensor(41486, device='cuda:0'), tensor(17550, device='cuda:0'), tensor(117, device='cuda:0'), tensor(23338, device='cuda:0'), tensor(28981, device='cuda:0'), tensor(25405, device='cuda:0'), tensor(26897, device='cuda:0'), tensor(148, device='cuda:0'), tensor(96, device='cuda:0'), tensor(29519, device='cuda:0'), tensor(42092, device='cuda:0')]           \n",
       "62712  positive  [tensor(28981, device='cuda:0'), tensor(149, device='cuda:0'), tensor(225, device='cuda:0'), tensor(13862, device='cuda:0'), tensor(17550, device='cuda:0'), tensor(101, device='cuda:0'), tensor(23525, device='cuda:0'), tensor(148, device='cuda:0'), tensor(115, device='cuda:0'), tensor(39848, device='cuda:0'), tensor(44690, device='cuda:0'), tensor(18923, device='cuda:0'), tensor(232, device='cuda:0'), tensor(44690, device='cuda:0'), tensor(13862, device='cuda:0'), tensor(25405, device='cuda:0'), tensor(17550, device='cuda:0'), tensor(117, device='cuda:0'), tensor(23338, device='cuda:0'), tensor(366, device='cuda:0'), tensor(17550, device='cuda:0'), tensor(107, device='cuda:0'), tensor(149, device='cuda:0'), tensor(225, device='cuda:0'), tensor(41486, device='cuda:0'), tensor(30335, device='cuda:0'), tensor(26897, device='cuda:0'), tensor(17550, device='cuda:0'), tensor(105, device='cuda:0'), tensor(22654, device='cuda:0')]               \n",
       "62716  positive  [tensor(17550, device='cuda:0'), tensor(96, device='cuda:0'), tensor(13862, device='cuda:0'), tensor(149, device='cuda:0'), tensor(239, device='cuda:0'), tensor(149, device='cuda:0'), tensor(223, device='cuda:0'), tensor(366, device='cuda:0'), tensor(17550, device='cuda:0'), tensor(109, device='cuda:0'), tensor(30335, device='cuda:0'), tensor(39848, device='cuda:0'), tensor(26897, device='cuda:0'), tensor(41486, device='cuda:0'), tensor(220, device='cuda:0'), tensor(13862, device='cuda:0'), tensor(30335, device='cuda:0'), tensor(22654, device='cuda:0'), tensor(45692, device='cuda:0'), tensor(17550, device='cuda:0'), tensor(111, device='cuda:0'), tensor(41486, device='cuda:0'), tensor(22654, device='cuda:0'), tensor(149, device='cuda:0'), tensor(223, device='cuda:0'), tensor(23338, device='cuda:0'), tensor(45692, device='cuda:0'), tensor(30335, device='cuda:0'), tensor(23338, device='cuda:0'), tensor(1, device='cuda:0')]                  \n",
       "62717  positive  [tensor(17550, device='cuda:0'), tensor(103, device='cuda:0'), tensor(149, device='cuda:0'), tensor(224, device='cuda:0'), tensor(26897, device='cuda:0'), tensor(22654, device='cuda:0'), tensor(39848, device='cuda:0'), tensor(12919, device='cuda:0'), tensor(47048, device='cuda:0'), tensor(23338, device='cuda:0'), tensor(220, device='cuda:0'), tensor(12919, device='cuda:0'), tensor(30335, device='cuda:0'), tensor(34247, device='cuda:0'), tensor(99, device='cuda:0'), tensor(13862, device='cuda:0'), tensor(28981, device='cuda:0'), tensor(148, device='cuda:0'), tensor(255, device='cuda:0'), tensor(34247, device='cuda:0'), tensor(105, device='cuda:0'), tensor(41486, device='cuda:0'), tensor(28981, device='cuda:0'), tensor(13862, device='cuda:0'), tensor(149, device='cuda:0'), tensor(231, device='cuda:0'), tensor(18923, device='cuda:0'), tensor(224, device='cuda:0'), tensor(26897, device='cuda:0'), tensor(41486, device='cuda:0')]              \n",
       "62726  positive  [tensor(28981, device='cuda:0'), tensor(38843, device='cuda:0'), tensor(149, device='cuda:0'), tensor(225, device='cuda:0'), tensor(41486, device='cuda:0'), tensor(30335, device='cuda:0'), tensor(26897, device='cuda:0'), tensor(17550, device='cuda:0'), tensor(105, device='cuda:0'), tensor(22654, device='cuda:0'), tensor(149, device='cuda:0'), tensor(225, device='cuda:0'), tensor(13862, device='cuda:0'), tensor(42092, device='cuda:0'), tensor(25405, device='cuda:0'), tensor(45692, device='cuda:0'), tensor(41486, device='cuda:0'), tensor(26897, device='cuda:0'), tensor(18923, device='cuda:0'), tensor(229, device='cuda:0'), tensor(12919, device='cuda:0'), tensor(22654, device='cuda:0'), tensor(38843, device='cuda:0'), tensor(17550, device='cuda:0'), tensor(109, device='cuda:0'), tensor(30335, device='cuda:0'), tensor(12919, device='cuda:0'), tensor(22654, device='cuda:0'), tensor(45632, device='cuda:0'), tensor(18923, device='cuda:0')]     \n",
       "62765  positive  [tensor(18923, device='cuda:0'), tensor(224, device='cuda:0'), tensor(148, device='cuda:0'), tensor(113, device='cuda:0'), tensor(22654, device='cuda:0'), tensor(26897, device='cuda:0'), tensor(45632, device='cuda:0'), tensor(18923, device='cuda:0'), tensor(229, device='cuda:0'), tensor(22654, device='cuda:0'), tensor(18923, device='cuda:0'), tensor(229, device='cuda:0'), tensor(148, device='cuda:0'), tensor(108, device='cuda:0'), tensor(29519, device='cuda:0'), tensor(28981, device='cuda:0'), tensor(149, device='cuda:0'), tensor(224, device='cuda:0'), tensor(148, device='cuda:0'), tensor(113, device='cuda:0'), tensor(45632, device='cuda:0'), tensor(42092, device='cuda:0'), tensor(47048, device='cuda:0'), tensor(41486, device='cuda:0'), tensor(25405, device='cuda:0'), tensor(34247, device='cuda:0'), tensor(111, device='cuda:0'), tensor(149, device='cuda:0'), tensor(225, device='cuda:0'), tensor(45632, device='cuda:0')]                   \n",
       "62781  positive  [tensor(532, device='cuda:0'), tensor(148, device='cuda:0'), tensor(108, device='cuda:0'), tensor(149, device='cuda:0'), tensor(225, device='cuda:0'), tensor(26897, device='cuda:0'), tensor(22654, device='cuda:0'), tensor(47048, device='cuda:0'), tensor(30335, device='cuda:0'), tensor(149, device='cuda:0'), tensor(224, device='cuda:0'), tensor(44690, device='cuda:0'), tensor(45632, device='cuda:0'), tensor(17550, device='cuda:0'), tensor(96, device='cuda:0'), tensor(13862, device='cuda:0'), tensor(30335, device='cuda:0'), tensor(12919, device='cuda:0'), tensor(23338, device='cuda:0'), tensor(17550, device='cuda:0'), tensor(95, device='cuda:0'), tensor(148, device='cuda:0'), tensor(106, device='cuda:0'), tensor(26897, device='cuda:0'), tensor(22654, device='cuda:0'), tensor(5145, device='cuda:0'), tensor(17550, device='cuda:0'), tensor(98, device='cuda:0'), tensor(22654, device='cuda:0'), tensor(25405, device='cuda:0')]                   \n",
       "62782  positive  [tensor(17550, device='cuda:0'), tensor(101, device='cuda:0'), tensor(44690, device='cuda:0'), tensor(148, device='cuda:0'), tensor(114, device='cuda:0'), tensor(28981, device='cuda:0'), tensor(149, device='cuda:0'), tensor(225, device='cuda:0'), tensor(41486, device='cuda:0'), tensor(39848, device='cuda:0'), tensor(17550, device='cuda:0'), tensor(103, device='cuda:0'), tensor(25405, device='cuda:0'), tensor(41486, device='cuda:0'), tensor(13862, device='cuda:0'), tensor(149, device='cuda:0'), tensor(225, device='cuda:0'), tensor(17550, device='cuda:0'), tensor(106, device='cuda:0'), tensor(34247, device='cuda:0'), tensor(113, device='cuda:0'), tensor(22654, device='cuda:0'), tensor(45632, device='cuda:0'), tensor(28981, device='cuda:0'), tensor(23338, device='cuda:0'), tensor(149, device='cuda:0'), tensor(223, device='cuda:0'), tensor(34247, device='cuda:0'), tensor(108, device='cuda:0'), tensor(148, device='cuda:0')]                   \n",
       "62783  positive  [tensor(18923, device='cuda:0'), tensor(224, device='cuda:0'), tensor(26897, device='cuda:0'), tensor(22654, device='cuda:0'), tensor(39848, device='cuda:0'), tensor(12919, device='cuda:0'), tensor(220, device='cuda:0'), tensor(12919, device='cuda:0'), tensor(23338, device='cuda:0'), tensor(17550, device='cuda:0'), tensor(112, device='cuda:0'), tensor(34247, device='cuda:0'), tensor(94, device='cuda:0'), tensor(28981, device='cuda:0'), tensor(13862, device='cuda:0'), tensor(29519, device='cuda:0'), tensor(764, device='cuda:0'), tensor(1635, device='cuda:0'), tensor(17550, device='cuda:0'), tensor(255, device='cuda:0'), tensor(148, device='cuda:0'), tensor(105, device='cuda:0'), tensor(25405, device='cuda:0'), tensor(29519, device='cuda:0'), tensor(18923, device='cuda:0'), tensor(225, device='cuda:0'), tensor(39848, device='cuda:0'), tensor(22654, device='cuda:0'), tensor(26897, device='cuda:0'), tensor(12919, device='cuda:0')]           \n",
       "62784  positive  [tensor(220, device='cuda:0'), tensor(34247, device='cuda:0'), tensor(111, device='cuda:0'), tensor(41486, device='cuda:0'), tensor(25405, device='cuda:0'), tensor(41486, device='cuda:0'), tensor(44690, device='cuda:0'), tensor(41486, device='cuda:0'), tensor(17550, device='cuda:0'), tensor(105, device='cuda:0'), tensor(38843, device='cuda:0'), tensor(12919, device='cuda:0'), tensor(17550, device='cuda:0'), tensor(105, device='cuda:0'), tensor(38843, device='cuda:0'), tensor(12919, device='cuda:0'), tensor(17550, device='cuda:0'), tensor(101, device='cuda:0'), tensor(23525, device='cuda:0'), tensor(149, device='cuda:0'), tensor(225, device='cuda:0'), tensor(41486, device='cuda:0'), tensor(34247, device='cuda:0'), tensor(101, device='cuda:0'), tensor(764, device='cuda:0'), tensor(17550, device='cuda:0'), tensor(113, device='cuda:0'), tensor(148, device='cuda:0'), tensor(255, device='cuda:0'), tensor(22654, device='cuda:0')]               \n",
       "62785  positive  [tensor(17550, device='cuda:0'), tensor(96, device='cuda:0'), tensor(13862, device='cuda:0'), tensor(30335, device='cuda:0'), tensor(12919, device='cuda:0'), tensor(23338, device='cuda:0'), tensor(17550, device='cuda:0'), tensor(96, device='cuda:0'), tensor(148, device='cuda:0'), tensor(106, device='cuda:0'), tensor(26897, device='cuda:0'), tensor(149, device='cuda:0'), tensor(231, device='cuda:0'), tensor(18923, device='cuda:0'), tensor(232, device='cuda:0'), tensor(25405, device='cuda:0'), tensor(149, device='cuda:0'), tensor(225, device='cuda:0'), tensor(23338, device='cuda:0'), tensor(23338, device='cuda:0'), tensor(12919, device='cuda:0'), tensor(28981, device='cuda:0'), tensor(149, device='cuda:0'), tensor(224, device='cuda:0'), tensor(30335, device='cuda:0'), tensor(13862, device='cuda:0'), tensor(17550, device='cuda:0'), tensor(101, device='cuda:0'), tensor(149, device='cuda:0'), tensor(225, device='cuda:0')]                     \n",
       "62793  positive  [tensor(220, device='cuda:0'), tensor(17550, device='cuda:0'), tensor(96, device='cuda:0'), tensor(149, device='cuda:0'), tensor(224, device='cuda:0'), tensor(30335, device='cuda:0'), tensor(13862, device='cuda:0'), tensor(149, device='cuda:0'), tensor(237, device='cuda:0'), tensor(220, device='cuda:0'), tensor(13862, device='cuda:0'), tensor(29519, device='cuda:0'), tensor(1058, device='cuda:0'), tensor(17550, device='cuda:0'), tensor(96, device='cuda:0'), tensor(148, device='cuda:0'), tensor(113, device='cuda:0'), tensor(39848, device='cuda:0'), tensor(41486, device='cuda:0'), tensor(149, device='cuda:0'), tensor(237, device='cuda:0'), tensor(17550, device='cuda:0'), tensor(101, device='cuda:0'), tensor(23525, device='cuda:0'), tensor(44690, device='cuda:0'), tensor(38843, device='cuda:0'), tensor(30335, device='cuda:0'), tensor(149, device='cuda:0'), tensor(231, device='cuda:0'), tensor(148, device='cuda:0')]                          \n",
       "62794  positive  [tensor(17550, device='cuda:0'), tensor(101, device='cuda:0'), tensor(44690, device='cuda:0'), tensor(38843, device='cuda:0'), tensor(17550, device='cuda:0'), tensor(96, device='cuda:0'), tensor(23338, device='cuda:0'), tensor(17550, device='cuda:0'), tensor(103, device='cuda:0'), tensor(148, device='cuda:0'), tensor(105, device='cuda:0'), tensor(12919, device='cuda:0'), tensor(30335, device='cuda:0'), tensor(148, device='cuda:0'), tensor(110, device='cuda:0'), tensor(41486, device='cuda:0'), tensor(18923, device='cuda:0'), tensor(223, device='cuda:0'), tensor(41486, device='cuda:0'), tensor(26897, device='cuda:0'), tensor(45632, device='cuda:0'), tensor(28981, device='cuda:0'), tensor(30335, device='cuda:0'), tensor(13862, device='cuda:0'), tensor(44690, device='cuda:0'), tensor(17550, device='cuda:0'), tensor(101, device='cuda:0'), tensor(148, device='cuda:0'), tensor(96, device='cuda:0'), tensor(13862, device='cuda:0')]               \n",
       "62798  positive  [tensor(18923, device='cuda:0'), tensor(224, device='cuda:0'), tensor(26897, device='cuda:0'), tensor(148, device='cuda:0'), tensor(96, device='cuda:0'), tensor(41486, device='cuda:0'), tensor(366, device='cuda:0'), tensor(47048, device='cuda:0'), tensor(39848, device='cuda:0'), tensor(45692, device='cuda:0'), tensor(30335, device='cuda:0'), tensor(148, device='cuda:0'), tensor(115, device='cuda:0'), tensor(45632, device='cuda:0'), tensor(18923, device='cuda:0'), tensor(232, device='cuda:0'), tensor(12919, device='cuda:0'), tensor(47048, device='cuda:0'), tensor(148, device='cuda:0'), tensor(113, device='cuda:0'), tensor(26897, device='cuda:0'), tensor(366, device='cuda:0'), tensor(220, device='cuda:0'), tensor(13862, device='cuda:0'), tensor(148, device='cuda:0'), tensor(96, device='cuda:0'), tensor(148, device='cuda:0'), tensor(112, device='cuda:0'), tensor(26897, device='cuda:0'), tensor(149, device='cuda:0')]                         \n",
       "62823  positive  [tensor(28981, device='cuda:0'), tensor(149, device='cuda:0'), tensor(225, device='cuda:0'), tensor(41486, device='cuda:0'), tensor(34247, device='cuda:0'), tensor(101, device='cuda:0'), tensor(17550, device='cuda:0'), tensor(117, device='cuda:0'), tensor(39848, device='cuda:0'), tensor(12919, device='cuda:0'), tensor(26897, device='cuda:0'), tensor(45632, device='cuda:0'), tensor(17550, device='cuda:0'), tensor(117, device='cuda:0'), tensor(23338, device='cuda:0'), tensor(47048, device='cuda:0'), tensor(148, device='cuda:0'), tensor(105, device='cuda:0'), tensor(25405, device='cuda:0'), tensor(30335, device='cuda:0'), tensor(44690, device='cuda:0'), tensor(45632, device='cuda:0'), tensor(17550, device='cuda:0'), tensor(255, device='cuda:0'), tensor(30335, device='cuda:0'), tensor(12919, device='cuda:0'), tensor(26897, device='cuda:0'), tensor(34247, device='cuda:0'), tensor(103, device='cuda:0'), tensor(47048, device='cuda:0')]         \n",
       "62834  positive  [tensor(17550, device='cuda:0'), tensor(255, device='cuda:0'), tensor(39848, device='cuda:0'), tensor(41486, device='cuda:0'), tensor(29519, device='cuda:0'), tensor(12919, device='cuda:0'), tensor(12919, device='cuda:0'), tensor(12919, device='cuda:0'), tensor(12919, device='cuda:0'), tensor(12919, device='cuda:0'), tensor(12919, device='cuda:0'), tensor(220, device='cuda:0'), tensor(12919, device='cuda:0'), tensor(30335, device='cuda:0'), tensor(30335, device='cuda:0'), tensor(30335, device='cuda:0'), tensor(30335, device='cuda:0'), tensor(30335, device='cuda:0'), tensor(30335, device='cuda:0'), tensor(30335, device='cuda:0'), tensor(30335, device='cuda:0'), tensor(22654, device='cuda:0'), tensor(17550, device='cuda:0'), tensor(101, device='cuda:0'), tensor(148, device='cuda:0'), tensor(105, device='cuda:0'), tensor(38843, device='cuda:0'), tensor(17550, device='cuda:0'), tensor(109, device='cuda:0'), tensor(34247, device='cuda:0')]   \n",
       "62835  negative  [tensor(17550, device='cuda:0'), tensor(101, device='cuda:0'), tensor(38843, device='cuda:0'), tensor(148, device='cuda:0'), tensor(96, device='cuda:0'), tensor(41486, device='cuda:0'), tensor(28981, device='cuda:0'), tensor(149, device='cuda:0'), tensor(224, device='cuda:0'), tensor(26897, device='cuda:0'), tensor(34247, device='cuda:0'), tensor(94, device='cuda:0'), tensor(45632, device='cuda:0'), tensor(42092, device='cuda:0'), tensor(148, device='cuda:0'), tensor(96, device='cuda:0'), tensor(23338, device='cuda:0'), tensor(12919, device='cuda:0'), tensor(17550, device='cuda:0'), tensor(96, device='cuda:0'), tensor(41486, device='cuda:0'), tensor(30335, device='cuda:0'), tensor(149, device='cuda:0'), tensor(224, device='cuda:0'), tensor(44690, device='cuda:0'), tensor(47048, device='cuda:0'), tensor(23338, device='cuda:0'), tensor(17550, device='cuda:0'), tensor(103, device='cuda:0'), tensor(30335, device='cuda:0')]                   \n",
       "62840  positive  [tensor(28981, device='cuda:0'), tensor(149, device='cuda:0'), tensor(225, device='cuda:0'), tensor(41486, device='cuda:0'), tensor(24333, device='cuda:0'), tensor(34247, device='cuda:0'), tensor(101, device='cuda:0'), tensor(7904, device='cuda:0'), tensor(17550, device='cuda:0'), tensor(117, device='cuda:0'), tensor(38843, device='cuda:0'), tensor(149, device='cuda:0'), tensor(239, device='cuda:0'), tensor(45632, device='cuda:0'), tensor(28981, device='cuda:0'), tensor(148, device='cuda:0'), tensor(113, device='cuda:0'), tensor(34247, device='cuda:0'), tensor(101, device='cuda:0'), tensor(26897, device='cuda:0'), tensor(22654, device='cuda:0'), tensor(23338, device='cuda:0'), tensor(42092, device='cuda:0'), tensor(24333, device='cuda:0'), tensor(17550, device='cuda:0'), tensor(108, device='cuda:0'), tensor(148, device='cuda:0'), tensor(106, device='cuda:0'), tensor(22654, device='cuda:0'), tensor(26897, device='cuda:0')]                \n",
       "62841  positive  [tensor(220, device='cuda:0'), tensor(13862, device='cuda:0'), tensor(12919, device='cuda:0'), tensor(18923, device='cuda:0'), tensor(232, device='cuda:0'), tensor(148, device='cuda:0'), tensor(106, device='cuda:0'), tensor(149, device='cuda:0'), tensor(223, device='cuda:0'), tensor(149, device='cuda:0'), tensor(231, device='cuda:0'), tensor(17550, device='cuda:0'), tensor(117, device='cuda:0'), tensor(13862, device='cuda:0'), tensor(149, device='cuda:0'), tensor(231, device='cuda:0'), tensor(17550, device='cuda:0'), tensor(96, device='cuda:0'), tensor(148, device='cuda:0'), tensor(255, device='cuda:0'), tensor(38843, device='cuda:0'), tensor(17550, device='cuda:0'), tensor(105, device='cuda:0'), tensor(25405, device='cuda:0'), tensor(23525, device='cuda:0'), tensor(28981, device='cuda:0'), tensor(148, device='cuda:0'), tensor(255, device='cuda:0'), tensor(38843, device='cuda:0'), tensor(22654, device='cuda:0')]                          \n",
       "62842  positive  [tensor(220, device='cuda:0'), tensor(13862, device='cuda:0'), tensor(12919, device='cuda:0'), tensor(18923, device='cuda:0'), tensor(232, device='cuda:0'), tensor(25405, device='cuda:0'), tensor(149, device='cuda:0'), tensor(225, device='cuda:0'), tensor(23338, device='cuda:0'), tensor(17550, device='cuda:0'), tensor(96, device='cuda:0'), tensor(23338, device='cuda:0'), tensor(18923, device='cuda:0'), tensor(232, device='cuda:0'), tensor(148, device='cuda:0'), tensor(106, device='cuda:0'), tensor(41486, device='cuda:0'), tensor(13862, device='cuda:0'), tensor(149, device='cuda:0'), tensor(223, device='cuda:0'), tensor(220, device='cuda:0'), tensor(34247, device='cuda:0'), tensor(104, device='cuda:0'), tensor(23338, device='cuda:0'), tensor(12919, device='cuda:0'), tensor(23338, device='cuda:0'), tensor(17550, device='cuda:0'), tensor(117, device='cuda:0'), tensor(13862, device='cuda:0'), tensor(149, device='cuda:0')]                    \n",
       "62858  positive  [tensor(42092, device='cuda:0'), tensor(13862, device='cuda:0'), tensor(12919, device='cuda:0'), tensor(25, device='cuda:0'), tensor(220, device='cuda:0'), tensor(13862, device='cuda:0'), tensor(25405, device='cuda:0'), tensor(220, device='cuda:0'), tensor(34247, device='cuda:0'), tensor(103, device='cuda:0'), tensor(44690, device='cuda:0'), tensor(25405, device='cuda:0'), tensor(149, device='cuda:0'), tensor(224, device='cuda:0'), tensor(18923, device='cuda:0'), tensor(225, device='cuda:0'), tensor(148, device='cuda:0'), tensor(104, device='cuda:0'), tensor(22654, device='cuda:0'), tensor(26897, device='cuda:0'), tensor(12919, device='cuda:0'), tensor(18923, device='cuda:0'), tensor(223, device='cuda:0'), tensor(149, device='cuda:0'), tensor(231, device='cuda:0'), tensor(18923, device='cuda:0'), tensor(225, device='cuda:0'), tensor(41486, device='cuda:0'), tensor(39848, device='cuda:0'), tensor(366, device='cuda:0')]                    \n",
       "62859  negative  [tensor(18923, device='cuda:0'), tensor(223, device='cuda:0'), tensor(149, device='cuda:0'), tensor(231, device='cuda:0'), tensor(28981, device='cuda:0'), tensor(148, device='cuda:0'), tensor(255, device='cuda:0'), tensor(149, device='cuda:0'), tensor(224, device='cuda:0'), tensor(22654, device='cuda:0'), tensor(149, device='cuda:0'), tensor(224, device='cuda:0'), tensor(45632, device='cuda:0'), tensor(17550, device='cuda:0'), tensor(105, device='cuda:0'), tensor(148, device='cuda:0'), tensor(108, device='cuda:0'), tensor(39848, device='cuda:0'), tensor(23338, device='cuda:0'), tensor(149, device='cuda:0'), tensor(231, device='cuda:0'), tensor(17550, device='cuda:0'), tensor(105, device='cuda:0'), tensor(38843, device='cuda:0'), tensor(12919, device='cuda:0'), tensor(220, device='cuda:0'), tensor(34247, device='cuda:0'), tensor(111, device='cuda:0'), tensor(25405, device='cuda:0'), tensor(28981, device='cuda:0')]                         \n",
       "62860  positive  [tensor(28981, device='cuda:0'), tensor(149, device='cuda:0'), tensor(225, device='cuda:0'), tensor(41486, device='cuda:0'), tensor(34247, device='cuda:0'), tensor(101, device='cuda:0'), tensor(17550, device='cuda:0'), tensor(101, device='cuda:0'), tensor(25405, device='cuda:0'), tensor(23338, device='cuda:0'), tensor(41486, device='cuda:0'), tensor(29519, device='cuda:0'), tensor(149, device='cuda:0'), tensor(231, device='cuda:0'), tensor(28981, device='cuda:0'), tensor(39848, device='cuda:0'), tensor(45692, device='cuda:0'), tensor(34247, device='cuda:0'), tensor(115, device='cuda:0'), tensor(45632, device='cuda:0'), tensor(18923, device='cuda:0'), tensor(229, device='cuda:0'), tensor(30335, device='cuda:0'), tensor(17550, device='cuda:0'), tensor(106, device='cuda:0'), tensor(13862, device='cuda:0'), tensor(34247, device='cuda:0'), tensor(113, device='cuda:0'), tensor(45632, device='cuda:0'), tensor(42092, device='cuda:0')]           \n",
       "62861  negative  [tensor(17550, device='cuda:0'), tensor(101, device='cuda:0'), tensor(23525, device='cuda:0'), tensor(23338, device='cuda:0'), tensor(45692, device='cuda:0'), tensor(39848, device='cuda:0'), tensor(45632, device='cuda:0'), tensor(220, device='cuda:0'), tensor(13862, device='cuda:0'), tensor(149, device='cuda:0'), tensor(231, device='cuda:0'), tensor(18923, device='cuda:0'), tensor(225, device='cuda:0'), tensor(12919, device='cuda:0'), tensor(23338, device='cuda:0'), tensor(18923, device='cuda:0'), tensor(225, device='cuda:0'), tensor(41486, device='cuda:0'), tensor(34247, device='cuda:0'), tensor(101, device='cuda:0'), tensor(18923, device='cuda:0'), tensor(223, device='cuda:0'), tensor(149, device='cuda:0'), tensor(225, device='cuda:0'), tensor(12919, device='cuda:0'), tensor(29519, device='cuda:0'), tensor(149, device='cuda:0'), tensor(231, device='cuda:0'), tensor(47048, device='cuda:0'), tensor(148, device='cuda:0')]                 \n",
       "62864  positive  [tensor(220, device='cuda:0'), tensor(34247, device='cuda:0'), tensor(112, device='cuda:0'), tensor(41486, device='cuda:0'), tensor(149, device='cuda:0'), tensor(224, device='cuda:0'), tensor(41486, device='cuda:0'), tensor(18923, device='cuda:0'), tensor(225, device='cuda:0'), tensor(41486, device='cuda:0'), tensor(22654, device='cuda:0'), tensor(26897, device='cuda:0'), tensor(220, device='cuda:0'), tensor(12919, device='cuda:0'), tensor(23338, device='cuda:0'), tensor(22654, device='cuda:0'), tensor(220, device='cuda:0'), tensor(12919, device='cuda:0'), tensor(149, device='cuda:0'), tensor(225, device='cuda:0'), tensor(41486, device='cuda:0'), tensor(39848, device='cuda:0'), tensor(17550, device='cuda:0'), tensor(109, device='cuda:0'), tensor(12919, device='cuda:0'), tensor(22654, device='cuda:0'), tensor(18923, device='cuda:0'), tensor(223, device='cuda:0'), tensor(22654, device='cuda:0'), tensor(18923, device='cuda:0')]             \n",
       "62865  negative  [tensor(220, device='cuda:0'), tensor(13862, device='cuda:0'), tensor(22654, device='cuda:0'), tensor(45692, device='cuda:0'), tensor(28981, device='cuda:0'), tensor(12919, device='cuda:0'), tensor(47048, device='cuda:0'), tensor(148, device='cuda:0'), tensor(105, device='cuda:0'), tensor(30335, device='cuda:0'), tensor(25405, device='cuda:0'), tensor(30335, device='cuda:0'), tensor(44690, device='cuda:0'), tensor(45632, device='cuda:0'), tensor(47048, device='cuda:0'), tensor(23338, device='cuda:0'), tensor(17550, device='cuda:0'), tensor(103, device='cuda:0'), tensor(148, device='cuda:0'), tensor(105, device='cuda:0'), tensor(12919, device='cuda:0'), tensor(26897, device='cuda:0'), tensor(39848, device='cuda:0'), tensor(28981, device='cuda:0'), tensor(45692, device='cuda:0'), tensor(34247, device='cuda:0'), tensor(101, device='cuda:0'), tensor(149, device='cuda:0'), tensor(224, device='cuda:0'), tensor(22654, device='cuda:0')]         \n",
       "62871  positive  [tensor(17550, device='cuda:0'), tensor(117, device='cuda:0'), tensor(13862, device='cuda:0'), tensor(149, device='cuda:0'), tensor(231, device='cuda:0'), tensor(28981, device='cuda:0'), tensor(29519, device='cuda:0'), tensor(12919, device='cuda:0'), tensor(25405, device='cuda:0'), tensor(148, device='cuda:0'), tensor(112, device='cuda:0'), tensor(1058, device='cuda:0'), tensor(28981, device='cuda:0'), tensor(149, device='cuda:0'), tensor(225, device='cuda:0'), tensor(41486, device='cuda:0'), tensor(39848, device='cuda:0'), tensor(47048, device='cuda:0'), tensor(149, device='cuda:0'), tensor(223, device='cuda:0'), tensor(22654, device='cuda:0'), tensor(38843, device='cuda:0'), tensor(17550, device='cuda:0'), tensor(105, device='cuda:0'), tensor(38843, device='cuda:0'), tensor(12919, device='cuda:0'), tensor(220, device='cuda:0'), tensor(13862, device='cuda:0'), tensor(12919, device='cuda:0'), tensor(23338, device='cuda:0')]              \n",
       "62876  positive  [tensor(47048, device='cuda:0'), tensor(23338, device='cuda:0'), tensor(220, device='cuda:0'), tensor(34247, device='cuda:0'), tensor(255, device='cuda:0'), tensor(45692, device='cuda:0'), tensor(23338, device='cuda:0'), tensor(47048, device='cuda:0'), tensor(12919, device='cuda:0'), tensor(18923, device='cuda:0'), tensor(224, device='cuda:0'), tensor(26897, device='cuda:0'), tensor(34247, device='cuda:0'), tensor(103, device='cuda:0'), tensor(220, device='cuda:0'), tensor(13862, device='cuda:0'), tensor(25405, device='cuda:0'), tensor(148, device='cuda:0'), tensor(113, device='cuda:0'), tensor(148, device='cuda:0'), tensor(115, device='cuda:0'), tensor(149, device='cuda:0'), tensor(223, device='cuda:0'), tensor(149, device='cuda:0'), tensor(231, device='cuda:0'), tensor(47048, device='cuda:0'), tensor(148, device='cuda:0'), tensor(255, device='cuda:0'), tensor(25405, device='cuda:0'), tensor(30335, device='cuda:0')]                     \n",
       "62877  negative  [tensor(18923, device='cuda:0'), tensor(223, device='cuda:0'), tensor(149, device='cuda:0'), tensor(224, device='cuda:0'), tensor(148, device='cuda:0'), tensor(115, device='cuda:0'), tensor(28981, device='cuda:0'), tensor(25405, device='cuda:0'), tensor(149, device='cuda:0'), tensor(224, device='cuda:0'), tensor(38843, device='cuda:0'), tensor(25405, device='cuda:0'), tensor(45632, device='cuda:0'), tensor(18923, device='cuda:0'), tensor(229, device='cuda:0'), tensor(22654, device='cuda:0'), tensor(47048, device='cuda:0'), tensor(12919, device='cuda:0'), tensor(17550, device='cuda:0'), tensor(96, device='cuda:0'), tensor(148, device='cuda:0'), tensor(104, device='cuda:0'), tensor(12919, device='cuda:0'), tensor(26897, device='cuda:0'), tensor(41486, device='cuda:0'), tensor(220, device='cuda:0'), tensor(34247, device='cuda:0'), tensor(117, device='cuda:0'), tensor(148, device='cuda:0'), tensor(105, device='cuda:0')]                      \n",
       "62896  positive  [tensor(18923, device='cuda:0'), tensor(225, device='cuda:0'), tensor(13862, device='cuda:0'), tensor(28981, device='cuda:0'), tensor(13862, device='cuda:0'), tensor(149, device='cuda:0'), tensor(231, device='cuda:0'), tensor(17550, device='cuda:0'), tensor(117, device='cuda:0'), tensor(148, device='cuda:0'), tensor(105, device='cuda:0'), tensor(39848, device='cuda:0'), tensor(23338, device='cuda:0'), tensor(149, device='cuda:0'), tensor(231, device='cuda:0'), tensor(18923, device='cuda:0'), tensor(223, device='cuda:0'), tensor(149, device='cuda:0'), tensor(231, device='cuda:0'), tensor(28981, device='cuda:0'), tensor(149, device='cuda:0'), tensor(225, device='cuda:0'), tensor(41486, device='cuda:0'), tensor(34247, device='cuda:0'), tensor(101, device='cuda:0'), tensor(17550, device='cuda:0'), tensor(101, device='cuda:0'), tensor(12919, device='cuda:0'), tensor(25405, device='cuda:0'), tensor(12919, device='cuda:0')]                     \n",
       "62998  positive  [tensor(28981, device='cuda:0'), tensor(149, device='cuda:0'), tensor(225, device='cuda:0'), tensor(41486, device='cuda:0'), tensor(34247, device='cuda:0'), tensor(101, device='cuda:0'), tensor(18923, device='cuda:0'), tensor(232, device='cuda:0'), tensor(25405, device='cuda:0'), tensor(149, device='cuda:0'), tensor(225, device='cuda:0'), tensor(23338, device='cuda:0'), tensor(17550, device='cuda:0'), tensor(103, device='cuda:0'), tensor(13862, device='cuda:0'), tensor(148, device='cuda:0'), tensor(106, device='cuda:0'), tensor(22654, device='cuda:0'), tensor(148, device='cuda:0'), tensor(113, device='cuda:0'), tensor(29519, device='cuda:0'), tensor(17550, device='cuda:0'), tensor(101, device='cuda:0'), tensor(25405, device='cuda:0'), tensor(12919, device='cuda:0'), tensor(18923, device='cuda:0'), tensor(225, device='cuda:0'), tensor(41486, device='cuda:0'), tensor(39848, device='cuda:0'), tensor(18923, device='cuda:0')]                 \n",
       "63006  positive  [tensor(220, device='cuda:0'), tensor(13862, device='cuda:0'), tensor(12919, device='cuda:0'), tensor(17550, device='cuda:0'), tensor(96, device='cuda:0'), tensor(149, device='cuda:0'), tensor(225, device='cuda:0'), tensor(41486, device='cuda:0'), tensor(39848, device='cuda:0'), tensor(47048, device='cuda:0'), tensor(26897, device='cuda:0'), tensor(34247, device='cuda:0'), tensor(105, device='cuda:0'), tensor(44690, device='cuda:0'), tensor(45632, device='cuda:0'), tensor(220, device='cuda:0'), tensor(13862, device='cuda:0'), tensor(149, device='cuda:0'), tensor(225, device='cuda:0'), tensor(41486, device='cuda:0'), tensor(34247, device='cuda:0'), tensor(101, device='cuda:0'), tensor(13, device='cuda:0'), tensor(30335, device='cuda:0'), tensor(148, device='cuda:0'), tensor(98, device='cuda:0'), tensor(23338, device='cuda:0'), tensor(25405, device='cuda:0'), tensor(12919, device='cuda:0'), tensor(17550, device='cuda:0')]                  \n",
       "63007  positive  [tensor(17550, device='cuda:0'), tensor(101, device='cuda:0'), tensor(38843, device='cuda:0'), tensor(148, device='cuda:0'), tensor(96, device='cuda:0'), tensor(41486, device='cuda:0'), tensor(17550, device='cuda:0'), tensor(101, device='cuda:0'), tensor(44690, device='cuda:0'), tensor(148, device='cuda:0'), tensor(112, device='cuda:0'), tensor(149, device='cuda:0'), tensor(224, device='cuda:0'), tensor(44208, device='cuda:0'), tensor(28981, device='cuda:0'), tensor(148, device='cuda:0'), tensor(96, device='cuda:0'), tensor(26897, device='cuda:0'), tensor(148, device='cuda:0'), tensor(114, device='cuda:0'), tensor(44208, device='cuda:0'), tensor(42092, device='cuda:0'), tensor(30335, device='cuda:0'), tensor(148, device='cuda:0'), tensor(113, device='cuda:0'), tensor(149, device='cuda:0'), tensor(223, device='cuda:0'), tensor(44208, device='cuda:0'), tensor(17550, device='cuda:0'), tensor(103, device='cuda:0')]                           \n",
       "63016  negative  [tensor(17550, device='cuda:0'), tensor(117, device='cuda:0'), tensor(148, device='cuda:0'), tensor(113, device='cuda:0'), tensor(12919, device='cuda:0'), tensor(25405, device='cuda:0'), tensor(47048, device='cuda:0'), tensor(148, device='cuda:0'), tensor(255, device='cuda:0'), tensor(149, device='cuda:0'), tensor(223, device='cuda:0'), tensor(30335, device='cuda:0'), tensor(148, device='cuda:0'), tensor(116, device='cuda:0'), tensor(148, device='cuda:0'), tensor(234, device='cuda:0'), tensor(17550, device='cuda:0'), tensor(117, device='cuda:0'), tensor(23338, device='cuda:0'), tensor(38843, device='cuda:0'), tensor(17550, device='cuda:0'), tensor(103, device='cuda:0'), tensor(149, device='cuda:0'), tensor(225, device='cuda:0'), tensor(13862, device='cuda:0'), tensor(25405, device='cuda:0'), tensor(29519, device='cuda:0'), tensor(17550, device='cuda:0'), tensor(117, device='cuda:0'), tensor(23338, device='cuda:0')]                       \n",
       "63023  negative  [tensor(17550, device='cuda:0'), tensor(101, device='cuda:0'), tensor(38843, device='cuda:0'), tensor(148, device='cuda:0'), tensor(96, device='cuda:0'), tensor(41486, device='cuda:0'), tensor(18923, device='cuda:0'), tensor(224, device='cuda:0'), tensor(26897, device='cuda:0'), tensor(34247, device='cuda:0'), tensor(94, device='cuda:0'), tensor(45632, device='cuda:0'), tensor(18923, device='cuda:0'), tensor(229, device='cuda:0'), tensor(148, device='cuda:0'), tensor(108, device='cuda:0'), tensor(29519, device='cuda:0'), tensor(28981, device='cuda:0'), tensor(26897, device='cuda:0'), tensor(30335, device='cuda:0'), tensor(12919, device='cuda:0'), tensor(22654, device='cuda:0'), tensor(45632, device='cuda:0'), tensor(17550, device='cuda:0'), tensor(107, device='cuda:0'), tensor(30335, device='cuda:0'), tensor(23338, device='cuda:0'), tensor(17550, device='cuda:0'), tensor(103, device='cuda:0'), tensor(30335, device='cuda:0')]             \n",
       "63025  negative  [tensor(220, device='cuda:0'), tensor(13862, device='cuda:0'), tensor(22654, device='cuda:0'), tensor(45692, device='cuda:0'), tensor(41486, device='cuda:0'), tensor(28981, device='cuda:0'), tensor(148, device='cuda:0'), tensor(255, device='cuda:0'), tensor(26897, device='cuda:0'), tensor(149, device='cuda:0'), tensor(223, device='cuda:0'), tensor(22654, device='cuda:0'), tensor(45632, device='cuda:0'), tensor(17550, device='cuda:0'), tensor(96, device='cuda:0'), tensor(39848, device='cuda:0'), tensor(26897, device='cuda:0'), tensor(148, device='cuda:0'), tensor(110, device='cuda:0'), tensor(47048, device='cuda:0'), tensor(149, device='cuda:0'), tensor(224, device='cuda:0'), tensor(30335, device='cuda:0'), tensor(25405, device='cuda:0'), tensor(34247, device='cuda:0'), tensor(103, device='cuda:0'), tensor(28981, device='cuda:0'), tensor(148, device='cuda:0'), tensor(96, device='cuda:0'), tensor(45692, device='cuda:0')]                   \n",
       "63026  negative  [tensor(17550, device='cuda:0'), tensor(109, device='cuda:0'), tensor(30335, device='cuda:0'), tensor(12919, device='cuda:0'), tensor(22654, device='cuda:0'), tensor(45632, device='cuda:0'), tensor(47048, device='cuda:0'), tensor(148, device='cuda:0'), tensor(97, device='cuda:0'), tensor(148, device='cuda:0'), tensor(104, device='cuda:0'), tensor(26897, device='cuda:0'), tensor(45632, device='cuda:0'), tensor(18923, device='cuda:0'), tensor(223, device='cuda:0'), tensor(22654, device='cuda:0'), tensor(17550, device='cuda:0'), tensor(255, device='cuda:0'), tensor(38843, device='cuda:0'), tensor(22654, device='cuda:0'), tensor(148, device='cuda:0'), tensor(104, device='cuda:0'), tensor(29519, device='cuda:0'), tensor(12919, device='cuda:0'), tensor(17550, device='cuda:0'), tensor(117, device='cuda:0'), tensor(23338, device='cuda:0'), tensor(17550, device='cuda:0'), tensor(103, device='cuda:0'), tensor(148, device='cuda:0')]                \n",
       "63044  positive  [tensor(17550, device='cuda:0'), tensor(117, device='cuda:0'), tensor(23338, device='cuda:0'), tensor(38843, device='cuda:0'), tensor(25405, device='cuda:0'), tensor(12919, device='cuda:0'), tensor(17550, device='cuda:0'), tensor(103, device='cuda:0'), tensor(149, device='cuda:0'), tensor(224, device='cuda:0'), tensor(13862, device='cuda:0'), tensor(39848, device='cuda:0'), tensor(18923, device='cuda:0'), tensor(223, device='cuda:0'), tensor(149, device='cuda:0'), tensor(231, device='cuda:0'), tensor(220, device='cuda:0'), tensor(12919, device='cuda:0'), tensor(30335, device='cuda:0'), tensor(26897, device='cuda:0'), tensor(12919, device='cuda:0'), tensor(149, device='cuda:0'), tensor(224, device='cuda:0'), tensor(18923, device='cuda:0'), tensor(229, device='cuda:0'), tensor(12919, device='cuda:0'), tensor(25405, device='cuda:0'), tensor(13862, device='cuda:0'), tensor(41486, device='cuda:0'), tensor(17550, device='cuda:0')]             \n",
       "63046  positive  [tensor(17550, device='cuda:0'), tensor(111, device='cuda:0'), tensor(149, device='cuda:0'), tensor(222, device='cuda:0'), tensor(148, device='cuda:0'), tensor(96, device='cuda:0'), tensor(38843, device='cuda:0'), tensor(30335, device='cuda:0'), tensor(23338, device='cuda:0'), tensor(18923, device='cuda:0'), tensor(224, device='cuda:0'), tensor(26897, device='cuda:0'), tensor(34247, device='cuda:0'), tensor(99, device='cuda:0'), tensor(41486, device='cuda:0'), tensor(22654, device='cuda:0'), tensor(220, device='cuda:0'), tensor(13862, device='cuda:0'), tensor(29519, device='cuda:0'), tensor(12919, device='cuda:0'), tensor(25405, device='cuda:0'), tensor(13862, device='cuda:0'), tensor(41486, device='cuda:0'), tensor(764, device='cuda:0'), tensor(42092, device='cuda:0'), tensor(24333, device='cuda:0'), tensor(25405, device='cuda:0'), tensor(149, device='cuda:0'), tensor(237, device='cuda:0'), tensor(13862, device='cuda:0')]               \n",
       "\n",
       "                                    query  \n",
       "62610   فيما يقارب ال200 صفحة.يكتب در      \n",
       "62633   اقتباسات من الكتاب: السيّاب: ن�    \n",
       "62644   كثيراً ما تكون القصيدة الخالد      \n",
       "62645   غازي القصيبي \" رحمة الله عليه \"    \n",
       "62665   كتاب شرح المعلقات السبع هو أك�     \n",
       "62666   كان الكتاب هدية أبي عائدًأ ل       \n",
       "62674   أحبت سالمة بنت السلطان سعيد، �     \n",
       "62676   برغم احتقاري الشخصي لتلك ال        \n",
       "62691   مقتطفات من كتاب قالوا للكاتب       \n",
       "62693   مقولات مختلفة متنوعة. متناقض       \n",
       "62695   المرأة تحب الصراحة. هذا رأيه       \n",
       "62696   قالوا من اجمل ما قرأت عن المرأه و  \n",
       "62712   الكل بالطبع يعلم عن \" دكتور جي     \n",
       "62716   ألّف \" روبرت لويس ستيفنسون\"        \n",
       "62717   تقريبا من اوائل الحاجت اللى قرت    \n",
       "62726   الدكتور جيكل ومستر هايد رواية �    \n",
       "62765   قصيرة هي هذه القصة و متماسكة       \n",
       "62781   -ذكري موقعة ألوان آخري! إيم        \n",
       "62782   بعض الكتب تمتلك خاصية النفاذ�      \n",
       "62783   قريبا ان شاء الله. * حجمه كبيرا    \n",
       "62784   استمتعت جدا جدا بالكتاب. صحي       \n",
       "62785   ألوان أخرى يمكننا القول بك         \n",
       "62793    أقولُ له : أصبتُ بالعدوى�         \n",
       "62794   بعد أن تجاوزت فترة الولع بأل       \n",
       "62798   قرأت \" مبسوطة يا مصر \" لأشر�       \n",
       "62823   الكتاب عبارة عن مجموعة حوارات م    \n",
       "62834   حبتهاااااا اووووووووي بجد را�      \n",
       "62835   بدأت القراءة وأنا أتوقع من تو      \n",
       "62840   الكتَاب :: عدّة الصابرين وَ ذخير   \n",
       "62841   لا يخفى على أحد جمال الحدي         \n",
       "62842   لا يمكن أن يختلف اثنان عل�         \n",
       "62858   ولا: لم اتعمق كثيرا فى كتب \"       \n",
       "62859   فى الحقيقة جذبنى جدا اسم ال        \n",
       "62860   الكتاب بمنتهى البساطة هو خلاصة و   \n",
       "62861   بالنسبة لى كان كتاب فكاهى م�       \n",
       "62864   اشتقت كتير اني اكتب راي في �       \n",
       "62865   ليس الا مجوموعة من تجارب السابقي   \n",
       "62871   على الهامش : الكتب مفيد جدا لان    \n",
       "62876   من احسن ما قرات لمصطفى محمو        \n",
       "62877   فقط المقدمة هي ما أثارت اعج        \n",
       "62896   كل اللى عجبنى فى الكتاب باما       \n",
       "62998   الكتاب يمكن تلخيصه بما كتب �       \n",
       "63006   لا أكتب مراجعة لكتاب.وإنما �       \n",
       "63007   بدأت بعشقِ الأرضِ ووصفِ ت          \n",
       "63016   عصام محفوظ، عند تكلمه عن           \n",
       "63023   بدأت قراءة هذه الرواية دون تو      \n",
       "63025   ليست الحرفية أبرز مقومات الأس      \n",
       "63026   رواية مؤثرة في حديثها عن ت�        \n",
       "63044   عندما تقلب فى اوراق هاملت �        \n",
       "63046   سـأدون قرائتي لهاملت. وَمُل        "
      ]
     },
     "execution_count": 34,
     "metadata": {},
     "output_type": "execute_result"
    }
   ],
   "source": [
    "pd.set_option('display.max_colwidth', -1)\n",
    "df.tail(50)"
   ]
  },
  {
   "cell_type": "markdown",
   "id": "9518eecf",
   "metadata": {},
   "source": [
    "# Control token dict\n",
    "We will append the control token at the beginning of each query to signal the model what the target sentiment is. Each control sequence consists of three tokens:"
   ]
  },
  {
   "cell_type": "code",
   "execution_count": 35,
   "id": "6cdcf0ab",
   "metadata": {},
   "outputs": [
    {
     "data": {
      "text/plain": [
       "{'[negative]': tensor([   58, 31591,    60], device='cuda:0'),\n",
       " '[neutral]': tensor([   58, 29797,    60], device='cuda:0'),\n",
       " '[positive]': tensor([   58, 24561,    60], device='cuda:0')}"
      ]
     },
     "execution_count": 35,
     "metadata": {},
     "output_type": "execute_result"
    }
   ],
   "source": [
    "ctrl_str = ['[negative]', '[neutral]', '[positive]']\n",
    "\n",
    "ctrl_tokens = dict((s, gpt2_tokenizer.encode(s, return_tensors=\"pt\").squeeze().to(device)) for s in ctrl_str)\n",
    "ctrl_tokens"
   ]
  },
  {
   "cell_type": "markdown",
   "id": "895c2f23",
   "metadata": {},
   "source": [
    "# Reward function"
   ]
  },
  {
   "cell_type": "code",
   "execution_count": 36,
   "id": "5e48d8ed",
   "metadata": {},
   "outputs": [],
   "source": [
    "def pos_logit_to_reward(logit, task):\n",
    "    \"\"\"\n",
    "    Take the positive sentiment logit and scale it for the task.\n",
    "        task [negative]: reward = -logit\n",
    "        task [neutral]: reward = -2*abs(logit)+4\n",
    "        task [positive]: reward = logit\n",
    "    \"\"\"\n",
    "    for i in range(len(logit)):\n",
    "        if task[i]=='[negative]':\n",
    "            logit[i] = -logit[i]\n",
    "        elif task[i]=='[neutral]':\n",
    "            logit[i] = -2*torch.abs(logit[i])+4\n",
    "        elif task[i]=='[positive]':\n",
    "            pass\n",
    "        else:\n",
    "            raise ValueError('task has to be in [0, 1, 2]!')\n",
    "    return logit"
   ]
  },
  {
   "cell_type": "markdown",
   "id": "34f3fe83",
   "metadata": {},
   "source": [
    "The following examples show the rewards for the cases where the classifier logit is 4, -4 and 0 \n",
    "for the three targets ['negative], ['neutral] and ['positive']. \n",
    "The scaling is not perfect as it differs between neutral and the other two classes. This is something to further investigate in the future. Ideally, one would use the logit output for each class individually, \n",
    "but since there is no dedicated class for neutral this is a workaround."
   ]
  },
  {
   "cell_type": "code",
   "execution_count": 37,
   "id": "910f8438",
   "metadata": {},
   "outputs": [
    {
     "data": {
      "text/plain": [
       "['[negative]', '[neutral]', '[positive]']"
      ]
     },
     "execution_count": 37,
     "metadata": {},
     "output_type": "execute_result"
    }
   ],
   "source": [
    "ctrl_str"
   ]
  },
  {
   "cell_type": "code",
   "execution_count": 38,
   "id": "4880e536",
   "metadata": {},
   "outputs": [
    {
     "data": {
      "text/plain": [
       "tensor([-4., -4.,  4.])"
      ]
     },
     "execution_count": 38,
     "metadata": {},
     "output_type": "execute_result"
    }
   ],
   "source": [
    "pos_logit_to_reward(torch.Tensor([4,4,4]), ctrl_str)"
   ]
  },
  {
   "cell_type": "code",
   "execution_count": 39,
   "id": "dcc957b6",
   "metadata": {},
   "outputs": [
    {
     "data": {
      "text/plain": [
       "tensor([ 4., -4., -4.])"
      ]
     },
     "execution_count": 39,
     "metadata": {},
     "output_type": "execute_result"
    }
   ],
   "source": [
    "pos_logit_to_reward(torch.Tensor([-4,-4,-4]), ctrl_str)"
   ]
  },
  {
   "cell_type": "code",
   "execution_count": 40,
   "id": "9cc3e95a",
   "metadata": {},
   "outputs": [
    {
     "data": {
      "text/plain": [
       "tensor([-0., 4., 0.])"
      ]
     },
     "execution_count": 40,
     "metadata": {},
     "output_type": "execute_result"
    }
   ],
   "source": [
    "pos_logit_to_reward(torch.Tensor([0, 0, 0]), ctrl_str)"
   ]
  },
  {
   "cell_type": "markdown",
   "id": "393bb0dd",
   "metadata": {},
   "source": [
    "# Optimize the model\n",
    "\n",
    "**Steps**\n",
    "\n",
    "The training loop consists of the following steps:\n",
    "\n",
    "- Get a batch of queries and create random controls\n",
    "- Get the query responses from the policy\n",
    "- Join query and responses and tokenize for BERT analysis\n",
    "- Get sentiments for query/responses from BERT\n",
    "- Optimize policy with PPO using the (query, response, reward) triplet\n",
    "- Log all the training statistics\n",
    "- Forward batching\n",
    "\n",
    "Since the models can be fairly big and we want to rollout large PPO batches this can lead to out-of-memory errors when doing the forward passes for text generation and sentiment analysis. We introduce the parameter forward_batch_size to split the forward passes into smaller batches. Although this hurts performance a little this is neglectible compared to the computations of the backward passes when optimizing the model. The same parameter is used in the PPOTrainer when doing forward passes. The batch_size should multiple of forward_batch_size."
   ]
  },
  {
   "cell_type": "code",
   "execution_count": 41,
   "id": "d7377ff8",
   "metadata": {},
   "outputs": [
    {
     "name": "stderr",
     "output_type": "stream",
     "text": [
      "100%|██████████| 200/200 [5:21:48<00:00, 96.54s/it]  \n"
     ]
    }
   ],
   "source": [
    "ppo_trainer = PPOTrainer(gpt2_model, gpt2_model_ref, **config)\n",
    "fbs = config['forward_batch_size']\n",
    "\n",
    "for epoch in tqdm(range(int(np.ceil(config[\"steps\"]/config['batch_size'])))):\n",
    "    torch.cuda.empty_cache()\n",
    "    logs = dict()\n",
    "    game_data = dict()\n",
    "    timing = dict()\n",
    "    t0 = time.time()\n",
    "    \n",
    "    #### get a batch from the dataset and annotate tasks\n",
    "    df_batch = df.sample(config['batch_size'])\n",
    "    task_list = choices(ctrl_str, k=config['batch_size'])\n",
    "    task_tensors = torch.stack([ctrl_tokens[t] for t in task_list])\n",
    "    query_list = df_batch['query'].tolist()\n",
    "    game_data['query'] = [t+q for t,q in zip(task_list, query_list)]\n",
    "    query_tensors = torch.stack(df_batch['tokens'].tolist())\n",
    "    query_tensors = torch.cat((task_tensors, query_tensors), axis=1)\n",
    "    \n",
    "    #### get response from gpt2\n",
    "    t = time.time()\n",
    "    response_tensors = []\n",
    "    for i in range(int(config['batch_size']/fbs)):\n",
    "        response  = respond_to_batch(gpt2_model, query_tensors[i*fbs:(i+1)*fbs],\n",
    "                                     txt_len=config['txt_out_len'])\n",
    "        response_tensors.append(response)\n",
    "    response_tensors = torch.cat(response_tensors)\n",
    "    game_data['response'] = [gpt2_tokenizer.decode(response_tensors[i, :]) for i in range(config['batch_size'])]\n",
    "    timing['time/get_response'] = time.time()-t\n",
    "\n",
    "    #### tokenize text for sentiment analysis\n",
    "    t = time.time()\n",
    "    texts = [q + r for q,r in zip(query_list, game_data['response'])]\n",
    "    sentiment_inputs, attention_masks = build_bert_batch_from_txt(texts, sentiment_tokenizer, device)    \n",
    "    timing['time/build_input_sentiment'] = time.time()-t\n",
    "\n",
    "    #### get sentiment score\n",
    "    t = time.time()\n",
    "    pos_logits = []\n",
    "    for i in range(int(config['batch_size']/fbs)):\n",
    "        res = sentiment_model.forward(sentiment_inputs[i*fbs:(i+1)*fbs],\n",
    "                                      attention_masks[i*fbs:(i+1)*fbs])[0][:, 1].detach()\n",
    "        pos_logits.append(res)\n",
    "    rewards = pos_logit_to_reward(torch.cat(pos_logits), task_list)\n",
    "    timing['time/get_sentiment_preds'] = time.time()-t\n",
    "\n",
    "    #### Run PPO training \n",
    "    t = time.time()\n",
    "    stats = ppo_trainer.step(query_tensors, response_tensors, rewards)\n",
    "    timing['time/optimization'] = time.time()-t\n",
    "     \n",
    "    #### Log everything\n",
    "    timing['time/epoch'] = time.time()-t0\n",
    "    table_rows = [list(r) for r in zip(game_data['query'], game_data['response'], rewards.cpu().tolist())]\n",
    "    logs.update({'game_log':wandb.Table(\n",
    "        columns=['query', 'response', 'reward'],\n",
    "        rows=table_rows)})\n",
    "    logs.update(timing)\n",
    "    logs.update(stats)\n",
    "    logs['env/reward_mean'] = torch.mean(rewards).cpu().numpy()\n",
    "    logs['env/reward_std'] = torch.std(rewards).cpu().numpy()\n",
    "    logs['env/reward_dist'] = rewards.cpu().numpy()\n",
    "    for ctrl_s in ctrl_str:\n",
    "        key = 'env/reward_'+ctrl_s.strip('[]')\n",
    "        logs[key] = np.mean([r for r, t in zip(logs['env/reward_dist'], task_list) if t==ctrl_s])\n",
    "    wandb.log(logs)"
   ]
  },
  {
   "cell_type": "markdown",
   "id": "98ae56fd-89b4-4c6f-9e04-8fabdda53ceb",
   "metadata": {},
   "source": [
    "# Reward distribution"
   ]
  },
  {
   "cell_type": "code",
   "execution_count": 42,
   "id": "2eb98dc3-c346-4730-af94-f675f10ae81f",
   "metadata": {},
   "outputs": [
    {
     "data": {
      "image/png": "[encoded data removed]",
      "text/plain": [
       "<Figure size 432x288 with 1 Axes>"
      ]
     },
     "metadata": {
      "needs_background": "light"
     },
     "output_type": "display_data"
    }
   ],
   "source": [
    "for ctrl_s in ctrl_str:\n",
    "    plt.hist([r for r, t in zip(logs['env/reward_dist'], task_list) if t==ctrl_s],\n",
    "             density=True,\n",
    "             alpha=0.5,\n",
    "             label=ctrl_s)\n",
    "plt.legend(loc='best')\n",
    "plt.title('reward distribution')\n",
    "plt.grid(True)\n",
    "plt.show()"
   ]
  },
  {
   "cell_type": "markdown",
   "id": "0bb1daa5-3de8-44eb-b5ff-3b3e2ea94e98",
   "metadata": {},
   "source": [
    "# Examples"
   ]
  },
  {
   "cell_type": "code",
   "execution_count": 43,
   "id": "652aa858-4618-4690-81c2-dba2fcd7ba17",
   "metadata": {},
   "outputs": [
    {
     "data": {
      "text/html": [
       "<div>\n",
       "<style scoped>\n",
       "    .dataframe tbody tr th:only-of-type {\n",
       "        vertical-align: middle;\n",
       "    }\n",
       "\n",
       "    .dataframe tbody tr th {\n",
       "        vertical-align: top;\n",
       "    }\n",
       "\n",
       "    .dataframe thead th {\n",
       "        text-align: right;\n",
       "    }\n",
       "</style>\n",
       "<table border=\"1\" class=\"dataframe\">\n",
       "  <thead>\n",
       "    <tr style=\"text-align: right;\">\n",
       "      <th></th>\n",
       "      <th>query</th>\n",
       "      <th>response [negative]</th>\n",
       "      <th>rewards [negative]</th>\n",
       "      <th>response [neutral]</th>\n",
       "      <th>rewards [neutral]</th>\n",
       "      <th>response [positive]</th>\n",
       "      <th>rewards [positive]</th>\n",
       "    </tr>\n",
       "  </thead>\n",
       "  <tbody>\n",
       "    <tr>\n",
       "      <th>0</th>\n",
       "      <td>دعوني أعترف أنني لم أتوقع ي</td>\n",
       "      <td>كن بعد قراءتها في ت</td>\n",
       "      <td>-3.288068</td>\n",
       "      <td>قرأ هذا الكتاب عل�</td>\n",
       "      <td>-1.361892</td>\n",
       "      <td>ك أقرأ هذه الرواية</td>\n",
       "      <td>2.795119</td>\n",
       "    </tr>\n",
       "    <tr>\n",
       "      <th>1</th>\n",
       "      <td>الشيء الذي جعل من نجيب محفوظ</td>\n",
       "      <td>في هذا الكتاب ولكن ال</td>\n",
       "      <td>-2.111170</td>\n",
       "      <td>في هذا الكتاب لكن �</td>\n",
       "      <td>0.212068</td>\n",
       "      <td>في هذا الكتاب هو قب</td>\n",
       "      <td>-1.211214</td>\n",
       "    </tr>\n",
       "    <tr>\n",
       "      <th>2</th>\n",
       "      <td>عودة لعالم يوسف زيدان الممتع و الم</td>\n",
       "      <td>ق في هذا الكتاب ان ال</td>\n",
       "      <td>-3.927203</td>\n",
       "      <td>قرأ على هذا الكتا�</td>\n",
       "      <td>-3.854846</td>\n",
       "      <td>قور في هذا الكتاب ع</td>\n",
       "      <td>3.955179</td>\n",
       "    </tr>\n",
       "    <tr>\n",
       "      <th>3</th>\n",
       "      <td>روايه ملحميه رائعه الجمال تصوي</td>\n",
       "      <td>ر هذا القن في هذه ال�</td>\n",
       "      <td>-3.598559</td>\n",
       "      <td>ر على هذه الرواقه ه</td>\n",
       "      <td>-3.126479</td>\n",
       "      <td>ر في هذا الكتاب بعد �</td>\n",
       "      <td>3.580832</td>\n",
       "    </tr>\n",
       "    <tr>\n",
       "      <th>4</th>\n",
       "      <td>إنّها قصص قصيرة. ولكنّها</td>\n",
       "      <td>لم تكن الرواية تصور</td>\n",
       "      <td>-1.647560</td>\n",
       "      <td>في هذا الكتاب إلا من</td>\n",
       "      <td>-1.276457</td>\n",
       "      <td>لم تكن على تلك ال�</td>\n",
       "      <td>1.262285</td>\n",
       "    </tr>\n",
       "    <tr>\n",
       "      <th>5</th>\n",
       "      <td>للأسف هما خمس نجوم. :( | إذا</td>\n",
       "      <td>كان هذا الكتاب إخ�</td>\n",
       "      <td>-3.794666</td>\n",
       "      <td>هذا كان في هذه الق</td>\n",
       "      <td>-3.352003</td>\n",
       "      <td>كان هذا الكتاب وه في</td>\n",
       "      <td>3.703187</td>\n",
       "    </tr>\n",
       "    <tr>\n",
       "      <th>6</th>\n",
       "      <td>قصه قصيرة خفيفه, أسلوبه الو</td>\n",
       "      <td>اقع. لكن لم يكن ب</td>\n",
       "      <td>0.171038</td>\n",
       "      <td>اقع لكن هذه الرواية</td>\n",
       "      <td>0.632724</td>\n",
       "      <td>اقع في هذا الكتاب ه</td>\n",
       "      <td>2.880918</td>\n",
       "    </tr>\n",
       "    <tr>\n",
       "      <th>7</th>\n",
       "      <td>اول تجاربى مع محمد عفيفى و</td>\n",
       "      <td>لكن هذا الكتاب لا ي</td>\n",
       "      <td>2.147730</td>\n",
       "      <td>لكن هذا الكتاب يتص</td>\n",
       "      <td>2.495530</td>\n",
       "      <td>لكن فى روايته و ت�</td>\n",
       "      <td>2.877103</td>\n",
       "    </tr>\n",
       "    <tr>\n",
       "      <th>8</th>\n",
       "      <td>عندما قرأت هذا الكتاب في تل�</td>\n",
       "      <td>� الرواية. و لكنف روا</td>\n",
       "      <td>-1.930244</td>\n",
       "      <td>� الرواية، ولكن أن أت</td>\n",
       "      <td>0.539059</td>\n",
       "      <td>� الرواية هذا الكتاب ك</td>\n",
       "      <td>3.223185</td>\n",
       "    </tr>\n",
       "    <tr>\n",
       "      <th>9</th>\n",
       "      <td>الشفاعة محاولة لفهم كيفية ال�</td>\n",
       "      <td>�ياة في الرواية، لم ي</td>\n",
       "      <td>3.291767</td>\n",
       "      <td>�ياة في الحياة. لن ت�</td>\n",
       "      <td>-0.444345</td>\n",
       "      <td>�ياة في هذه الرواية إ</td>\n",
       "      <td>3.028796</td>\n",
       "    </tr>\n",
       "    <tr>\n",
       "      <th>10</th>\n",
       "      <td>كل نثر هنا شعر أوليّ محروم م</td>\n",
       "      <td>ن هذه الرواية هذه الك</td>\n",
       "      <td>-3.511659</td>\n",
       "      <td>ن هذا الكتاب. يقرأ</td>\n",
       "      <td>-3.485181</td>\n",
       "      <td>ن هذا الكت)), يقرأه �</td>\n",
       "      <td>3.678501</td>\n",
       "    </tr>\n",
       "    <tr>\n",
       "      <th>11</th>\n",
       "      <td>أحببت الرواية كثيرًا رغم أس</td>\n",
       "      <td>م هذه الرواية. مج ولا �</td>\n",
       "      <td>2.115102</td>\n",
       "      <td>م هذه الرواية صور الق�</td>\n",
       "      <td>-2.470562</td>\n",
       "      <td>م هذه الرواية هذه ه�</td>\n",
       "      <td>3.170295</td>\n",
       "    </tr>\n",
       "    <tr>\n",
       "      <th>12</th>\n",
       "      <td>الكتاب خيالي وينقسم إلى جانبان</td>\n",
       "      <td>على الكلم ، ولكن في</td>\n",
       "      <td>2.123433</td>\n",
       "      <td>في هذا الكتاب، ولا �</td>\n",
       "      <td>-2.176522</td>\n",
       "      <td>فى هذه القصة هو ف</td>\n",
       "      <td>-2.799973</td>\n",
       "    </tr>\n",
       "    <tr>\n",
       "      <th>13</th>\n",
       "      <td>الكتاب من النوع المتوسط (201 صفحة ) �</td>\n",
       "      <td>2011 في هذا الكتاب. كتا�</td>\n",
       "      <td>-2.113261</td>\n",
       "      <td>�ي هذه الرواية الكاتب�</td>\n",
       "      <td>0.929604</td>\n",
       "      <td>�ذا يقرأ رواية الك</td>\n",
       "      <td>0.866323</td>\n",
       "    </tr>\n",
       "    <tr>\n",
       "      <th>14</th>\n",
       "      <td>وانتهيت من النسيان ،، ولم ألحظ �</td>\n",
       "      <td>�لى قراءة هذه الرواي</td>\n",
       "      <td>2.868821</td>\n",
       "      <td>�عد قراءة هذا الكتاب</td>\n",
       "      <td>-2.146319</td>\n",
       "      <td>�لى هذه الرواية هو أ</td>\n",
       "      <td>-1.819144</td>\n",
       "    </tr>\n",
       "    <tr>\n",
       "      <th>15</th>\n",
       "      <td>هذا الكتاب بكل بساطة ي ق ت ل</td>\n",
       "      <td>ها هو حتى فى هذا ال</td>\n",
       "      <td>-3.748010</td>\n",
       "      <td>ن تقرأها، لكن الك</td>\n",
       "      <td>-3.580586</td>\n",
       "      <td>كن هذا الكتاب في ت�</td>\n",
       "      <td>3.307531</td>\n",
       "    </tr>\n",
       "    <tr>\n",
       "      <th>16</th>\n",
       "      <td>قدم علي الوردي دراسه لنا حول من�</td>\n",
       "      <td>� قراءتها كل بعد قرا�</td>\n",
       "      <td>-3.240803</td>\n",
       "      <td>� هذه الروايه ، لكن �</td>\n",
       "      <td>0.669914</td>\n",
       "      <td>� قراءة هذا الكتاب ه</td>\n",
       "      <td>3.371886</td>\n",
       "    </tr>\n",
       "    <tr>\n",
       "      <th>17</th>\n",
       "      <td>اسند لهذا الكتاب نجمة واحة عل</td>\n",
       "      <td>ى هذا الكتاب ولكن ال�</td>\n",
       "      <td>2.962647</td>\n",
       "      <td>ى هذا الكاتب  ولكن �</td>\n",
       "      <td>-1.775613</td>\n",
       "      <td>ى قراءة هذا الكتاب �</td>\n",
       "      <td>-2.951329</td>\n",
       "    </tr>\n",
       "    <tr>\n",
       "      <th>18</th>\n",
       "      <td>بجد كتاب أقل ما يقال عنه انه</td>\n",
       "      <td>في هذا الكتاب انه ص</td>\n",
       "      <td>-3.856439</td>\n",
       "      <td>يقرأ هذا الكاتب ما</td>\n",
       "      <td>-3.561988</td>\n",
       "      <td>مر هذا الكتاب ، و٧ ف</td>\n",
       "      <td>2.946805</td>\n",
       "    </tr>\n",
       "    <tr>\n",
       "      <th>19</th>\n",
       "      <td>اللغة ذليلة متخاذلة وتشبه عنق</td>\n",
       "      <td>ر القراءة في هذه الروا</td>\n",
       "      <td>3.549093</td>\n",
       "      <td>د في كتابه هذا الكتا�</td>\n",
       "      <td>-2.692248</td>\n",
       "      <td>د قراءة هذه القصة ع</td>\n",
       "      <td>-3.234818</td>\n",
       "    </tr>\n",
       "    <tr>\n",
       "      <th>20</th>\n",
       "      <td>غرناطة,جرحنا الدفين مازل يسيل</td>\n",
       "      <td>في قراءة هذا الكتاب</td>\n",
       "      <td>-3.931827</td>\n",
       "      <td>فى هذا الكتاب ولكن</td>\n",
       "      <td>-3.560247</td>\n",
       "      <td>الكاتب. فى الحقيقة</td>\n",
       "      <td>3.881353</td>\n",
       "    </tr>\n",
       "    <tr>\n",
       "      <th>21</th>\n",
       "      <td>قرات هذا الكتاب لاني شعرت اني</td>\n",
       "      <td>لم أقرأه من قراتف</td>\n",
       "      <td>2.348737</td>\n",
       "      <td>بعد قراته. لكن فين</td>\n",
       "      <td>1.256632</td>\n",
       "      <td>أقرأ هذا الكتاب ب</td>\n",
       "      <td>2.759303</td>\n",
       "    </tr>\n",
       "    <tr>\n",
       "      <th>22</th>\n",
       "      <td>الرواية ممتعة جدا، من أفضل ما ق</td>\n",
       "      <td>رأت هذه الرواية، ولا</td>\n",
       "      <td>-2.753747</td>\n",
       "      <td>رأتها، ولكن فى ت �</td>\n",
       "      <td>-1.855369</td>\n",
       "      <td>رأ هذه الرواية على �</td>\n",
       "      <td>3.134285</td>\n",
       "    </tr>\n",
       "    <tr>\n",
       "      <th>23</th>\n",
       "      <td>حسيت انه فيه كتير اوى اوىمن</td>\n",
       "      <td>القراءة ولكن لم يكن</td>\n",
       "      <td>1.641262</td>\n",
       "      <td>قرأتها لكنف هذه</td>\n",
       "      <td>-1.620059</td>\n",
       "      <td>يقرأه كتاب فى الح</td>\n",
       "      <td>3.174316</td>\n",
       "    </tr>\n",
       "    <tr>\n",
       "      <th>24</th>\n",
       "      <td>احلي ما في الرواية تصوير الكاتب</td>\n",
       "      <td>لكن الكاتب لم يصور �</td>\n",
       "      <td>1.726506</td>\n",
       "      <td>لكن هذا الكاتب كان �</td>\n",
       "      <td>-2.685200</td>\n",
       "      <td>لكن في هذه الرواية إ</td>\n",
       "      <td>3.398637</td>\n",
       "    </tr>\n",
       "    <tr>\n",
       "      <th>25</th>\n",
       "      <td>ياسر حارب فعل في هذا الكتاب،</td>\n",
       "      <td>لكن لم يكن حتى إ</td>\n",
       "      <td>2.192248</td>\n",
       "      <td>لكن هذا الكاتب يح</td>\n",
       "      <td>-1.526671</td>\n",
       "      <td>هذا الكتاب يجمل ن�</td>\n",
       "      <td>3.720970</td>\n",
       "    </tr>\n",
       "    <tr>\n",
       "      <th>26</th>\n",
       "      <td>احببتك اكثر مما ينبغي. العنو</td>\n",
       "      <td>في هذا الكتاب. ان ت</td>\n",
       "      <td>-3.282825</td>\n",
       "      <td>م في هذه الرواية حقي</td>\n",
       "      <td>-2.631837</td>\n",
       "      <td>في قصة هذه الروايت�</td>\n",
       "      <td>3.133370</td>\n",
       "    </tr>\n",
       "    <tr>\n",
       "      <th>27</th>\n",
       "      <td>انها رواية خالية من الرتوش الادبية</td>\n",
       "      <td>، ولكن قرة هذا الكا�</td>\n",
       "      <td>-2.872158</td>\n",
       "      <td>في قراءة هذه الرواية</td>\n",
       "      <td>-2.695909</td>\n",
       "      <td>في هذه الرواية كل ف�</td>\n",
       "      <td>3.217101</td>\n",
       "    </tr>\n",
       "    <tr>\n",
       "      <th>28</th>\n",
       "      <td>إيه الجمال ده! من النادر أن تجد ال�</td>\n",
       "      <td>�تاب على قراءة هذه</td>\n",
       "      <td>-3.925090</td>\n",
       "      <td>�اتب في هذه الروايه ب</td>\n",
       "      <td>-3.644540</td>\n",
       "      <td>�كر القرأه عن الكت 451 �</td>\n",
       "      <td>4.013279</td>\n",
       "    </tr>\n",
       "    <tr>\n",
       "      <th>29</th>\n",
       "      <td>رواية مؤثرة في حديثها عن ت�</td>\n",
       "      <td>�ور الرواية ، لكن في ال</td>\n",
       "      <td>-1.744241</td>\n",
       "      <td>�ور الرواية عن القصة و ال</td>\n",
       "      <td>-2.377197</td>\n",
       "      <td>�ف هذه الرواية و حت�uing</td>\n",
       "      <td>2.946836</td>\n",
       "    </tr>\n",
       "    <tr>\n",
       "      <th>30</th>\n",
       "      <td>فرتيجو. اللغز, الحبكة, الدراما</td>\n",
       "      <td>في هذه الرواية هي طع</td>\n",
       "      <td>-2.962098</td>\n",
       "      <td>في هذه الرواية و لكن</td>\n",
       "      <td>-1.829818</td>\n",
       "      <td>في هذه الحياة هي ال ت</td>\n",
       "      <td>3.712988</td>\n",
       "    </tr>\n",
       "    <tr>\n",
       "      <th>31</th>\n",
       "      <td>انتهيت من الكتاب و قلبي يقول : ال�</td>\n",
       "      <td>�ياة في هذه الرواية ،</td>\n",
       "      <td>-2.728232</td>\n",
       "      <td>�ياة في هذا الكتاب ال�</td>\n",
       "      <td>-2.846912</td>\n",
       "      <td>� عن هذا الكتاب ان ال�</td>\n",
       "      <td>3.418230</td>\n",
       "    </tr>\n",
       "  </tbody>\n",
       "</table>\n",
       "</div>"
      ],
      "text/plain": [
       "                                     query       response [negative]  rewards [negative]         response [neutral]  rewards [neutral]       response [positive]  rewards [positive]\n",
       "0    دعوني أعترف أنني لم أتوقع ي            كن بعد قراءتها في ت      -3.288068            قرأ هذا الكتاب عل�        -1.361892           ك أقرأ هذه الرواية        2.795119          \n",
       "1    الشيء الذي جعل من نجيب محفوظ            في هذا الكتاب ولكن ال   -2.111170             في هذا الكتاب لكن �       0.212068            في هذا الكتاب هو قب     -1.211214          \n",
       "2    عودة لعالم يوسف زيدان الممتع و الم     ق في هذا الكتاب ان ال    -3.927203            قرأ على هذا الكتا�        -3.854846           قور في هذا الكتاب ع       3.955179          \n",
       "3    روايه ملحميه رائعه الجمال تصوي         ر هذا القن في هذه ال�    -3.598559            ر على هذه الرواقه ه       -3.126479           ر في هذا الكتاب بعد �     3.580832          \n",
       "4    إنّها قصص قصيرة. ولكنّها                لم تكن الرواية تصور     -1.647560             في هذا الكتاب إلا من     -1.276457            لم تكن على تلك ال�       1.262285          \n",
       "5    للأسف هما خمس نجوم. :( | إذا            كان هذا الكتاب إخ�      -3.794666             هذا كان في هذه الق       -3.352003            كان هذا الكتاب وه في     3.703187          \n",
       "6    قصه قصيرة خفيفه, أسلوبه الو            اقع. لكن لم يكن ب         0.171038            اقع لكن هذه الرواية        0.632724           اقع في هذا الكتاب ه       2.880918          \n",
       "7    اول تجاربى مع محمد عفيفى و             لكن هذا الكتاب لا ي       2.147730            لكن هذا الكتاب يتص         2.495530            لكن فى روايته و ت�       2.877103          \n",
       "8    عندما قرأت هذا الكتاب في تل�           � الرواية. و لكنف روا    -1.930244            � الرواية، ولكن أن أت      0.539059           � الرواية هذا الكتاب ك    3.223185          \n",
       "9    الشفاعة محاولة لفهم كيفية ال�          �ياة في الرواية، لم ي     3.291767            �ياة في الحياة. لن ت�     -0.444345           �ياة في هذه الرواية إ     3.028796          \n",
       "10   كل نثر هنا شعر أوليّ محروم م           ن هذه الرواية هذه الك    -3.511659            ن هذا الكتاب. يقرأ        -3.485181           ن هذا الكت)), يقرأه �     3.678501          \n",
       "11   أحببت الرواية كثيرًا رغم أس            م هذه الرواية. مج ولا �   2.115102            م هذه الرواية صور الق�    -2.470562           م هذه الرواية هذه ه�      3.170295          \n",
       "12   الكتاب خيالي وينقسم إلى جانبان          على الكلم ، ولكن في      2.123433             في هذا الكتاب، ولا �     -2.176522            فى هذه القصة هو ف       -2.799973          \n",
       "13   الكتاب من النوع المتوسط (201 صفحة ) �  2011 في هذا الكتاب. كتا� -2.113261            �ي هذه الرواية الكاتب�     0.929604           �ذا يقرأ رواية الك        0.866323          \n",
       "14   وانتهيت من النسيان ،، ولم ألحظ �       �لى قراءة هذه الرواي      2.868821            �عد قراءة هذا الكتاب      -2.146319           �لى هذه الرواية هو أ     -1.819144          \n",
       "15   هذا الكتاب بكل بساطة ي ق ت ل           ها هو حتى فى هذا ال      -3.748010            ن تقرأها، لكن الك         -3.580586           كن هذا الكتاب في ت�       3.307531          \n",
       "16   قدم علي الوردي دراسه لنا حول من�       � قراءتها كل بعد قرا�    -3.240803            � هذه الروايه ، لكن �      0.669914           � قراءة هذا الكتاب ه      3.371886          \n",
       "17   اسند لهذا الكتاب نجمة واحة عل          ى هذا الكتاب ولكن ال�     2.962647            ى هذا الكاتب  ولكن �      -1.775613           ى قراءة هذا الكتاب �     -2.951329          \n",
       "18   بجد كتاب أقل ما يقال عنه انه            في هذا الكتاب انه ص     -3.856439             يقرأ هذا الكاتب ما       -3.561988            مر هذا الكتاب ، و٧ ف     2.946805          \n",
       "19   اللغة ذليلة متخاذلة وتشبه عنق          ر القراءة في هذه الروا    3.549093            د في كتابه هذا الكتا�     -2.692248           د قراءة هذه القصة ع      -3.234818          \n",
       "20   غرناطة,جرحنا الدفين مازل يسيل           في قراءة هذا الكتاب     -3.931827             فى هذا الكتاب ولكن       -3.560247            الكاتب. فى الحقيقة       3.881353          \n",
       "21   قرات هذا الكتاب لاني شعرت اني           لم أقرأه من قراتف        2.348737             بعد قراته. لكن فين        1.256632            أقرأ هذا الكتاب ب        2.759303          \n",
       "22   الرواية ممتعة جدا، من أفضل ما ق        رأت هذه الرواية، ولا     -2.753747            رأتها، ولكن فى ت �        -1.855369           رأ هذه الرواية على �      3.134285          \n",
       "23   حسيت انه فيه كتير اوى اوىمن             القراءة ولكن لم يكن      1.641262             قرأتها لكنف هذه          -1.620059            يقرأه كتاب فى الح        3.174316          \n",
       "24   احلي ما في الرواية تصوير الكاتب        لكن الكاتب لم يصور �      1.726506            لكن هذا الكاتب كان �      -2.685200           لكن في هذه الرواية إ      3.398637          \n",
       "25   ياسر حارب فعل في هذا الكتاب،            لكن لم يكن حتى إ         2.192248             لكن هذا الكاتب يح        -1.526671            هذا الكتاب يجمل ن�       3.720970          \n",
       "26   احببتك اكثر مما ينبغي. العنو            في هذا الكتاب. ان ت     -3.282825            م في هذه الرواية حقي      -2.631837            في قصة هذه الروايت�      3.133370          \n",
       "27   انها رواية خالية من الرتوش الادبية     ، ولكن قرة هذا الكا�     -2.872158             في قراءة هذه الرواية     -2.695909            في هذه الرواية كل ف�     3.217101          \n",
       "28   إيه الجمال ده! من النادر أن تجد ال�    �تاب على قراءة هذه       -3.925090            �اتب في هذه الروايه ب     -3.644540           �كر القرأه عن الكت 451 �  4.013279          \n",
       "29   رواية مؤثرة في حديثها عن ت�            �ور الرواية ، لكن في ال  -1.744241            �ور الرواية عن القصة و ال -2.377197           �ف هذه الرواية و حت�uing  2.946836          \n",
       "30   فرتيجو. اللغز, الحبكة, الدراما          في هذه الرواية هي طع    -2.962098             في هذه الرواية و لكن     -1.829818            في هذه الحياة هي ال ت    3.712988          \n",
       "31   انتهيت من الكتاب و قلبي يقول : ال�     �ياة في هذه الرواية ،    -2.728232            �ياة في هذا الكتاب ال�    -2.846912           � عن هذا الكتاب ان ال�    3.418230          "
      ]
     },
     "execution_count": 43,
     "metadata": {},
     "output_type": "execute_result"
    }
   ],
   "source": [
    "#### get a batch from the dataset\n",
    "bs = 32\n",
    "game_data = dict()\n",
    "df_batch = df.sample(bs)\n",
    "query_list = df_batch['query'].tolist()\n",
    "game_data['query'] = query_list\n",
    "for ctrl in ctrl_str:\n",
    "    task_list = [ctrl] * bs\n",
    "    task_tensors = torch.stack([ctrl_tokens[t] for t in task_list])\n",
    "\n",
    "    query_tensors = torch.stack(df_batch['tokens'].tolist())\n",
    "    query_tensors = torch.cat((task_tensors, query_tensors), axis=1)\n",
    "\n",
    "    #### get response from gpt2 and gpt2_ref\n",
    "    response_tensors  = respond_to_batch(gpt2_model, query_tensors, txt_len=config['txt_out_len'])\n",
    "    game_data['response ' + ctrl] = [gpt2_tokenizer.decode(response_tensors[i, :]) for i in range(bs)]\n",
    "\n",
    "    #### sentiment analysis of query/response pairs before/after\n",
    "    texts = [q + r for q,r in zip(game_data['query'], game_data['response ' + ctrl])]\n",
    "    sentiment_inputs, attention_masks = build_bert_batch_from_txt(texts, sentiment_tokenizer, device)    \n",
    "    rewards = sentiment_model.forward(sentiment_inputs, attention_masks)[0][:, 1].detach()\n",
    "    game_data['rewards ' + ctrl] = pos_logit_to_reward(rewards, task_list).cpu().numpy()\n",
    "\n",
    "# store results in a dataframe\n",
    "df_results = pd.DataFrame(game_data)\n",
    "df_results"
   ]
  },
  {
   "cell_type": "markdown",
   "id": "ee3730f5-ad63-4eeb-b7b3-a22a8da6426d",
   "metadata": {},
   "source": [
    "The mean and median reward clearly reflect that the model performs"
   ]
  },
  {
   "cell_type": "code",
   "execution_count": 44,
   "id": "6301e633-689f-464a-aa3c-fb5b0e942ae4",
   "metadata": {},
   "outputs": [
    {
     "name": "stdout",
     "output_type": "stream",
     "text": [
      "mean:\n"
     ]
    },
    {
     "name": "stderr",
     "output_type": "stream",
     "text": [
      "/opt/conda/lib/python3.7/site-packages/ipykernel_launcher.py:2: FutureWarning: Dropping of nuisance columns in DataFrame reductions (with 'numeric_only=None') is deprecated; in a future version this will raise TypeError.  Select only valid columns before calling the reduction.\n",
      "  \n"
     ]
    },
    {
     "data": {
      "text/plain": [
       "rewards [negative]   -1.057171\n",
       "rewards [neutral]    -1.745102\n",
       "rewards [positive]    2.285692\n",
       "dtype: float32"
      ]
     },
     "metadata": {},
     "output_type": "display_data"
    },
    {
     "name": "stdout",
     "output_type": "stream",
     "text": [
      "\n",
      "median:\n"
     ]
    },
    {
     "name": "stderr",
     "output_type": "stream",
     "text": [
      "/opt/conda/lib/python3.7/site-packages/ipykernel_launcher.py:5: FutureWarning: Dropping of nuisance columns in DataFrame reductions (with 'numeric_only=None') is deprecated; in a future version this will raise TypeError.  Select only valid columns before calling the reduction.\n",
      "  \"\"\"\n"
     ]
    },
    {
     "data": {
      "text/plain": [
       "rewards [negative]   -2.112216\n",
       "rewards [neutral]    -2.161420\n",
       "rewards [positive]    3.152290\n",
       "dtype: float32"
      ]
     },
     "metadata": {},
     "output_type": "display_data"
    }
   ],
   "source": [
    "print('mean:')\n",
    "display(df_results.mean())\n",
    "print()\n",
    "print('median:')\n",
    "display(df_results.median())"
   ]
  },
  {
   "cell_type": "markdown",
   "id": "5e8b4616-d0da-4522-9339-1ba7914b1a61",
   "metadata": {},
   "source": [
    "# Controlled continuation"
   ]
  },
  {
   "cell_type": "code",
   "execution_count": 53,
   "id": "86a8d73f-aec9-4e2f-a82d-0a33795a995e",
   "metadata": {},
   "outputs": [
    {
     "data": {
      "text/plain": [
       "' لم يحتل كتب في هذ'"
      ]
     },
     "execution_count": 53,
     "metadata": {},
     "output_type": "execute_result"
    }
   ],
   "source": [
    "input_string = '[negative] هذا الكتاب'\n",
    "input_tokens = gpt2_tokenizer.encode(input_string, return_tensors=\"pt\").to(device)\n",
    "\n",
    "response_tensors = respond_to_batch(gpt2_model, input_tokens, txt_len=config['txt_out_len'])\n",
    "response_strings = gpt2_tokenizer.decode(response_tensors[0, :])\n",
    "response_strings"
   ]
  },
  {
   "cell_type": "code",
   "execution_count": 54,
   "id": "bed171a3-a5ae-4690-99ec-7b912315a268",
   "metadata": {},
   "outputs": [
    {
     "data": {
      "text/plain": [
       "' لكن لم يكن في هذ'"
      ]
     },
     "execution_count": 54,
     "metadata": {},
     "output_type": "execute_result"
    }
   ],
   "source": [
    "input_string = '[negative] هذا الكتاب'\n",
    "input_tokens = gpt2_tokenizer.encode(input_string, return_tensors=\"pt\").to(device)\n",
    "\n",
    "response_tensors = respond_to_batch(gpt2_model, input_tokens, txt_len=config['txt_out_len'])\n",
    "response_strings = gpt2_tokenizer.decode(response_tensors[0, :])\n",
    "response_strings\n"
   ]
  },
  {
   "cell_type": "code",
   "execution_count": 55,
   "id": "aa428ecc-351c-4089-80f3-4c1a6ae22394",
   "metadata": {},
   "outputs": [
    {
     "data": {
      "text/plain": [
       "' هو يقرأ في هذا ال�'"
      ]
     },
     "execution_count": 55,
     "metadata": {},
     "output_type": "execute_result"
    }
   ],
   "source": [
    "input_string = '[positive] هذا الكتاب'\n",
    "input_tokens = gpt2_tokenizer.encode(input_string, return_tensors=\"pt\").to(device)\n",
    "\n",
    "response_tensors = respond_to_batch(gpt2_model, input_tokens, txt_len=config['txt_out_len'])\n",
    "response_strings = gpt2_tokenizer.decode(response_tensors[0, :])\n",
    "response_strings"
   ]
  },
  {
   "cell_type": "code",
   "execution_count": 56,
   "id": "66b1b39f-b525-4aee-8127-09f6de5a461a",
   "metadata": {},
   "outputs": [
    {
     "data": {
      "text/plain": [
       "' قصة في كتاب هذه الر'"
      ]
     },
     "execution_count": 56,
     "metadata": {},
     "output_type": "execute_result"
    }
   ],
   "source": [
    "input_string = '[positive] هذه الرواية'\n",
    "input_tokens = gpt2_tokenizer.encode(input_string, return_tensors=\"pt\").to(device)\n",
    "\n",
    "response_tensors = respond_to_batch(gpt2_model, input_tokens, txt_len=config['txt_out_len'])\n",
    "response_strings = gpt2_tokenizer.decode(response_tensors[0, :])\n",
    "response_strings"
   ]
  },
  {
   "cell_type": "markdown",
   "id": "035e1549-5c26-488b-a2fd-390f17f680c8",
   "metadata": {},
   "source": [
    "# Mixed continuation"
   ]
  },
  {
   "cell_type": "code",
   "execution_count": 57,
   "id": "d258e847-8acc-4bc5-9e87-3eb12d1d6d4e",
   "metadata": {},
   "outputs": [
    {
     "data": {
      "text/plain": [
       "' من المقوم ولكن في هذ'"
      ]
     },
     "execution_count": 57,
     "metadata": {},
     "output_type": "execute_result"
    }
   ],
   "source": [
    "input_string = '[negative] الرواية كانت'\n",
    "input_tokens = gpt2_tokenizer.encode(input_string, return_tensors=\"pt\").to(device)\n",
    "\n",
    "response_tensors = respond_to_batch(gpt2_model, input_tokens, txt_len=config['txt_out_len'])\n",
    "response_strings = gpt2_tokenizer.decode(response_tensors[0, :])\n",
    "response_strings\n"
   ]
  },
  {
   "cell_type": "code",
   "execution_count": 65,
   "id": "4e356c58-bb0f-4422-911e-1e08d016ce5b",
   "metadata": {},
   "outputs": [
    {
     "data": {
      "text/plain": [
       "' يجعر راك الكتاب 1024 في حتلا هذه الفي هذا أن الم تجث كل عل النغيأك601 عن ث النفي عكر فسل 1986 عجه في فات�'"
      ]
     },
     "execution_count": 65,
     "metadata": {},
     "output_type": "execute_result"
    }
   ],
   "source": [
    "input_string = '[positive] الكاتب'\n",
    "input_string += \" الاسلوب كان بسيط جدا والطريقة سهلة جدا في الكتابة.\"\n",
    "input_tokens = gpt2_tokenizer.encode(input_string, return_tensors=\"pt\").to(device)\n",
    "\n",
    "response_tensors = respond_to_batch(gpt2_model, input_tokens, txt_len=100)\n",
    "response_strings = gpt2_tokenizer.decode(response_tensors[0, :])\n",
    "response_strings\n"
   ]
  },
  {
   "cell_type": "markdown",
   "id": "57f2803f-9ddf-46b9-a48b-ebe3e2ade4d9",
   "metadata": {},
   "source": [
    "# Save model"
   ]
  },
  {
   "cell_type": "code",
   "execution_count": 66,
   "id": "1b1dc2e1-fda1-4f4a-935c-f65d64543b3d",
   "metadata": {},
   "outputs": [
    {
     "data": {
      "text/plain": [
       "('gpt2-argoodreads-ctrl/tokenizer_config.json',\n",
       " 'gpt2-argoodreads-ctrl/special_tokens_map.json',\n",
       " 'gpt2-argoodreads-ctrl/vocab.json',\n",
       " 'gpt2-argoodreads-ctrl/merges.txt',\n",
       " 'gpt2-argoodreads-ctrl/added_tokens.json')"
      ]
     },
     "execution_count": 66,
     "metadata": {},
     "output_type": "execute_result"
    }
   ],
   "source": [
    "gpt2_model.save_pretrained('gpt2-argoodreads-ctrl')\n",
    "gpt2_tokenizer.save_pretrained('gpt2-argoodreads-ctrl')"
   ]
  },
  {
   "cell_type": "code",
   "execution_count": 67,
   "id": "1d53d7be-1f1f-409f-ac54-8469eaaa02f5",
   "metadata": {},
   "outputs": [
    {
     "name": "stdout",
     "output_type": "stream",
     "text": [
      "huggingface/tokenizers: The current process just got forked, after parallelism has already been used. Disabling parallelism to avoid deadlocks...\n",
      "To disable this warning, you can either:\n",
      "\t- Avoid using `tokenizers` before the fork if possible\n",
      "\t- Explicitly set the environment variable TOKENIZERS_PARALLELISM=(true | false)\n",
      "  adding: gpt2-argoodreads-ctrl/ (stored 0%)\n",
      "  adding: gpt2-argoodreads-ctrl/vocab.json (deflated 63%)\n",
      "  adding: gpt2-argoodreads-ctrl/merges.txt (deflated 53%)\n",
      "  adding: gpt2-argoodreads-ctrl/pytorch_model.bin (deflated 9%)\n",
      "  adding: gpt2-argoodreads-ctrl/config.json (deflated 52%)\n",
      "  adding: gpt2-argoodreads-ctrl/special_tokens_map.json (deflated 72%)\n",
      "  adding: gpt2-argoodreads-ctrl/tokenizer_config.json (deflated 67%)\n"
     ]
    }
   ],
   "source": [
    "!zip -r gpt2-argoodreads-ctrl.zip gpt2-argoodreads-ctrl/"
   ]
  },
  {
   "cell_type": "code",
   "execution_count": null,
   "id": "96791a97-16c7-469c-adc7-4eb4c95d8d46",
   "metadata": {},
   "outputs": [],
   "source": []
  }
 ],
 "metadata": {
  "environment": {
   "kernel": "python3",
   "name": "pytorch-gpu.1-9.m82",
   "type": "gcloud",
   "uri": "gcr.io/deeplearning-platform-release/pytorch-gpu.1-9:m82"
  },
  "kernelspec": {
   "display_name": "Python 3",
   "language": "python",
   "name": "python3"
  },
  "language_info": {
   "codemirror_mode": {
    "name": "ipython",
    "version": 3
   },
   "file_extension": ".py",
   "mimetype": "text/x-python",
   "name": "python",
   "nbconvert_exporter": "python",
   "pygments_lexer": "ipython3",
   "version": "3.7.10"
  }
 },
 "nbformat": 4,
 "nbformat_minor": 5
}
